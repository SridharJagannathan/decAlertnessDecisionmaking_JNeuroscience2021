{
 "cells": [
  {
   "cell_type": "code",
   "execution_count": 1,
   "metadata": {},
   "outputs": [],
   "source": [
    "%load_ext rpy2.ipython"
   ]
  },
  {
   "cell_type": "code",
   "execution_count": 2,
   "metadata": {},
   "outputs": [],
   "source": [
    "import pandas as pd\n",
    "import scipy.io as io\n",
    "import matplotlib.pyplot as plt\n",
    "import matplotlib.pylab as pylab\n",
    "import numpy as np\n",
    "from matplotlib import gridspec\n",
    "import seaborn as sns\n",
    "import datetime\n",
    "from datetime import datetime, timedelta\n",
    "import pickle\n",
    "import itertools\n",
    "import glob"
   ]
  },
  {
   "cell_type": "code",
   "execution_count": 3,
   "metadata": {},
   "outputs": [
    {
     "name": "stdout",
     "output_type": "stream",
     "text": [
      "NULL\n"
     ]
    }
   ],
   "source": [
    "%%R\n",
    "# install.packages(\"BayesFactor\", repos='http://cran.us.r-project.org')"
   ]
  },
  {
   "cell_type": "code",
   "execution_count": 4,
   "metadata": {},
   "outputs": [],
   "source": [
    "%%R\n",
    "rm(list = ls())  #remove elements from current workspace"
   ]
  },
  {
   "cell_type": "code",
   "execution_count": 5,
   "metadata": {},
   "outputs": [],
   "source": [
    "import rpy2.robjects as robjects\n",
    "from rpy2.robjects.packages import importr\n",
    "from rpy2.robjects import pandas2ri"
   ]
  },
  {
   "cell_type": "code",
   "execution_count": 6,
   "metadata": {},
   "outputs": [
    {
     "name": "stderr",
     "output_type": "stream",
     "text": [
      "/home/srj34/jupyter-env/lib/python3.6/site-packages/outdated/utils.py:18: OutdatedPackageWarning: The package pingouin is out of date. Your version is 0.3.12, the latest is 0.4.0.\n",
      "Set the environment variable OUTDATED_IGNORE=1 to disable these warnings.\n",
      "  **kwargs\n"
     ]
    }
   ],
   "source": [
    "import matplotlib.dates as dates\n",
    "from scipy import stats\n",
    "import pingouin as pg\n",
    "from scipy.stats import variation\n",
    "import math\n",
    "from sklearn import preprocessing\n",
    "from scipy.signal import butter, filtfilt\n",
    "import itertools"
   ]
  },
  {
   "cell_type": "code",
   "execution_count": 7,
   "metadata": {},
   "outputs": [],
   "source": [
    "import matplotlib.pyplot as plt\n",
    "#font = {'family': 'serif', 'serif': ['Palatino']}\n",
    "font = {'family': 'serif', 'serif': ['Helvetica']}\n",
    "plt.rc('font', **font)\n",
    "plt.rc('text', usetex=False)"
   ]
  },
  {
   "cell_type": "code",
   "execution_count": 8,
   "metadata": {},
   "outputs": [],
   "source": [
    "label_fontsize = 16\n",
    "title_fontsize = 16"
   ]
  },
  {
   "cell_type": "code",
   "execution_count": 9,
   "metadata": {},
   "outputs": [],
   "source": [
    "#Set up parameters for figure display\n",
    "params = {'legend.fontsize': 'x-large',\n",
    "          'figure.figsize': (8, 8),\n",
    "         'axes.labelsize': 'x-large',\n",
    "         'axes.titlesize':'x-large',\n",
    "         'axes.labelweight': 'bold',\n",
    "         'xtick.labelsize':'x-large',\n",
    "         'ytick.labelsize':'x-large'}\n",
    "\n",
    "pylab.rcParams.update(params)\n",
    "pylab.rcParams[\"font.family\"] = \"serif\"\n",
    "pylab.rcParams[\"font.weight\"] = \"heavy\"\n",
    "#pylab.rcParams.update({'figure.autolayout': True})"
   ]
  },
  {
   "cell_type": "code",
   "execution_count": 10,
   "metadata": {},
   "outputs": [],
   "source": [
    "sns.set(font_scale=1.25, style=\"whitegrid\")"
   ]
  },
  {
   "cell_type": "code",
   "execution_count": 11,
   "metadata": {},
   "outputs": [],
   "source": [
    "base_dir = '/rds/project/tb419/rds-tb419-bekinschtein/Sri/SpatialAttention_Drowsiness/'\n",
    "beh_files = 'decAlertnessDecisionmaking_JNeuroscience2021/beh_data/csv_files/'\n",
    "output_dir = 'decAlertnessDecisionmaking_JNeuroscience2021/Figures/'"
   ]
  },
  {
   "cell_type": "code",
   "execution_count": 12,
   "metadata": {},
   "outputs": [],
   "source": [
    "#read the csv file first (created by process_sdt)\n",
    "sdt_file = 'sdt.csv'\n",
    "sdt_data = pd.read_csv(base_dir + beh_files + sdt_file)"
   ]
  },
  {
   "cell_type": "code",
   "execution_count": 13,
   "metadata": {},
   "outputs": [
    {
     "data": {
      "text/html": [
       "<div>\n",
       "<style scoped>\n",
       "    .dataframe tbody tr th:only-of-type {\n",
       "        vertical-align: middle;\n",
       "    }\n",
       "\n",
       "    .dataframe tbody tr th {\n",
       "        vertical-align: top;\n",
       "    }\n",
       "\n",
       "    .dataframe thead th {\n",
       "        text-align: right;\n",
       "    }\n",
       "</style>\n",
       "<table border=\"1\" class=\"dataframe\">\n",
       "  <thead>\n",
       "    <tr style=\"text-align: right;\">\n",
       "      <th></th>\n",
       "      <th>Subj_id</th>\n",
       "      <th>Condition</th>\n",
       "      <th>hit_rate</th>\n",
       "      <th>fa_rate</th>\n",
       "      <th>d_prime</th>\n",
       "      <th>criterion</th>\n",
       "      <th>beta</th>\n",
       "    </tr>\n",
       "  </thead>\n",
       "  <tbody>\n",
       "    <tr>\n",
       "      <th>0</th>\n",
       "      <td>s_02</td>\n",
       "      <td>Alert</td>\n",
       "      <td>0.870968</td>\n",
       "      <td>0.016129</td>\n",
       "      <td>3.272176</td>\n",
       "      <td>0.505110</td>\n",
       "      <td>5.221630</td>\n",
       "    </tr>\n",
       "    <tr>\n",
       "      <th>1</th>\n",
       "      <td>s_02</td>\n",
       "      <td>Drowsy</td>\n",
       "      <td>0.751634</td>\n",
       "      <td>0.083871</td>\n",
       "      <td>2.059136</td>\n",
       "      <td>0.349928</td>\n",
       "      <td>2.055561</td>\n",
       "    </tr>\n",
       "    <tr>\n",
       "      <th>2</th>\n",
       "      <td>s_04</td>\n",
       "      <td>Alert</td>\n",
       "      <td>0.967742</td>\n",
       "      <td>0.241935</td>\n",
       "      <td>2.548687</td>\n",
       "      <td>-0.574253</td>\n",
       "      <td>0.231404</td>\n",
       "    </tr>\n",
       "    <tr>\n",
       "      <th>3</th>\n",
       "      <td>s_04</td>\n",
       "      <td>Drowsy</td>\n",
       "      <td>0.963636</td>\n",
       "      <td>0.272031</td>\n",
       "      <td>2.401221</td>\n",
       "      <td>-0.593928</td>\n",
       "      <td>0.240232</td>\n",
       "    </tr>\n",
       "    <tr>\n",
       "      <th>4</th>\n",
       "      <td>s_05</td>\n",
       "      <td>Alert</td>\n",
       "      <td>0.951613</td>\n",
       "      <td>0.112903</td>\n",
       "      <td>2.871930</td>\n",
       "      <td>-0.224733</td>\n",
       "      <td>0.524444</td>\n",
       "    </tr>\n",
       "  </tbody>\n",
       "</table>\n",
       "</div>"
      ],
      "text/plain": [
       "  Subj_id Condition  hit_rate   fa_rate   d_prime  criterion      beta\n",
       "0    s_02     Alert  0.870968  0.016129  3.272176   0.505110  5.221630\n",
       "1    s_02    Drowsy  0.751634  0.083871  2.059136   0.349928  2.055561\n",
       "2    s_04     Alert  0.967742  0.241935  2.548687  -0.574253  0.231404\n",
       "3    s_04    Drowsy  0.963636  0.272031  2.401221  -0.593928  0.240232\n",
       "4    s_05     Alert  0.951613  0.112903  2.871930  -0.224733  0.524444"
      ]
     },
     "execution_count": 13,
     "metadata": {},
     "output_type": "execute_result"
    }
   ],
   "source": [
    "sdt_data.head()"
   ]
  },
  {
   "cell_type": "code",
   "execution_count": 14,
   "metadata": {},
   "outputs": [
    {
     "data": {
      "text/html": [
       "<div>\n",
       "<style scoped>\n",
       "    .dataframe tbody tr th:only-of-type {\n",
       "        vertical-align: middle;\n",
       "    }\n",
       "\n",
       "    .dataframe tbody tr th {\n",
       "        vertical-align: top;\n",
       "    }\n",
       "\n",
       "    .dataframe thead th {\n",
       "        text-align: right;\n",
       "    }\n",
       "</style>\n",
       "<table border=\"1\" class=\"dataframe\">\n",
       "  <thead>\n",
       "    <tr style=\"text-align: right;\">\n",
       "      <th>Condition</th>\n",
       "      <th>Alert</th>\n",
       "      <th>Drowsy</th>\n",
       "    </tr>\n",
       "    <tr>\n",
       "      <th>Subj_id</th>\n",
       "      <th></th>\n",
       "      <th></th>\n",
       "    </tr>\n",
       "  </thead>\n",
       "  <tbody>\n",
       "    <tr>\n",
       "      <th>s_02</th>\n",
       "      <td>3.272176</td>\n",
       "      <td>2.059136</td>\n",
       "    </tr>\n",
       "    <tr>\n",
       "      <th>s_04</th>\n",
       "      <td>2.548687</td>\n",
       "      <td>2.401221</td>\n",
       "    </tr>\n",
       "    <tr>\n",
       "      <th>s_05</th>\n",
       "      <td>2.871930</td>\n",
       "      <td>2.379015</td>\n",
       "    </tr>\n",
       "    <tr>\n",
       "      <th>s_06</th>\n",
       "      <td>2.046583</td>\n",
       "      <td>1.926936</td>\n",
       "    </tr>\n",
       "    <tr>\n",
       "      <th>s_07</th>\n",
       "      <td>2.389914</td>\n",
       "      <td>2.341749</td>\n",
       "    </tr>\n",
       "  </tbody>\n",
       "</table>\n",
       "</div>"
      ],
      "text/plain": [
       "Condition     Alert    Drowsy\n",
       "Subj_id                      \n",
       "s_02       3.272176  2.059136\n",
       "s_04       2.548687  2.401221\n",
       "s_05       2.871930  2.379015\n",
       "s_06       2.046583  1.926936\n",
       "s_07       2.389914  2.341749"
      ]
     },
     "execution_count": 14,
     "metadata": {},
     "output_type": "execute_result"
    }
   ],
   "source": [
    "sdt_dprime = sdt_data[['Subj_id', 'Condition', 'd_prime']]\n",
    "sdt_dprime = sdt_dprime.reset_index().pivot(columns='Condition', index='Subj_id', values='d_prime')\n",
    "sdt_dprime.head()"
   ]
  },
  {
   "cell_type": "code",
   "execution_count": 15,
   "metadata": {},
   "outputs": [
    {
     "data": {
      "text/html": [
       "<div>\n",
       "<style scoped>\n",
       "    .dataframe tbody tr th:only-of-type {\n",
       "        vertical-align: middle;\n",
       "    }\n",
       "\n",
       "    .dataframe tbody tr th {\n",
       "        vertical-align: top;\n",
       "    }\n",
       "\n",
       "    .dataframe thead th {\n",
       "        text-align: right;\n",
       "    }\n",
       "</style>\n",
       "<table border=\"1\" class=\"dataframe\">\n",
       "  <thead>\n",
       "    <tr style=\"text-align: right;\">\n",
       "      <th>Condition</th>\n",
       "      <th>Alert</th>\n",
       "      <th>Drowsy</th>\n",
       "    </tr>\n",
       "    <tr>\n",
       "      <th>Subj_id</th>\n",
       "      <th></th>\n",
       "      <th></th>\n",
       "    </tr>\n",
       "  </thead>\n",
       "  <tbody>\n",
       "    <tr>\n",
       "      <th>s_02</th>\n",
       "      <td>0.505110</td>\n",
       "      <td>0.349928</td>\n",
       "    </tr>\n",
       "    <tr>\n",
       "      <th>s_04</th>\n",
       "      <td>-0.574253</td>\n",
       "      <td>-0.593928</td>\n",
       "    </tr>\n",
       "    <tr>\n",
       "      <th>s_05</th>\n",
       "      <td>-0.224733</td>\n",
       "      <td>0.480405</td>\n",
       "    </tr>\n",
       "    <tr>\n",
       "      <th>s_06</th>\n",
       "      <td>0.034123</td>\n",
       "      <td>0.130492</td>\n",
       "    </tr>\n",
       "    <tr>\n",
       "      <th>s_07</th>\n",
       "      <td>-0.205788</td>\n",
       "      <td>-0.009414</td>\n",
       "    </tr>\n",
       "  </tbody>\n",
       "</table>\n",
       "</div>"
      ],
      "text/plain": [
       "Condition     Alert    Drowsy\n",
       "Subj_id                      \n",
       "s_02       0.505110  0.349928\n",
       "s_04      -0.574253 -0.593928\n",
       "s_05      -0.224733  0.480405\n",
       "s_06       0.034123  0.130492\n",
       "s_07      -0.205788 -0.009414"
      ]
     },
     "execution_count": 15,
     "metadata": {},
     "output_type": "execute_result"
    }
   ],
   "source": [
    "sdt_criterion = sdt_data[['Subj_id', 'Condition', 'criterion']]\n",
    "sdt_criterion = sdt_criterion.reset_index().pivot(columns='Condition', index='Subj_id', values='criterion')\n",
    "sdt_criterion.head()"
   ]
  },
  {
   "cell_type": "code",
   "execution_count": 16,
   "metadata": {},
   "outputs": [],
   "source": [
    "import rpy2.robjects as robjects\n",
    "from rpy2.robjects import r, pandas2ri\n",
    "from rpy2.robjects.packages import importr\n",
    "pandas2ri.activate()"
   ]
  },
  {
   "cell_type": "code",
   "execution_count": 17,
   "metadata": {},
   "outputs": [],
   "source": [
    "# import the data frames into the R workspace\n",
    "robjects.globalenv[\"sdt_dprime\"] = sdt_dprime\n",
    "robjects.globalenv[\"sdt_criterion\"] = sdt_criterion"
   ]
  },
  {
   "cell_type": "code",
   "execution_count": 18,
   "metadata": {},
   "outputs": [
    {
     "name": "stdout",
     "output_type": "stream",
     "text": [
      "        Alert   Drowsy\n",
      "s_02 3.272176 2.059136\n",
      "s_04 2.548687 2.401221\n",
      "s_05 2.871930 2.379015\n",
      "s_06 2.046583 1.926936\n",
      "s_07 2.389914 2.341749\n",
      "s_09 2.918674 0.968737\n"
     ]
    }
   ],
   "source": [
    "%%R\n",
    "head(sdt_dprime)"
   ]
  },
  {
   "cell_type": "code",
   "execution_count": 19,
   "metadata": {},
   "outputs": [
    {
     "name": "stdout",
     "output_type": "stream",
     "text": [
      "Stats on dprime: t-val is  6.74 p_val is  0.0\n",
      "Stats on criterion: t-val is  -2.04 p_val is  0.0499\n"
     ]
    }
   ],
   "source": [
    "#Perform stats on the different parameters..\n",
    "[dprime_stat,dprime_pval] = stats.ttest_rel(sdt_dprime['Alert'], sdt_dprime['Drowsy'])\n",
    "[criterion_stat,criterion_pval] = stats.ttest_rel(sdt_criterion['Alert'], sdt_criterion['Drowsy'])\n",
    "print('Stats on dprime: t-val is ',round(dprime_stat,2), 'p_val is ',round(dprime_pval,4))\n",
    "print('Stats on criterion: t-val is ',round(criterion_stat,2), 'p_val is ',round(criterion_pval,4))"
   ]
  },
  {
   "cell_type": "code",
   "execution_count": 20,
   "metadata": {},
   "outputs": [
    {
     "data": {
      "text/html": [
       "<div>\n",
       "<style scoped>\n",
       "    .dataframe tbody tr th:only-of-type {\n",
       "        vertical-align: middle;\n",
       "    }\n",
       "\n",
       "    .dataframe tbody tr th {\n",
       "        vertical-align: top;\n",
       "    }\n",
       "\n",
       "    .dataframe thead th {\n",
       "        text-align: right;\n",
       "    }\n",
       "</style>\n",
       "<table border=\"1\" class=\"dataframe\">\n",
       "  <thead>\n",
       "    <tr style=\"text-align: right;\">\n",
       "      <th></th>\n",
       "      <th>T</th>\n",
       "      <th>dof</th>\n",
       "      <th>tail</th>\n",
       "      <th>p-val</th>\n",
       "      <th>CI95%</th>\n",
       "      <th>cohen-d</th>\n",
       "      <th>BF10</th>\n",
       "      <th>power</th>\n",
       "    </tr>\n",
       "  </thead>\n",
       "  <tbody>\n",
       "    <tr>\n",
       "      <th>T-test</th>\n",
       "      <td>6.740358</td>\n",
       "      <td>31</td>\n",
       "      <td>two-sided</td>\n",
       "      <td>1.522069e-07</td>\n",
       "      <td>[0.47, 0.88]</td>\n",
       "      <td>1.180738</td>\n",
       "      <td>1.011e+05</td>\n",
       "      <td>1.0</td>\n",
       "    </tr>\n",
       "  </tbody>\n",
       "</table>\n",
       "</div>"
      ],
      "text/plain": [
       "               T  dof       tail         p-val         CI95%   cohen-d  \\\n",
       "T-test  6.740358   31  two-sided  1.522069e-07  [0.47, 0.88]  1.180738   \n",
       "\n",
       "             BF10  power  \n",
       "T-test  1.011e+05    1.0  "
      ]
     },
     "execution_count": 20,
     "metadata": {},
     "output_type": "execute_result"
    }
   ],
   "source": [
    "res_dprime = pg.ttest(sdt_dprime['Alert'], sdt_dprime['Drowsy'], paired = True, correction='auto')\n",
    "res_dprime"
   ]
  },
  {
   "cell_type": "code",
   "execution_count": 21,
   "metadata": {},
   "outputs": [
    {
     "data": {
      "text/html": [
       "<div>\n",
       "<style scoped>\n",
       "    .dataframe tbody tr th:only-of-type {\n",
       "        vertical-align: middle;\n",
       "    }\n",
       "\n",
       "    .dataframe tbody tr th {\n",
       "        vertical-align: top;\n",
       "    }\n",
       "\n",
       "    .dataframe thead th {\n",
       "        text-align: right;\n",
       "    }\n",
       "</style>\n",
       "<table border=\"1\" class=\"dataframe\">\n",
       "  <thead>\n",
       "    <tr style=\"text-align: right;\">\n",
       "      <th></th>\n",
       "      <th>T</th>\n",
       "      <th>dof</th>\n",
       "      <th>tail</th>\n",
       "      <th>p-val</th>\n",
       "      <th>CI95%</th>\n",
       "      <th>cohen-d</th>\n",
       "      <th>BF10</th>\n",
       "      <th>power</th>\n",
       "    </tr>\n",
       "  </thead>\n",
       "  <tbody>\n",
       "    <tr>\n",
       "      <th>T-test</th>\n",
       "      <td>-2.040654</td>\n",
       "      <td>31</td>\n",
       "      <td>two-sided</td>\n",
       "      <td>0.04988</td>\n",
       "      <td>[-0.28, -0.0]</td>\n",
       "      <td>0.314005</td>\n",
       "      <td>1.169</td>\n",
       "      <td>0.40578</td>\n",
       "    </tr>\n",
       "  </tbody>\n",
       "</table>\n",
       "</div>"
      ],
      "text/plain": [
       "               T  dof       tail    p-val          CI95%   cohen-d   BF10  \\\n",
       "T-test -2.040654   31  two-sided  0.04988  [-0.28, -0.0]  0.314005  1.169   \n",
       "\n",
       "          power  \n",
       "T-test  0.40578  "
      ]
     },
     "execution_count": 21,
     "metadata": {},
     "output_type": "execute_result"
    }
   ],
   "source": [
    "res_criterion = pg.ttest(sdt_criterion['Alert'], sdt_criterion['Drowsy'], paired = True, correction='auto')\n",
    "res_criterion"
   ]
  },
  {
   "cell_type": "code",
   "execution_count": null,
   "metadata": {},
   "outputs": [],
   "source": []
  },
  {
   "cell_type": "code",
   "execution_count": 22,
   "metadata": {},
   "outputs": [
    {
     "data": {
      "text/plain": [
       "'/rds/project/tb419/rds-tb419-bekinschtein/Sri/SpatialAttention_Drowsiness/decAlertnessDecisionmaking_JNeuroscience2021/Figures/'"
      ]
     },
     "execution_count": 22,
     "metadata": {},
     "output_type": "execute_result"
    }
   ],
   "source": [
    "fig_dir = base_dir + output_dir\n",
    "fig_dir"
   ]
  },
  {
   "cell_type": "code",
   "execution_count": 23,
   "metadata": {},
   "outputs": [],
   "source": [
    "pal = {Condition: \"b\" if Condition == 'Drowsy' else \"r\" for Condition in sdt_data.Condition.unique()}"
   ]
  },
  {
   "cell_type": "code",
   "execution_count": 24,
   "metadata": {},
   "outputs": [],
   "source": [
    "def statannotation(ax, x1, x2, y,text):\n",
    "    h = 0.05\n",
    "    text_offset = 0.5\n",
    "    \n",
    "    line_x, line_y = [x1, x1, x2, x2], [y, y + h, y + h, y]\n",
    "\n",
    "    ax.plot(line_x, line_y, lw=2, c='black')\n",
    "    ann = ax.annotate(text, xy=(np.mean([x1, x2]), y + h),\n",
    "                      xytext=(0, text_offset), textcoords='offset points',\n",
    "                      xycoords='data', ha='center', va='bottom',\n",
    "                      fontsize=label_fontsize-2, clip_on=False, annotation_clip=False)"
   ]
  },
  {
   "cell_type": "code",
   "execution_count": 25,
   "metadata": {},
   "outputs": [
    {
     "data": {
      "image/png": "[encoded data removed]",
      "text/plain": [
       "<Figure size 432x432 with 1 Axes>"
      ]
     },
     "metadata": {},
     "output_type": "display_data"
    }
   ],
   "source": [
    "f, ax1 = plt.subplots(nrows =1, ncols=1, figsize=(6, 6))\n",
    "\n",
    "string_val = 'BF: ' + str(np.round(float(res_dprime['BF10'].values[0]),2)) + \\\n",
    "              \"\\nCohens'd: \" + str(np.round(res_dprime['cohen-d'].values[0],2))\n",
    "\n",
    "statannotation(ax = ax1, x1 = 0, x2 = 1, y = 3.5, text = string_val)\n",
    "\n",
    "ax2 = sns.pointplot(x=\"Condition\",y=\"d_prime\",hue='Subj_id',data=sdt_data,ax=ax1, dodge=0.0, scale = 0.5,\n",
    "                    markers = '', palette=['darkgray'])\n",
    "\n",
    "ax3 = sns.boxplot(x=\"Condition\", y=\"d_prime\", data=sdt_data, whis=np.inf, ax=ax1, width=0.4, showbox=True,\n",
    "                  dodge=False,meanline=True,showmeans=False, showfliers=True,showcaps=True,palette=pal,\n",
    "                  linewidth=1)\n",
    "sns.stripplot(x=\"Condition\", y=\"d_prime\", data=sdt_data,jitter=False, linewidth=1, ax=ax1,\n",
    "              edgecolor =\"black\",palette=pal)\n",
    "\n",
    "ax1.legend_.remove()\n",
    "\n",
    "ax1.set(xlabel='state', ylabel='d$^\\prime$')\n",
    "\n",
    "\n",
    "ax1.tick_params(axis='both', which='major', labelsize=label_fontsize-2)\n",
    "\n",
    "plt.tight_layout()\n",
    "plt.box(False)\n",
    "plt.grid(True)\n",
    "\n",
    "plt.savefig(fig_dir + \"sdt_parameter_dprime\" + \".png\", format='png', dpi=240, transparent=False)"
   ]
  },
  {
   "cell_type": "code",
   "execution_count": 26,
   "metadata": {},
   "outputs": [
    {
     "data": {
      "image/png": "[encoded data removed]",
      "text/plain": [
       "<Figure size 432x432 with 1 Axes>"
      ]
     },
     "metadata": {},
     "output_type": "display_data"
    }
   ],
   "source": [
    "f, ax4 = plt.subplots(nrows =1, ncols=1, figsize=(6, 6))\n",
    "\n",
    "string_val = 'BF: ' + str(np.round(float(res_criterion['BF10'].values[0]),2)) + \\\n",
    "              \"\\nCohens'd: \" + str(np.round(res_criterion['cohen-d'].values[0],2))\n",
    "\n",
    "statannotation(ax = ax4, x1 = 0, x2 = 1, y = 1.25, text = string_val)\n",
    "\n",
    "ax5 = sns.pointplot(x=\"Condition\",y=\"criterion\",hue='Subj_id',data=sdt_data,ax=ax4, dodge=0.0, scale = 0.5,\n",
    "                    markers = '', palette=['darkgray'])\n",
    "\n",
    "ax6 = sns.boxplot(x=\"Condition\", y=\"criterion\", data=sdt_data, whis=np.inf, width=0.4, ax=ax4, showbox=True,\n",
    "                  dodge=False,meanline=True,showmeans=False, showfliers=True,showcaps=True,palette=pal,\n",
    "                  linewidth=1)\n",
    "sns.stripplot(x=\"Condition\", y=\"criterion\", data=sdt_data,jitter=False, linewidth=1, ax=ax4,\n",
    "              edgecolor =\"black\",palette=pal)\n",
    "\n",
    "ax4.legend_.remove()\n",
    "\n",
    "ax4.set(xlabel='state', ylabel='criterion')\n",
    "\n",
    "sns.despine(left=True, bottom = True)\n",
    "\n",
    "ax4.tick_params(axis='both', which='major', labelsize=label_fontsize-2)\n",
    "\n",
    "plt.tight_layout()\n",
    "plt.box(False)\n",
    "plt.grid(True)\n",
    "\n",
    "plt.savefig(fig_dir + \"sdt_parameter_criterion\" + \".png\", format='png', dpi=240, transparent=False)"
   ]
  },
  {
   "cell_type": "code",
   "execution_count": null,
   "metadata": {},
   "outputs": [],
   "source": []
  },
  {
   "cell_type": "code",
   "execution_count": null,
   "metadata": {},
   "outputs": [],
   "source": []
  },
  {
   "cell_type": "code",
   "execution_count": null,
   "metadata": {},
   "outputs": [],
   "source": []
  },
  {
   "cell_type": "code",
   "execution_count": null,
   "metadata": {},
   "outputs": [],
   "source": []
  }
 ],
 "metadata": {
  "kernelspec": {
   "display_name": "Python 3",
   "language": "python",
   "name": "python3"
  },
  "language_info": {
   "codemirror_mode": {
    "name": "ipython",
    "version": 3
   },
   "file_extension": ".py",
   "mimetype": "text/x-python",
   "name": "python",
   "nbconvert_exporter": "python",
   "pygments_lexer": "ipython3",
   "version": "3.6.1"
  }
 },
 "nbformat": 4,
 "nbformat_minor": 2
}
