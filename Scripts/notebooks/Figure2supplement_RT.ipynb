{
 "cells": [
  {
   "cell_type": "code",
   "execution_count": 1,
   "metadata": {},
   "outputs": [],
   "source": [
    "%load_ext rpy2.ipython"
   ]
  },
  {
   "cell_type": "code",
   "execution_count": 2,
   "metadata": {},
   "outputs": [],
   "source": [
    "import pandas as pd\n",
    "import scipy.io as io\n",
    "import matplotlib.pyplot as plt\n",
    "import matplotlib.pylab as pylab\n",
    "import numpy as np\n",
    "from matplotlib import gridspec\n",
    "import seaborn as sns\n",
    "import datetime\n",
    "from datetime import datetime, timedelta\n",
    "import pickle\n",
    "import itertools\n",
    "import glob"
   ]
  },
  {
   "cell_type": "code",
   "execution_count": 3,
   "metadata": {},
   "outputs": [],
   "source": [
    "import matplotlib.dates as dates\n",
    "from scipy import stats\n",
    "from scipy.stats import variation\n",
    "import math\n",
    "from sklearn import preprocessing\n",
    "from scipy.signal import butter, filtfilt\n",
    "import itertools"
   ]
  },
  {
   "cell_type": "code",
   "execution_count": 4,
   "metadata": {},
   "outputs": [],
   "source": [
    "import matplotlib.pyplot as plt\n",
    "#font = {'family': 'serif', 'serif': ['Palatino']}\n",
    "font = {'family': 'serif', 'serif': ['Helvetica']}\n",
    "plt.rc('font', **font)\n",
    "plt.rc('text', usetex=False)"
   ]
  },
  {
   "cell_type": "code",
   "execution_count": 5,
   "metadata": {},
   "outputs": [],
   "source": [
    "label_fontsize = 16\n",
    "title_fontsize = 16"
   ]
  },
  {
   "cell_type": "code",
   "execution_count": 6,
   "metadata": {},
   "outputs": [],
   "source": [
    "#Set up parameters for figure display\n",
    "params = {'legend.fontsize': 'x-large',\n",
    "          'figure.figsize': (8, 8),\n",
    "         'axes.labelsize': 'x-large',\n",
    "         'axes.titlesize':'x-large',\n",
    "         'axes.labelweight': 'bold',\n",
    "         'xtick.labelsize':'x-large',\n",
    "         'ytick.labelsize':'x-large'}\n",
    "\n",
    "pylab.rcParams.update(params)\n",
    "pylab.rcParams[\"font.family\"] = \"serif\"\n",
    "pylab.rcParams[\"font.weight\"] = \"heavy\"\n",
    "#pylab.rcParams.update({'figure.autolayout': True})"
   ]
  },
  {
   "cell_type": "code",
   "execution_count": 7,
   "metadata": {},
   "outputs": [],
   "source": [
    "sns.set(font_scale=1.25, style=\"whitegrid\")"
   ]
  },
  {
   "cell_type": "code",
   "execution_count": 8,
   "metadata": {},
   "outputs": [
    {
     "name": "stdout",
     "output_type": "stream",
     "text": [
      "NULL\n"
     ]
    }
   ],
   "source": [
    "%%R\n",
    "#install.packages(\"BayesFactor\", repos='http://cran.us.r-project.org')"
   ]
  },
  {
   "cell_type": "code",
   "execution_count": 9,
   "metadata": {},
   "outputs": [
    {
     "name": "stderr",
     "output_type": "stream",
     "text": [
      "R[write to console]: Loading required package: mvtnorm\n",
      "\n",
      "R[write to console]: Loading required package: survival\n",
      "\n",
      "R[write to console]: Loading required package: TH.data\n",
      "\n",
      "R[write to console]: Loading required package: MASS\n",
      "\n",
      "R[write to console]: \n",
      "Attaching package: ‘TH.data’\n",
      "\n",
      "\n",
      "R[write to console]: The following object is masked from ‘package:MASS’:\n",
      "\n",
      "    geyser\n",
      "\n",
      "\n"
     ]
    }
   ],
   "source": [
    "%%R\n",
    "rm(list = ls())  #remove elements from current workspace\n",
    "library(\"plyr\")\n",
    "library(\"emmeans\")\n",
    "library(\"reshape2\")\n",
    "library(\"multcomp\")"
   ]
  },
  {
   "cell_type": "code",
   "execution_count": 10,
   "metadata": {},
   "outputs": [],
   "source": [
    "%%R\n",
    "basepath = \"/rds/project/tb419/rds-tb419-bekinschtein/Sri/SpatialAttention_Drowsiness/\"\n",
    "behfilepath = \"decAlertnessDecisionmaking_JNeuroscience2021/beh_data/csv_files/\""
   ]
  },
  {
   "cell_type": "code",
   "execution_count": 11,
   "metadata": {},
   "outputs": [],
   "source": [
    "%%R\n",
    "#read the csv file first (created by process_create_StimCodeRTs)\n",
    "csvfile = paste(basepath,behfilepath,\"responsecoding_stimcode_state.csv\",sep=\"\")\n",
    "myoveralldata = read.csv(csvfile) # read csv file"
   ]
  },
  {
   "cell_type": "code",
   "execution_count": 12,
   "metadata": {},
   "outputs": [
    {
     "name": "stdout",
     "output_type": "stream",
     "text": [
      "  subj_idx       rt  stim state\n",
      "1        2 0.904771 Right Alert\n",
      "2        2 1.032423  Left Alert\n",
      "3        2 1.145844  Left Alert\n",
      "4        2 1.099559  Left Alert\n",
      "5        2 1.228592  Left Alert\n",
      "6        2 1.541085 Right Alert\n"
     ]
    }
   ],
   "source": [
    "%%R\n",
    "myoveralldata <- subset(myoveralldata, select = -c(angle, difficulty, response, stimcode, accuracy, ovtrlnums))\n",
    "myoveralldata <-subset(myoveralldata, state!='Relaxed')\n",
    "head(myoveralldata)"
   ]
  },
  {
   "cell_type": "code",
   "execution_count": 13,
   "metadata": {},
   "outputs": [
    {
     "name": "stdout",
     "output_type": "stream",
     "text": [
      "[1] 0.024684\n"
     ]
    }
   ],
   "source": [
    "%%R\n",
    "min(myoveralldata$rt)"
   ]
  },
  {
   "cell_type": "code",
   "execution_count": 14,
   "metadata": {},
   "outputs": [
    {
     "name": "stdout",
     "output_type": "stream",
     "text": [
      "[1] Alert  Drowsy\n",
      "Levels: Alert Drowsy Relaxed\n"
     ]
    }
   ],
   "source": [
    "%%R\n",
    "unique(myoveralldata$state)"
   ]
  },
  {
   "cell_type": "code",
   "execution_count": 15,
   "metadata": {},
   "outputs": [],
   "source": [
    "%%R\n",
    "aggstats_df <- do.call(data.frame, aggregate(. ~ subj_idx+stim+state, data = myoveralldata, \n",
    "                                  FUN = function(x) c(mn = mean(x), n = length(x) ) ) )\n",
    "aggstats_df <- rename(aggstats_df,c(\"rt.mn\" = \"rt\", \"rt.n\" = \"trls\"))"
   ]
  },
  {
   "cell_type": "code",
   "execution_count": 16,
   "metadata": {},
   "outputs": [
    {
     "name": "stdout",
     "output_type": "stream",
     "text": [
      "  subj_idx stim state        rt trls\n",
      "1        2 Left Alert 0.9980229   60\n",
      "2        4 Left Alert 0.7128657   60\n",
      "3        5 Left Alert 0.6360013   60\n",
      "4        6 Left Alert 1.1625786   60\n",
      "5        7 Left Alert 0.7787995   60\n",
      "6        9 Left Alert 0.7738686   60\n",
      "    subj_idx  stim  state        rt trls\n",
      "123       41 Right Drowsy 1.2389740  147\n",
      "124       42 Right Drowsy 1.0444405  298\n",
      "125       43 Right Drowsy 0.6753177  193\n",
      "126       44 Right Drowsy 1.2325250   65\n",
      "127       45 Right Drowsy 1.9843120  211\n",
      "128       46 Right Drowsy 1.7260631   39\n"
     ]
    }
   ],
   "source": [
    "%%R\n",
    "print(head(aggstats_df))\n",
    "print(tail(aggstats_df))"
   ]
  },
  {
   "cell_type": "code",
   "execution_count": 17,
   "metadata": {},
   "outputs": [
    {
     "name": "stdout",
     "output_type": "stream",
     "text": [
      "[1] ‘1.1.21’\n"
     ]
    }
   ],
   "source": [
    "%%R\n",
    "packageVersion(\"lme4\")"
   ]
  },
  {
   "cell_type": "code",
   "execution_count": 18,
   "metadata": {},
   "outputs": [
    {
     "name": "stderr",
     "output_type": "stream",
     "text": [
      "R[write to console]: Loading required package: lme4\n",
      "\n",
      "R[write to console]: Loading required package: Matrix\n",
      "\n",
      "R[write to console]: \n",
      "Attaching package: ‘lmerTest’\n",
      "\n",
      "\n",
      "R[write to console]: The following object is masked from ‘package:lme4’:\n",
      "\n",
      "    lmer\n",
      "\n",
      "\n",
      "R[write to console]: The following object is masked from ‘package:stats’:\n",
      "\n",
      "    step\n",
      "\n",
      "\n"
     ]
    }
   ],
   "source": [
    "%%R\n",
    "# Step 3: Multilevel model with missing values ~ Hierarchical model\n",
    "# First compare and choose the best model..\n",
    "\n",
    "library(lmerTest)\n",
    "\n",
    "model.null = lmer(rt ~ 1 + (1|subj_idx), data=aggstats_df,\n",
    "                  REML=FALSE)\n",
    "\n",
    "model.state = lmer(rt ~ state + (1|subj_idx), data=aggstats_df,\n",
    "                   REML=FALSE)\n",
    "\n",
    "model.Stim = lmer(rt ~ stim + (1|subj_idx), data=aggstats_df,\n",
    "                  REML=FALSE)\n",
    "\n",
    "model.StateStim = lmer(rt ~ state*stim + (1|subj_idx), data=aggstats_df,\n",
    "                       REML=FALSE)"
   ]
  },
  {
   "cell_type": "code",
   "execution_count": 19,
   "metadata": {},
   "outputs": [
    {
     "name": "stdout",
     "output_type": "stream",
     "text": [
      "Data: aggstats_df\n",
      "Models:\n",
      "model.null: rt ~ 1 + (1 | subj_idx)\n",
      "model.state: rt ~ state + (1 | subj_idx)\n",
      "            Df     AIC     BIC  logLik deviance  Chisq Chi Df Pr(>Chisq)    \n",
      "model.null   3 165.916 174.472 -79.958  159.916                             \n",
      "model.state  4  74.017  85.426 -33.009   66.017 93.898      1  < 2.2e-16 ***\n",
      "---\n",
      "Signif. codes:  0 ‘***’ 0.001 ‘**’ 0.01 ‘*’ 0.05 ‘.’ 0.1 ‘ ’ 1\n"
     ]
    }
   ],
   "source": [
    "%%R\n",
    "#compare the null model, with the state model..\n",
    "print(anova(model.null,model.state))"
   ]
  },
  {
   "cell_type": "code",
   "execution_count": 20,
   "metadata": {},
   "outputs": [
    {
     "name": "stdout",
     "output_type": "stream",
     "text": [
      "Data: aggstats_df\n",
      "Models:\n",
      "model.null: rt ~ 1 + (1 | subj_idx)\n",
      "model.Stim: rt ~ stim + (1 | subj_idx)\n",
      "           Df    AIC    BIC  logLik deviance  Chisq Chi Df Pr(>Chisq)\n",
      "model.null  3 165.92 174.47 -79.958   159.92                         \n",
      "model.Stim  4 167.58 178.99 -79.789   159.58 0.3375      1     0.5613\n"
     ]
    }
   ],
   "source": [
    "%%R\n",
    "#compare the null model, with the stim model..\n",
    "print(anova(model.null,model.Stim))"
   ]
  },
  {
   "cell_type": "code",
   "execution_count": 21,
   "metadata": {},
   "outputs": [
    {
     "name": "stdout",
     "output_type": "stream",
     "text": [
      "Data: aggstats_df\n",
      "Models:\n",
      "model.null: rt ~ 1 + (1 | subj_idx)\n",
      "model.StateStim: rt ~ state * stim + (1 | subj_idx)\n",
      "                Df     AIC     BIC  logLik deviance  Chisq Chi Df Pr(>Chisq)\n",
      "model.null       3 165.916 174.472 -79.958  159.916                         \n",
      "model.StateStim  6  76.132  93.245 -32.066   64.132 95.783      3  < 2.2e-16\n",
      "                   \n",
      "model.null         \n",
      "model.StateStim ***\n",
      "---\n",
      "Signif. codes:  0 ‘***’ 0.001 ‘**’ 0.01 ‘*’ 0.05 ‘.’ 0.1 ‘ ’ 1\n"
     ]
    }
   ],
   "source": [
    "%%R\n",
    "#compare the null model, with the statestim model..\n",
    "print(anova(model.null,model.StateStim))"
   ]
  },
  {
   "cell_type": "code",
   "execution_count": 22,
   "metadata": {},
   "outputs": [
    {
     "name": "stdout",
     "output_type": "stream",
     "text": [
      "Data: aggstats_df\n",
      "Models:\n",
      "model.Stim: rt ~ stim + (1 | subj_idx)\n",
      "model.StateStim: rt ~ state * stim + (1 | subj_idx)\n",
      "                Df     AIC     BIC  logLik deviance  Chisq Chi Df Pr(>Chisq)\n",
      "model.Stim       4 167.578 178.986 -79.789  159.578                         \n",
      "model.StateStim  6  76.132  93.245 -32.066   64.132 95.446      2  < 2.2e-16\n",
      "                   \n",
      "model.Stim         \n",
      "model.StateStim ***\n",
      "---\n",
      "Signif. codes:  0 ‘***’ 0.001 ‘**’ 0.01 ‘*’ 0.05 ‘.’ 0.1 ‘ ’ 1\n"
     ]
    }
   ],
   "source": [
    "%%R\n",
    "#the above analysis show that the statestimlevel model has the highest loglikelihood and the next\n",
    "#highest is the statestim model, now we can make a direct comparison of them both..\n",
    "print(anova(model.Stim,model.StateStim))"
   ]
  },
  {
   "cell_type": "code",
   "execution_count": 23,
   "metadata": {},
   "outputs": [
    {
     "name": "stdout",
     "output_type": "stream",
     "text": [
      "Type III Analysis of Variance Table with Satterthwaite's method\n",
      "           Sum Sq Mean Sq NumDF DenDF  F value Pr(>F)    \n",
      "state      9.1412  9.1412     1    96 162.4633 <2e-16 ***\n",
      "stim       0.0514  0.0514     1    96   0.9138 0.3415    \n",
      "state:stim 0.0557  0.0557     1    96   0.9899 0.3223    \n",
      "---\n",
      "Signif. codes:  0 ‘***’ 0.001 ‘**’ 0.01 ‘*’ 0.05 ‘.’ 0.1 ‘ ’ 1\n"
     ]
    }
   ],
   "source": [
    "%%R\n",
    "#the above analysis show that the statestim model is the most likely model..\n",
    "#Step4 :let's analyse the same..\n",
    "print(anova(model.StateStim))"
   ]
  },
  {
   "cell_type": "code",
   "execution_count": 24,
   "metadata": {},
   "outputs": [
    {
     "name": "stdout",
     "output_type": "stream",
     "text": [
      "NULL\n"
     ]
    }
   ],
   "source": [
    "%%R\n",
    "#the above table shows that there is a main effect of state(alert, drowsy)"
   ]
  },
  {
   "cell_type": "code",
   "execution_count": null,
   "metadata": {},
   "outputs": [],
   "source": []
  },
  {
   "cell_type": "code",
   "execution_count": null,
   "metadata": {},
   "outputs": [],
   "source": []
  },
  {
   "cell_type": "code",
   "execution_count": null,
   "metadata": {},
   "outputs": [],
   "source": []
  },
  {
   "cell_type": "code",
   "execution_count": null,
   "metadata": {},
   "outputs": [],
   "source": []
  }
 ],
 "metadata": {
  "kernelspec": {
   "display_name": "Python 3",
   "language": "python",
   "name": "python3"
  },
  "language_info": {
   "codemirror_mode": {
    "name": "ipython",
    "version": 3
   },
   "file_extension": ".py",
   "mimetype": "text/x-python",
   "name": "python",
   "nbconvert_exporter": "python",
   "pygments_lexer": "ipython3",
   "version": "3.6.1"
  }
 },
 "nbformat": 4,
 "nbformat_minor": 2
}
