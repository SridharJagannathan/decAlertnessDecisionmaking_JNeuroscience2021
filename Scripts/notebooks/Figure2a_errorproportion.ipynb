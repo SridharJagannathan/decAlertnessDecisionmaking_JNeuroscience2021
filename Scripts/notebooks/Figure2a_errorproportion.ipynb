{
 "cells": [
  {
   "cell_type": "code",
   "execution_count": 1,
   "metadata": {},
   "outputs": [],
   "source": [
    "%load_ext rpy2.ipython"
   ]
  },
  {
   "cell_type": "code",
   "execution_count": 2,
   "metadata": {},
   "outputs": [],
   "source": [
    "import pandas as pd\n",
    "import scipy.io as io\n",
    "import matplotlib.pyplot as plt\n",
    "import matplotlib.pylab as pylab\n",
    "import numpy as np\n",
    "from matplotlib import gridspec\n",
    "import seaborn as sns\n",
    "import datetime\n",
    "from datetime import datetime, timedelta\n",
    "import pickle\n",
    "import itertools\n",
    "import glob"
   ]
  },
  {
   "cell_type": "code",
   "execution_count": 3,
   "metadata": {},
   "outputs": [],
   "source": [
    "import matplotlib.dates as dates\n",
    "from scipy import stats\n",
    "from scipy.stats import variation\n",
    "import math\n",
    "from sklearn import preprocessing\n",
    "from scipy.signal import butter, filtfilt\n",
    "import itertools"
   ]
  },
  {
   "cell_type": "code",
   "execution_count": 4,
   "metadata": {},
   "outputs": [],
   "source": [
    "import matplotlib.pyplot as plt\n",
    "#font = {'family': 'serif', 'serif': ['Palatino']}\n",
    "font = {'family': 'serif', 'serif': ['Helvetica']}\n",
    "plt.rc('font', **font)\n",
    "plt.rc('text', usetex=False)"
   ]
  },
  {
   "cell_type": "code",
   "execution_count": 5,
   "metadata": {},
   "outputs": [],
   "source": [
    "label_fontsize = 16\n",
    "title_fontsize = 16"
   ]
  },
  {
   "cell_type": "code",
   "execution_count": 6,
   "metadata": {},
   "outputs": [],
   "source": [
    "#Set up parameters for figure display\n",
    "params = {'legend.fontsize': 'x-large',\n",
    "          'figure.figsize': (8, 8),\n",
    "         'axes.labelsize': 'x-large',\n",
    "         'axes.titlesize':'x-large',\n",
    "         'axes.labelweight': 'bold',\n",
    "         'xtick.labelsize':'x-large',\n",
    "         'ytick.labelsize':'x-large'}\n",
    "\n",
    "pylab.rcParams.update(params)\n",
    "pylab.rcParams[\"font.family\"] = \"serif\"\n",
    "pylab.rcParams[\"font.weight\"] = \"heavy\"\n",
    "#pylab.rcParams.update({'figure.autolayout': True})"
   ]
  },
  {
   "cell_type": "code",
   "execution_count": 7,
   "metadata": {},
   "outputs": [],
   "source": [
    "sns.set(font_scale=1.25, style=\"whitegrid\")"
   ]
  },
  {
   "cell_type": "code",
   "execution_count": 8,
   "metadata": {},
   "outputs": [
    {
     "name": "stdout",
     "output_type": "stream",
     "text": [
      "NULL\n"
     ]
    }
   ],
   "source": [
    "%%R\n",
    "#install.packages(\"BayesFactor\", repos='http://cran.us.r-project.org')"
   ]
  },
  {
   "cell_type": "code",
   "execution_count": 9,
   "metadata": {},
   "outputs": [
    {
     "name": "stderr",
     "output_type": "stream",
     "text": [
      "R[write to console]: Loading required package: mvtnorm\n",
      "\n",
      "R[write to console]: Loading required package: survival\n",
      "\n",
      "R[write to console]: Loading required package: TH.data\n",
      "\n",
      "R[write to console]: Loading required package: MASS\n",
      "\n",
      "R[write to console]: \n",
      "Attaching package: ‘TH.data’\n",
      "\n",
      "\n",
      "R[write to console]: The following object is masked from ‘package:MASS’:\n",
      "\n",
      "    geyser\n",
      "\n",
      "\n"
     ]
    }
   ],
   "source": [
    "%%R\n",
    "rm(list = ls())  #remove elements from current workspace\n",
    "library(\"plyr\")\n",
    "library(\"emmeans\")\n",
    "library(\"reshape2\")\n",
    "library(\"multcomp\")"
   ]
  },
  {
   "cell_type": "code",
   "execution_count": 10,
   "metadata": {},
   "outputs": [],
   "source": [
    "%%R\n",
    "basepath = \"/rds/project/tb419/rds-tb419-bekinschtein/Sri/SpatialAttention_Drowsiness/\"\n",
    "behfilepath = \"decArsousalDecisionmaking_JNeuroscience2021/beh_data/csv_files/\""
   ]
  },
  {
   "cell_type": "code",
   "execution_count": 11,
   "metadata": {},
   "outputs": [],
   "source": [
    "%%R\n",
    "#read the csv file first (created by process_psychophysics)\n",
    "csvfile = paste(basepath,behfilepath,\"psychophysics.csv\",sep=\"\")\n",
    "myoveralldata = read.csv(csvfile) # read csv file"
   ]
  },
  {
   "cell_type": "code",
   "execution_count": 12,
   "metadata": {},
   "outputs": [
    {
     "name": "stdout",
     "output_type": "stream",
     "text": [
      "  subj_idx stim leftresp rightresp totresp state\n",
      "1        2  -60        2         0       2 Alert\n",
      "2        2  -55        2         0       2 Alert\n",
      "3        2  -50        2         0       2 Alert\n",
      "4        2  -45        4         0       4 Alert\n",
      "5        2  -40        2         0       2 Alert\n",
      "6        2  -35        4         0       4 Alert\n"
     ]
    }
   ],
   "source": [
    "%%R\n",
    "head(myoveralldata)"
   ]
  },
  {
   "cell_type": "code",
   "execution_count": 13,
   "metadata": {},
   "outputs": [
    {
     "name": "stdout",
     "output_type": "stream",
     "text": [
      " [1]  2  4  5  6  7  9 10 20 21 22 23 24 25 26 27 28 30 31 32 33 34 35 36 37 38\n",
      "[26] 39 41 42 43 44 45 46\n"
     ]
    }
   ],
   "source": [
    "%%R\n",
    "#remove <- c()\n",
    "subj_idxs = unique(myoveralldata$subj_idx)\n",
    "#subj_idxs = subj_idxs [! subj_idxs %in% remove]\n",
    "print(unique(subj_idxs))\n",
    "\n",
    "#make a dataframe with the same column title as the csv file..\n",
    "mycopydata3 <- myoveralldata[0,]\n",
    "mycopydata3 <- cbind(mycopydata3, data.frame(errcnt=double(),stringsAsFactors=FALSE))"
   ]
  },
  {
   "cell_type": "code",
   "execution_count": 14,
   "metadata": {},
   "outputs": [
    {
     "name": "stdout",
     "output_type": "stream",
     "text": [
      "[1] subj_idx  stim      leftresp  rightresp totresp   state     errcnt   \n",
      "<0 rows> (or 0-length row.names)\n"
     ]
    }
   ],
   "source": [
    "%%R\n",
    "head(mycopydata3)"
   ]
  },
  {
   "cell_type": "code",
   "execution_count": 15,
   "metadata": {},
   "outputs": [
    {
     "name": "stdout",
     "output_type": "stream",
     "text": [
      "\n",
      "Processing subject::  2\n",
      "Processing subject::  4\n",
      "Processing subject::  5\n",
      "Processing subject::  6\n",
      "Processing subject::  7\n",
      "Processing subject::  9\n",
      "Processing subject::  10\n",
      "Processing subject::  20\n",
      "Processing subject::  21\n",
      "Processing subject::  22\n",
      "Processing subject::  23\n",
      "Processing subject::  24\n",
      "Processing subject::  25\n",
      "Processing subject::  26\n",
      "Processing subject::  27\n",
      "Processing subject::  28\n",
      "Processing subject::  30\n",
      "Processing subject::  31\n",
      "Processing subject::  32\n",
      "Processing subject::  33\n",
      "Processing subject::  34\n",
      "Processing subject::  35\n",
      "Processing subject::  36\n",
      "Processing subject::  37\n",
      "Processing subject::  38\n",
      "Processing subject::  39\n",
      "Processing subject::  41\n",
      "Processing subject::  42\n",
      "Processing subject::  43\n",
      "Processing subject::  44\n",
      "Processing subject::  45\n",
      "Processing subject::  46"
     ]
    }
   ],
   "source": [
    "%%R\n",
    "#fill in the dataframe with the csv data along with error count..\n",
    "\n",
    "for (tempidx in 1:length(subj_idxs))\n",
    "    {\n",
    "        subjid = subj_idxs[tempidx]\n",
    "        cat(\"\\nProcessing subject:: \", subjid)\n",
    "        mydata = myoveralldata[myoveralldata$subj_idx == subjid,]\n",
    "\n",
    "        #compute error count with copy data..\n",
    "        mycopydata <- mydata\n",
    "        mycopydata$errcnt <- NaN\n",
    "        lefttrials = mycopydata$stim<0\n",
    "        mycopydata$errcnt[lefttrials] <-mycopydata$rightresp[lefttrials]\n",
    "        righttrials = mycopydata$stim>0\n",
    "        mycopydata$errcnt[righttrials] <-mycopydata$leftresp[righttrials]\n",
    "\n",
    "        mydata$p_right = mydata$rightresp / mydata$totresp\n",
    "        mydata2 <- mydata[complete.cases(mydata),]\n",
    "\n",
    "        mycopydata2 <- mycopydata[complete.cases(mydata),]\n",
    "\n",
    "        mycopydata3 <- rbind(mycopydata3,mycopydata2)\n",
    "\n",
    "}"
   ]
  },
  {
   "cell_type": "code",
   "execution_count": 16,
   "metadata": {},
   "outputs": [],
   "source": [
    "%%R\n",
    "#Add the stimulus code to the dataframe now..\n",
    "\n",
    "condition1 = c(\"Alert\",\"Drowsy\")\n",
    "mycopydata3 <- mycopydata3[mycopydata3$state %in% condition1, ]\n",
    "\n",
    "mycopydata3[which(mycopydata3$stim < 0),\"Stim\"] <- 'Left'\n",
    "\n",
    "mycopydata3[which(mycopydata3$stim > 0),\"Stim\"] <- 'Right'"
   ]
  },
  {
   "cell_type": "code",
   "execution_count": 17,
   "metadata": {},
   "outputs": [
    {
     "name": "stdout",
     "output_type": "stream",
     "text": [
      "  subj_idx stim leftresp rightresp totresp state errcnt Stim\n",
      "1        2  -60        2         0       2 Alert      0 Left\n",
      "2        2  -55        2         0       2 Alert      0 Left\n",
      "3        2  -50        2         0       2 Alert      0 Left\n",
      "4        2  -45        4         0       4 Alert      0 Left\n",
      "5        2  -40        2         0       2 Alert      0 Left\n",
      "6        2  -35        4         0       4 Alert      0 Left\n",
      "     subj_idx stim leftresp rightresp totresp  state errcnt  Stim\n",
      "1595       46   35        0         4       4 Drowsy      0 Right\n",
      "1596       46   40        0         5       5 Drowsy      0 Right\n",
      "1597       46   45        0         3       3 Drowsy      0 Right\n",
      "1598       46   50        0         5       5 Drowsy      0 Right\n",
      "1599       46   55        0         1       1 Drowsy      0 Right\n",
      "1600       46   60        0         2       2 Drowsy      0 Right\n"
     ]
    }
   ],
   "source": [
    "%%R\n",
    "print(head(mycopydata3))\n",
    "print(tail(mycopydata3))"
   ]
  },
  {
   "cell_type": "code",
   "execution_count": 18,
   "metadata": {},
   "outputs": [],
   "source": [
    "%%R\n",
    "#compute the aggregate data of total response, error count grouped on the stimulus code, state and \n",
    "#subjectid..\n",
    "\n",
    "aggstats_df <- aggregate(cbind(totresp, errcnt) ~ (Stim+state+subj_idx), \n",
    "                         data=mycopydata3, sum, na.rm=TRUE)\n",
    "\n",
    "#remove data with total response <=5..\n",
    "aggstats_df[which(aggstats_df$totresp <= 5),\"Stim\"] <- NA\n",
    "aggstats_df <- aggstats_df[complete.cases(aggstats_df),]\n",
    "\n",
    "#compute proportion of error responses..\n",
    "aggstats_df$p_err = aggstats_df$errcnt/aggstats_df$totresp\n",
    "\n",
    "#compute the mean proportion error..\n",
    "mean_p_err = ddply(aggstats_df, .(Stim,state), summarise, result = mean(p_err))\n",
    "\n",
    "#compute the standard error of proportion error..\n",
    "se_p_err = ddply(aggstats_df, .(Stim,state), summarise, result = sd(p_err)/sqrt(length(p_err)))"
   ]
  },
  {
   "cell_type": "code",
   "execution_count": 19,
   "metadata": {},
   "outputs": [],
   "source": [
    "%%R\n",
    "#compute the weighted mean and standard error for the above data..\n",
    "#this is actually not used.. so ignore it..\n",
    "\n",
    "weighted.var.se <- function(x, w, na.rm=FALSE)\n",
    "  #  Computes the variance of a weighted mean following Cochran 1977 definition\n",
    "{\n",
    "  if (na.rm) { w <- w[i <- !is.na(x)]; x <- x[i] }\n",
    "  n = length(w)\n",
    "  xWbar = weighted.mean(x,w,na.rm=na.rm)\n",
    "  wbar = mean(w)\n",
    "  out = n/((n-1)*sum(w)^2)*(sum((w*x-wbar*xWbar)^2)-2*xWbar*sum((w-wbar)*(w*x-wbar*xWbar))+\n",
    "                            xWbar^2*sum((w-wbar)^2))\n",
    "  return(out)\n",
    "}\n",
    "\n",
    "mean_p_err_wtd = ddply(aggstats_df, .(Stim,state), summarise, result = weighted.mean(p_err,totresp))\n",
    "\n",
    "se_p_err_wtd = ddply(aggstats_df, .(Stim,state), summarise, \n",
    "                     result = (sqrt(weighted.var.se(p_err,totresp))))"
   ]
  },
  {
   "cell_type": "code",
   "execution_count": 20,
   "metadata": {},
   "outputs": [
    {
     "name": "stdout",
     "output_type": "stream",
     "text": [
      "   Stim  state result\n",
      "1  Left  Alert   0.12\n",
      "2  Left Drowsy   0.26\n",
      "3 Right  Alert   0.09\n",
      "4 Right Drowsy   0.11\n"
     ]
    }
   ],
   "source": [
    "%%R\n",
    "#just rounding to the 2 decimal points..\n",
    "mean_p_err_wtd[,3] <-round(mean_p_err_wtd[,3], digits = 2) \n",
    "se_p_err_wtd[,3] <-round(se_p_err_wtd[,3], digits = 2) \n",
    "\n",
    "mean_p_err[,3] <-round(mean_p_err[,3], digits = 2) \n",
    "se_p_err[,3] <-round(se_p_err[,3], digits = 2) \n",
    "\n",
    "mean_p_err"
   ]
  },
  {
   "cell_type": "code",
   "execution_count": 21,
   "metadata": {},
   "outputs": [
    {
     "name": "stdout",
     "output_type": "stream",
     "text": [
      "   Stim  state subj_idx totresp errcnt      p_err\n",
      "1  Left  Alert        2      56      3 0.05357143\n",
      "2 Right  Alert        2      55      1 0.01818182\n",
      "3  Left Drowsy        2     109     26 0.23853211\n",
      "4 Right Drowsy        2     132      4 0.03030303\n",
      "5  Left  Alert        4      56      0 0.00000000\n",
      "6 Right  Alert        4      56     10 0.17857143\n",
      "     Stim  state subj_idx totresp errcnt      p_err\n",
      "123  Left Drowsy       45     131     57 0.43511450\n",
      "124 Right Drowsy       45     152     10 0.06578947\n",
      "125  Left  Alert       46      55      5 0.09090909\n",
      "126 Right  Alert       46      56      1 0.01785714\n",
      "127  Left Drowsy       46      41      9 0.21951220\n",
      "128 Right Drowsy       46      36      0 0.00000000\n"
     ]
    }
   ],
   "source": [
    "%%R\n",
    "print(head(aggstats_df))\n",
    "print(tail(aggstats_df))"
   ]
  },
  {
   "cell_type": "code",
   "execution_count": 22,
   "metadata": {},
   "outputs": [
    {
     "name": "stdout",
     "output_type": "stream",
     "text": [
      "     Stim  state subj_idx totresp errcnt      p_err\n",
      "1    Left  Alert        2      56      3 0.05357143\n",
      "2   Right  Alert        2      55      1 0.01818182\n",
      "3    Left Drowsy        2     109     26 0.23853211\n",
      "4   Right Drowsy        2     132      4 0.03030303\n",
      "5    Left  Alert        4      56      0 0.00000000\n",
      "6   Right  Alert        4      56     10 0.17857143\n",
      "7    Left Drowsy        4     252      8 0.03174603\n",
      "8   Right Drowsy        4     238     49 0.20588235\n",
      "9    Left  Alert        5      56      2 0.03571429\n",
      "10  Right  Alert        5      56      4 0.07142857\n",
      "11   Left Drowsy        5     220     45 0.20454545\n",
      "12  Right Drowsy        5     235      9 0.03829787\n",
      "13   Left  Alert        6      55      7 0.12727273\n",
      "14  Right  Alert        6      54      4 0.07407407\n",
      "15   Left Drowsy        6     165     22 0.13333333\n",
      "16  Right Drowsy        6     175     15 0.08571429\n",
      "17   Left  Alert        7      56      1 0.01785714\n",
      "18  Right  Alert        7      54      6 0.11111111\n",
      "19   Left Drowsy        7     218     18 0.08256881\n",
      "20  Right Drowsy        7     219     22 0.10045662\n",
      "21   Left  Alert        9      56      3 0.05357143\n",
      "22  Right  Alert        9      56      4 0.07142857\n",
      "23   Left Drowsy        9      95     13 0.13684211\n",
      "24  Right Drowsy        9      93     44 0.47311828\n",
      "25   Left  Alert       10      56      0 0.00000000\n",
      "26  Right  Alert       10      56      5 0.08928571\n",
      "27   Left Drowsy       10     105      1 0.00952381\n",
      "28  Right Drowsy       10     116      3 0.02586207\n",
      "29   Left  Alert       20      49      4 0.08163265\n",
      "30  Right  Alert       20      46      2 0.04347826\n",
      "31   Left Drowsy       20     160     27 0.16875000\n",
      "32  Right Drowsy       20     146      4 0.02739726\n",
      "33   Left  Alert       21      55      9 0.16363636\n",
      "34  Right  Alert       21      56      2 0.03571429\n",
      "35   Left Drowsy       21     181     53 0.29281768\n",
      "36  Right Drowsy       21     204     35 0.17156863\n",
      "37   Left  Alert       22      30      0 0.00000000\n",
      "38  Right  Alert       22      11      0 0.00000000\n",
      "39   Left Drowsy       22     101      0 0.00000000\n",
      "40  Right Drowsy       22      38      1 0.02631579\n",
      "41   Left  Alert       23      51      5 0.09803922\n",
      "42  Right  Alert       23      54      4 0.07407407\n",
      "43   Left Drowsy       23     247     28 0.11336032\n",
      "44  Right Drowsy       23     273     56 0.20512821\n",
      "45   Left  Alert       24      56     13 0.23214286\n",
      "46  Right  Alert       24      55      3 0.05454545\n",
      "47   Left Drowsy       24     146     85 0.58219178\n",
      "48  Right Drowsy       24     135      6 0.04444444\n",
      "49   Left  Alert       25      53      8 0.15094340\n",
      "50  Right  Alert       25      52      3 0.05769231\n",
      "51   Left Drowsy       25     103     10 0.09708738\n",
      "52  Right Drowsy       25      86      7 0.08139535\n",
      "53   Left  Alert       26      48      4 0.08333333\n",
      "54  Right  Alert       26      41      3 0.07317073\n",
      "55   Left Drowsy       26     114     33 0.28947368\n",
      "56  Right Drowsy       26     112      9 0.08035714\n",
      "57   Left  Alert       27      10      0 0.00000000\n",
      "58  Right  Alert       27      22      0 0.00000000\n",
      "59   Left Drowsy       27      34      4 0.11764706\n",
      "60  Right Drowsy       27      59      1 0.01694915\n",
      "61   Left  Alert       28      55     12 0.21818182\n",
      "62  Right  Alert       28      56      2 0.03571429\n",
      "63   Left Drowsy       28     140     36 0.25714286\n",
      "64  Right Drowsy       28     137      2 0.01459854\n",
      "65   Left  Alert       30      56      9 0.16071429\n",
      "66  Right  Alert       30      53      1 0.01886792\n",
      "67   Left Drowsy       30      84     15 0.17857143\n",
      "68  Right Drowsy       30      99      6 0.06060606\n",
      "69   Left  Alert       31      56      3 0.05357143\n",
      "70  Right  Alert       31      56      9 0.16071429\n",
      "71   Left Drowsy       31      58     29 0.50000000\n",
      "72  Right Drowsy       31      69     18 0.26086957\n",
      "73   Left  Alert       32      54      1 0.01851852\n",
      "74  Right  Alert       32      52      5 0.09615385\n",
      "75   Left Drowsy       32       9      0 0.00000000\n",
      "76  Right Drowsy       32       6      1 0.16666667\n",
      "77   Left  Alert       33      46     12 0.26086957\n",
      "78  Right  Alert       33      52      6 0.11538462\n",
      "79   Left Drowsy       33     132     43 0.32575758\n",
      "80  Right Drowsy       33     145     26 0.17931034\n",
      "81   Left  Alert       34      54      4 0.07407407\n",
      "82  Right  Alert       34      55      3 0.05454545\n",
      "83   Left Drowsy       34      13      9 0.69230769\n",
      "85   Left  Alert       35      40      2 0.05000000\n",
      "86  Right  Alert       35      42     11 0.26190476\n",
      "87   Left Drowsy       35      79     39 0.49367089\n",
      "88  Right Drowsy       35      82     20 0.24390244\n",
      "89   Left  Alert       36      20      2 0.10000000\n",
      "90  Right  Alert       36      12      4 0.33333333\n",
      "91   Left Drowsy       36     183    119 0.65027322\n",
      "92  Right Drowsy       36     216      7 0.03240741\n",
      "93   Left  Alert       37      56     14 0.25000000\n",
      "94  Right  Alert       37      56      0 0.00000000\n",
      "95   Left Drowsy       37      81     34 0.41975309\n",
      "96  Right Drowsy       37      76      5 0.06578947\n",
      "97   Left  Alert       38      56     10 0.17857143\n",
      "98  Right  Alert       38      56      4 0.07142857\n",
      "99   Left Drowsy       38      35      6 0.17142857\n",
      "100 Right Drowsy       38      35      4 0.11428571\n",
      "101  Left  Alert       39      56     12 0.21428571\n",
      "102 Right  Alert       39      55      2 0.03636364\n",
      "103  Left Drowsy       39     165     43 0.26060606\n",
      "104 Right Drowsy       39     195      4 0.02051282\n",
      "105  Left  Alert       41      56     25 0.44642857\n",
      "106 Right  Alert       41      56      4 0.07142857\n",
      "107  Left Drowsy       41     167    120 0.71856287\n",
      "108 Right Drowsy       41     136      4 0.02941176\n",
      "109  Left  Alert       42      56      5 0.08928571\n",
      "110 Right  Alert       42      56      8 0.14285714\n",
      "111  Left Drowsy       42     283     52 0.18374558\n",
      "112 Right Drowsy       42     276     36 0.13043478\n",
      "113  Left  Alert       43      48      6 0.12500000\n",
      "114 Right  Alert       43      49     13 0.26530612\n",
      "115  Left Drowsy       43     186     53 0.28494624\n",
      "116 Right Drowsy       43     170     50 0.29411765\n",
      "117  Left  Alert       44      56      1 0.01785714\n",
      "118 Right  Alert       44      56      3 0.05357143\n",
      "119  Left Drowsy       44      63      4 0.06349206\n",
      "120 Right Drowsy       44      56      4 0.07142857\n",
      "121  Left  Alert       45      44     21 0.47727273\n",
      "122 Right  Alert       45      44      2 0.04545455\n",
      "123  Left Drowsy       45     131     57 0.43511450\n",
      "124 Right Drowsy       45     152     10 0.06578947\n",
      "125  Left  Alert       46      55      5 0.09090909\n",
      "126 Right  Alert       46      56      1 0.01785714\n",
      "127  Left Drowsy       46      41      9 0.21951220\n",
      "128 Right Drowsy       46      36      0 0.00000000\n"
     ]
    }
   ],
   "source": [
    "%%R\n",
    "aggstats_df"
   ]
  },
  {
   "cell_type": "code",
   "execution_count": 23,
   "metadata": {},
   "outputs": [
    {
     "name": "stdout",
     "output_type": "stream",
     "text": [
      "[1] ‘1.1.21’\n"
     ]
    }
   ],
   "source": [
    "%%R\n",
    "packageVersion(\"lme4\")"
   ]
  },
  {
   "cell_type": "code",
   "execution_count": 24,
   "metadata": {},
   "outputs": [
    {
     "name": "stderr",
     "output_type": "stream",
     "text": [
      "R[write to console]: Loading required package: lme4\n",
      "\n",
      "R[write to console]: Loading required package: Matrix\n",
      "\n",
      "R[write to console]: \n",
      "Attaching package: ‘lmerTest’\n",
      "\n",
      "\n",
      "R[write to console]: The following object is masked from ‘package:lme4’:\n",
      "\n",
      "    lmer\n",
      "\n",
      "\n",
      "R[write to console]: The following object is masked from ‘package:stats’:\n",
      "\n",
      "    step\n",
      "\n",
      "\n"
     ]
    }
   ],
   "source": [
    "%%R\n",
    "# Step 3: Multilevel model with missing values ~ Hierarchical model\n",
    "# First compare and choose the best model..\n",
    "\n",
    "library(lmerTest)\n",
    "\n",
    "model.null = lmer(p_err ~ 1 + (1|subj_idx), data=aggstats_df,\n",
    "                  REML=FALSE)\n",
    "\n",
    "model.state = lmer(p_err ~ state + (1|subj_idx), data=aggstats_df,\n",
    "                   REML=FALSE)\n",
    "\n",
    "model.Stim = lmer(p_err ~ Stim + (1|subj_idx), data=aggstats_df,\n",
    "                  REML=FALSE)\n",
    "\n",
    "model.StateStim = lmer(p_err ~ state*Stim + (1|subj_idx), data=aggstats_df,\n",
    "                       REML=FALSE)"
   ]
  },
  {
   "cell_type": "code",
   "execution_count": 25,
   "metadata": {},
   "outputs": [
    {
     "name": "stdout",
     "output_type": "stream",
     "text": [
      "Data: aggstats_df\n",
      "Models:\n",
      "model.null: p_err ~ 1 + (1 | subj_idx)\n",
      "model.state: p_err ~ state + (1 | subj_idx)\n",
      "            Df     AIC     BIC logLik deviance  Chisq Chi Df Pr(>Chisq)   \n",
      "model.null   3 -116.50 -107.97 61.249  -122.50                            \n",
      "model.state  4 -125.24 -113.87 66.622  -133.24 10.746      1   0.001045 **\n",
      "---\n",
      "Signif. codes:  0 ‘***’ 0.001 ‘**’ 0.01 ‘*’ 0.05 ‘.’ 0.1 ‘ ’ 1\n"
     ]
    }
   ],
   "source": [
    "%%R\n",
    "#compare the null model, with the state model..\n",
    "print(anova(model.null,model.state))"
   ]
  },
  {
   "cell_type": "code",
   "execution_count": 26,
   "metadata": {},
   "outputs": [
    {
     "name": "stdout",
     "output_type": "stream",
     "text": [
      "Data: aggstats_df\n",
      "Models:\n",
      "model.null: p_err ~ 1 + (1 | subj_idx)\n",
      "model.Stim: p_err ~ Stim + (1 | subj_idx)\n",
      "           Df     AIC     BIC logLik deviance  Chisq Chi Df Pr(>Chisq)    \n",
      "model.null  3 -116.50 -107.97 61.249  -122.50                             \n",
      "model.Stim  4 -128.92 -117.54 68.458  -136.92 14.419      1  0.0001463 ***\n",
      "---\n",
      "Signif. codes:  0 ‘***’ 0.001 ‘**’ 0.01 ‘*’ 0.05 ‘.’ 0.1 ‘ ’ 1\n"
     ]
    }
   ],
   "source": [
    "%%R\n",
    "#compare the null model, with the stim model..\n",
    "print(anova(model.null,model.Stim))"
   ]
  },
  {
   "cell_type": "code",
   "execution_count": 27,
   "metadata": {},
   "outputs": [
    {
     "name": "stdout",
     "output_type": "stream",
     "text": [
      "Data: aggstats_df\n",
      "Models:\n",
      "model.null: p_err ~ 1 + (1 | subj_idx)\n",
      "model.StateStim: p_err ~ state * Stim + (1 | subj_idx)\n",
      "                Df     AIC     BIC logLik deviance  Chisq Chi Df Pr(>Chisq)    \n",
      "model.null       3 -116.50 -107.97 61.249  -122.50                             \n",
      "model.StateStim  6 -143.96 -126.89 77.980  -155.96 33.462      3  2.573e-07 ***\n",
      "---\n",
      "Signif. codes:  0 ‘***’ 0.001 ‘**’ 0.01 ‘*’ 0.05 ‘.’ 0.1 ‘ ’ 1\n"
     ]
    }
   ],
   "source": [
    "%%R\n",
    "#compare the null model, with the statestim model..\n",
    "print(anova(model.null,model.StateStim))"
   ]
  },
  {
   "cell_type": "code",
   "execution_count": 28,
   "metadata": {},
   "outputs": [
    {
     "name": "stdout",
     "output_type": "stream",
     "text": [
      "Data: aggstats_df\n",
      "Models:\n",
      "model.Stim: p_err ~ Stim + (1 | subj_idx)\n",
      "model.StateStim: p_err ~ state * Stim + (1 | subj_idx)\n",
      "                Df     AIC     BIC logLik deviance  Chisq Chi Df Pr(>Chisq)    \n",
      "model.Stim       4 -128.92 -117.54 68.458  -136.92                             \n",
      "model.StateStim  6 -143.96 -126.89 77.980  -155.96 19.043      2  7.325e-05 ***\n",
      "---\n",
      "Signif. codes:  0 ‘***’ 0.001 ‘**’ 0.01 ‘*’ 0.05 ‘.’ 0.1 ‘ ’ 1\n"
     ]
    }
   ],
   "source": [
    "%%R\n",
    "#the above analysis show that the statestimlevel model has the highest loglikelihood and the next\n",
    "#highest is the statestim model, now we can make a direct comparison of them both..\n",
    "print(anova(model.Stim,model.StateStim))"
   ]
  },
  {
   "cell_type": "code",
   "execution_count": 29,
   "metadata": {},
   "outputs": [
    {
     "name": "stdout",
     "output_type": "stream",
     "text": [
      "Type III Analysis of Variance Table with Satterthwaite's method\n",
      "            Sum Sq Mean Sq NumDF DenDF F value    Pr(>F)    \n",
      "state      0.21023 0.21023     1 95.07 14.0465 0.0003061 ***\n",
      "Stim       0.28140 0.28140     1 95.07 18.8018 3.607e-05 ***\n",
      "state:Stim 0.10312 0.10312     1 95.07  6.8897 0.0101019 *  \n",
      "---\n",
      "Signif. codes:  0 ‘***’ 0.001 ‘**’ 0.01 ‘*’ 0.05 ‘.’ 0.1 ‘ ’ 1\n"
     ]
    }
   ],
   "source": [
    "%%R\n",
    "#the above analysis show that the statestim model is the most likely model..\n",
    "#Step4 :let's analyse the same..\n",
    "print(anova(model.StateStim))"
   ]
  },
  {
   "cell_type": "code",
   "execution_count": 30,
   "metadata": {},
   "outputs": [
    {
     "name": "stdout",
     "output_type": "stream",
     "text": [
      "NULL\n"
     ]
    }
   ],
   "source": [
    "%%R\n",
    "#the above table shows that there is a main effect of state(alert, drowsy); stim(left, right); \n",
    "#there is an interaction between state, stimulus: means some stimulus are affected by state more than the\n",
    "#rest, let's find out what.."
   ]
  },
  {
   "cell_type": "code",
   "execution_count": 31,
   "metadata": {},
   "outputs": [
    {
     "name": "stdout",
     "output_type": "stream",
     "text": [
      "'data.frame':\t127 obs. of  6 variables:\n",
      " $ Stim    : chr  \"Left\" \"Right\" \"Left\" \"Right\" ...\n",
      " $ state   : Factor w/ 2 levels \"Alert\",\"Drowsy\": 1 1 2 2 1 1 2 2 1 1 ...\n",
      " $ subj_idx: num  2 2 2 2 4 4 4 4 5 5 ...\n",
      " $ totresp : num  56 55 109 132 56 56 252 238 56 56 ...\n",
      " $ errcnt  : num  3 1 26 4 0 10 8 49 2 4 ...\n",
      " $ p_err   : num  0.0536 0.0182 0.2385 0.0303 0 ...\n"
     ]
    }
   ],
   "source": [
    "%%R\n",
    "str(aggstats_df)"
   ]
  },
  {
   "cell_type": "code",
   "execution_count": 32,
   "metadata": {},
   "outputs": [
    {
     "name": "stdout",
     "output_type": "stream",
     "text": [
      "\n",
      "\t Simultaneous Tests for General Linear Hypotheses\n",
      "\n",
      "Multiple Comparisons of Means: Tukey Contrasts\n",
      "\n",
      "\n",
      "Fit: lmer(formula = p_err ~ Stimstate + (1 | subj_idx), data = aggstats_df, \n",
      "    REML = FALSE)\n",
      "\n",
      "Linear Hypotheses:\n",
      "                                Estimate Std. Error z value Pr(>|z|)    \n",
      "Right.Alert - Left.Alert == 0   -0.03718    0.03058  -1.215    0.617    \n",
      "Left.Drowsy - Left.Alert == 0    0.13844    0.03058   4.526   <1e-04 ***\n",
      "Right.Drowsy - Left.Alert == 0  -0.01278    0.03086  -0.414    0.976    \n",
      "Left.Drowsy - Right.Alert == 0   0.17561    0.03058   5.742   <1e-04 ***\n",
      "Right.Drowsy - Right.Alert == 0  0.02440    0.03086   0.791    0.859    \n",
      "Right.Drowsy - Left.Drowsy == 0 -0.15122    0.03086  -4.900   <1e-04 ***\n",
      "---\n",
      "Signif. codes:  0 ‘***’ 0.001 ‘**’ 0.01 ‘*’ 0.05 ‘.’ 0.1 ‘ ’ 1\n",
      "(Adjusted p values reported -- single-step method)\n",
      "\n"
     ]
    }
   ],
   "source": [
    "%%R\n",
    "# Step 5: Post Hoc comparisions \n",
    "aggstats_df$Stimstate <- interaction(aggstats_df$Stim, aggstats_df$state)\n",
    "\n",
    "model = lmer(p_err ~ Stimstate + (1|subj_idx), data=aggstats_df,\n",
    "             REML=FALSE)\n",
    "\n",
    "print(summary(glht(model, mcp(Stimstate=\"Tukey\"))))"
   ]
  },
  {
   "cell_type": "code",
   "execution_count": 33,
   "metadata": {},
   "outputs": [
    {
     "name": "stdout",
     "output_type": "stream",
     "text": [
      "NULL\n"
     ]
    }
   ],
   "source": [
    "%%R\n",
    "#the above posthoc analysis shows that \n",
    "# Left.Drowsy - Left.Alert == 0    *** \n",
    "# Right.Drowsy - Right.Alert == 0 \n",
    "\n",
    "#the righthanders peformance declines on the left side of space when they become drowsy.."
   ]
  },
  {
   "cell_type": "code",
   "execution_count": 34,
   "metadata": {},
   "outputs": [
    {
     "name": "stdout",
     "output_type": "stream",
     "text": [
      "   Stim  state subj_idx totresp errcnt      p_err    Stimstate\n",
      "1  Left  Alert        2      56      3 0.05357143   Left.Alert\n",
      "2 Right  Alert        2      55      1 0.01818182  Right.Alert\n",
      "3  Left Drowsy        2     109     26 0.23853211  Left.Drowsy\n",
      "4 Right Drowsy        2     132      4 0.03030303 Right.Drowsy\n",
      "5  Left  Alert        4      56      0 0.00000000   Left.Alert\n",
      "6 Right  Alert        4      56     10 0.17857143  Right.Alert\n",
      "     Stim  state subj_idx totresp errcnt      p_err    Stimstate\n",
      "123  Left Drowsy       45     131     57 0.43511450  Left.Drowsy\n",
      "124 Right Drowsy       45     152     10 0.06578947 Right.Drowsy\n",
      "125  Left  Alert       46      55      5 0.09090909   Left.Alert\n",
      "126 Right  Alert       46      56      1 0.01785714  Right.Alert\n",
      "127  Left Drowsy       46      41      9 0.21951220  Left.Drowsy\n",
      "128 Right Drowsy       46      36      0 0.00000000 Right.Drowsy\n"
     ]
    }
   ],
   "source": [
    "%%R\n",
    "print(head(aggstats_df))\n",
    "print(tail(aggstats_df))"
   ]
  },
  {
   "cell_type": "code",
   "execution_count": 35,
   "metadata": {},
   "outputs": [],
   "source": [
    "%%R\n",
    "filename <-file.path(paste(basepath,behfilepath,\"error_proportion.csv\", sep = \"\"))\n",
    "write.csv(aggstats_df, file = filename,row.names=FALSE, na=\"\")"
   ]
  },
  {
   "cell_type": "code",
   "execution_count": 36,
   "metadata": {},
   "outputs": [],
   "source": [
    "import rpy2.robjects as ro\n",
    "from rpy2.robjects.packages import importr\n",
    "from rpy2.robjects import pandas2ri\n",
    "from rpy2.robjects.conversion import localconverter"
   ]
  },
  {
   "cell_type": "code",
   "execution_count": 37,
   "metadata": {},
   "outputs": [
    {
     "data": {
      "text/html": [
       "<div>\n",
       "<style scoped>\n",
       "    .dataframe tbody tr th:only-of-type {\n",
       "        vertical-align: middle;\n",
       "    }\n",
       "\n",
       "    .dataframe tbody tr th {\n",
       "        vertical-align: top;\n",
       "    }\n",
       "\n",
       "    .dataframe thead th {\n",
       "        text-align: right;\n",
       "    }\n",
       "</style>\n",
       "<table border=\"1\" class=\"dataframe\">\n",
       "  <thead>\n",
       "    <tr style=\"text-align: right;\">\n",
       "      <th></th>\n",
       "      <th>Stim</th>\n",
       "      <th>state</th>\n",
       "      <th>result</th>\n",
       "    </tr>\n",
       "  </thead>\n",
       "  <tbody>\n",
       "    <tr>\n",
       "      <th>1</th>\n",
       "      <td>Left</td>\n",
       "      <td>Alert</td>\n",
       "      <td>0.12</td>\n",
       "    </tr>\n",
       "    <tr>\n",
       "      <th>2</th>\n",
       "      <td>Left</td>\n",
       "      <td>Drowsy</td>\n",
       "      <td>0.26</td>\n",
       "    </tr>\n",
       "    <tr>\n",
       "      <th>3</th>\n",
       "      <td>Right</td>\n",
       "      <td>Alert</td>\n",
       "      <td>0.09</td>\n",
       "    </tr>\n",
       "    <tr>\n",
       "      <th>4</th>\n",
       "      <td>Right</td>\n",
       "      <td>Drowsy</td>\n",
       "      <td>0.11</td>\n",
       "    </tr>\n",
       "  </tbody>\n",
       "</table>\n",
       "</div>"
      ],
      "text/plain": [
       "    Stim   state  result\n",
       "1   Left   Alert    0.12\n",
       "2   Left  Drowsy    0.26\n",
       "3  Right   Alert    0.09\n",
       "4  Right  Drowsy    0.11"
      ]
     },
     "execution_count": 37,
     "metadata": {},
     "output_type": "execute_result"
    }
   ],
   "source": [
    "df_mean_p_err = ro.r('mean_p_err')\n",
    "with localconverter(ro.default_converter + pandas2ri.converter):\n",
    "  df_mean_p_err = ro.conversion.rpy2py(df_mean_p_err)\n",
    "df_mean_p_err"
   ]
  },
  {
   "cell_type": "code",
   "execution_count": 38,
   "metadata": {},
   "outputs": [
    {
     "data": {
      "text/html": [
       "<div>\n",
       "<style scoped>\n",
       "    .dataframe tbody tr th:only-of-type {\n",
       "        vertical-align: middle;\n",
       "    }\n",
       "\n",
       "    .dataframe tbody tr th {\n",
       "        vertical-align: top;\n",
       "    }\n",
       "\n",
       "    .dataframe thead th {\n",
       "        text-align: right;\n",
       "    }\n",
       "</style>\n",
       "<table border=\"1\" class=\"dataframe\">\n",
       "  <thead>\n",
       "    <tr style=\"text-align: right;\">\n",
       "      <th></th>\n",
       "      <th>Stim</th>\n",
       "      <th>state</th>\n",
       "      <th>result</th>\n",
       "    </tr>\n",
       "  </thead>\n",
       "  <tbody>\n",
       "    <tr>\n",
       "      <th>1</th>\n",
       "      <td>Left</td>\n",
       "      <td>Alert</td>\n",
       "      <td>0.02</td>\n",
       "    </tr>\n",
       "    <tr>\n",
       "      <th>2</th>\n",
       "      <td>Left</td>\n",
       "      <td>Drowsy</td>\n",
       "      <td>0.04</td>\n",
       "    </tr>\n",
       "    <tr>\n",
       "      <th>3</th>\n",
       "      <td>Right</td>\n",
       "      <td>Alert</td>\n",
       "      <td>0.01</td>\n",
       "    </tr>\n",
       "    <tr>\n",
       "      <th>4</th>\n",
       "      <td>Right</td>\n",
       "      <td>Drowsy</td>\n",
       "      <td>0.02</td>\n",
       "    </tr>\n",
       "  </tbody>\n",
       "</table>\n",
       "</div>"
      ],
      "text/plain": [
       "    Stim   state  result\n",
       "1   Left   Alert    0.02\n",
       "2   Left  Drowsy    0.04\n",
       "3  Right   Alert    0.01\n",
       "4  Right  Drowsy    0.02"
      ]
     },
     "execution_count": 38,
     "metadata": {},
     "output_type": "execute_result"
    }
   ],
   "source": [
    "df_se_p_err = ro.r('se_p_err')\n",
    "with localconverter(ro.default_converter + pandas2ri.converter):\n",
    "  df_se_p_err = ro.conversion.rpy2py(df_se_p_err)\n",
    "df_se_p_err"
   ]
  },
  {
   "cell_type": "code",
   "execution_count": 41,
   "metadata": {},
   "outputs": [],
   "source": [
    "base_dir = '/rds/project/tb419/rds-tb419-bekinschtein/Sri/SpatialAttention_Drowsiness/'\n",
    "output_dir = 'decArsousalDecisionmaking_JNeuroscience2021/Figures/'"
   ]
  },
  {
   "cell_type": "code",
   "execution_count": 42,
   "metadata": {},
   "outputs": [
    {
     "data": {
      "text/plain": [
       "'/rds/project/tb419/rds-tb419-bekinschtein/Sri/SpatialAttention_Drowsiness/decArsousalDecisionmaking_JNeuroscience2021/Figures/'"
      ]
     },
     "execution_count": 42,
     "metadata": {},
     "output_type": "execute_result"
    }
   ],
   "source": [
    "fig_dir = base_dir + output_dir\n",
    "fig_dir"
   ]
  },
  {
   "cell_type": "code",
   "execution_count": 45,
   "metadata": {},
   "outputs": [
    {
     "data": {
      "image/png": "[encoded data removed]",
      "text/plain": [
       "<Figure size 576x576 with 1 Axes>"
      ]
     },
     "metadata": {},
     "output_type": "display_data"
    }
   ],
   "source": [
    "#make the plot summarising the results now..\n",
    "fig = plt.figure()\n",
    "ax = fig.add_subplot(111, polar=True)\n",
    "\n",
    "ax.set_xticks(np.pi/180. * np.linspace(180,  -180, 16, endpoint=False))\n",
    "ax.set_yticks([.1,.2,.3,.4,.5])\n",
    "ax.set_ylim([0, 0.31])\n",
    "\n",
    "ax.set_thetamin(30)\n",
    "ax.set_thetamax(150)\n",
    "\n",
    "\n",
    "##left alert\n",
    "radii = df_mean_p_err[df_mean_p_err['Stim'].str.match('Left') & \n",
    "                      df_mean_p_err['state'].str.match('Alert')]['result']\n",
    "error = df_se_p_err[df_se_p_err['Stim'].str.match('Left') &\n",
    "                    df_se_p_err['state'].str.match('Alert')]['result']\n",
    "theta = [14.75]\n",
    "\n",
    "c = ax.scatter(theta, radii, color='r', s=40, alpha = 0.8, edgecolors='k', linewidth=1)\n",
    "ax.errorbar(theta, radii, yerr=error, xerr=.0,ecolor='r', mfc = 'r', mec = 'k', capsize=5,fmt='o', \n",
    "            linewidth=2, alpha = 0.8)\n",
    "\n",
    "\n",
    "##left drowsy\n",
    "radii = df_mean_p_err[df_mean_p_err['Stim'].str.match('Left') & \n",
    "                      df_mean_p_err['state'].str.match('Drowsy')]['result']\n",
    "error = df_se_p_err[df_se_p_err['Stim'].str.match('Left') &\n",
    "                    df_se_p_err['state'].str.match('Drowsy')]['result']\n",
    "theta = [14.35]\n",
    "c = ax.scatter(theta, radii, color = 'b', s=40, alpha = 0.8, edgecolors='k', linewidth=1)\n",
    "ax.errorbar(theta, radii, yerr=error, xerr=.0,ecolor='b', mfc = 'b', mec = 'k',capsize=5,fmt='o',\n",
    "            linewidth=2, alpha = 0.8)\n",
    "\n",
    "##right alert\n",
    "radii = df_mean_p_err[df_mean_p_err['Stim'].str.match('Right') & \n",
    "                      df_mean_p_err['state'].str.match('Alert')]['result']\n",
    "error = df_se_p_err[df_se_p_err['Stim'].str.match('Right') &\n",
    "                    df_se_p_err['state'].str.match('Alert')]['result']\n",
    "theta = [13.55]\n",
    "colors = ['red']\n",
    "c = ax.scatter(theta, radii, color='r', s=40, alpha = 0.8, edgecolors='k', linewidth=1)\n",
    "ax.errorbar(theta, radii, yerr=error, xerr=.0,ecolor='r', mfc = 'r', mec = 'k', capsize=5,fmt='o',\n",
    "            linewidth=2, alpha = 0.8)\n",
    "\n",
    "##right drowsy\n",
    "radii = df_mean_p_err[df_mean_p_err['Stim'].str.match('Right') & \n",
    "                      df_mean_p_err['state'].str.match('Drowsy')]['result']\n",
    "error = df_se_p_err[df_se_p_err['Stim'].str.match('Right') &\n",
    "                    df_se_p_err['state'].str.match('Drowsy')]['result']\n",
    "theta = [13.95]\n",
    "c = ax.scatter(theta, radii, color = 'b', s=40, alpha = 0.8, edgecolors='k', linewidth=1)\n",
    "ax.errorbar(theta, radii, yerr=error, xerr=.0,ecolor='b', mfc = 'b', mec = 'k',capsize=5,fmt='o',\n",
    "            linewidth=2, alpha = 0.8)\n",
    "\n",
    "ax.set_xticks([np.deg2rad(70),np.deg2rad(90),np.deg2rad(110)])\n",
    "ax.axes.xaxis.set_ticklabels(['','0$^\\circ$',''], rotation='vertical')\n",
    "\n",
    "ax.legend(['Alert','Drowsy'],loc='lower left', bbox_to_anchor=(0.10, 0.14), framealpha=0)\n",
    "\n",
    "# statistical annotation\n",
    "x1, x2 = 1.30, 1.15 \n",
    "y,h = 0.15, 0.02\n",
    "col = 'k' \n",
    "ax.plot([x1, x1, x2, x2], [y, y+h, y+h, y], lw=1.5, c=col)\n",
    "ax.text((x1+x2)*.48, y+h+0.01, \"ns\", ha='center', va='bottom', color=col)\n",
    "\n",
    "x1, x2 = 1.95, 1.85  \n",
    "y,h = 0.27, 0.01\n",
    "col = 'k' \n",
    "ax.plot([x1, x1, x2, x2], [y, y+h, y+h, y], lw=1.5, c=col)\n",
    "ax.text((x1+x2)*.50, y+h+0.001, \"***\", ha='center',va='bottom', color=col)\n",
    "\n",
    "x1, x2 = 2.30, 2.20  \n",
    "y,h = 0.19, 0.02\n",
    "ax.text((x1+x2)*.51, y+h+0.15, \"left\", ha='center',va='bottom', color=col)\n",
    "ax.text((x1+x2)*.18, y+h+0.15, \"right\", ha='center',va='bottom', color=col)\n",
    "\n",
    "ax.text(-.20, 0.16, \"Error-proportion\", rotation=30, ha='center',va='bottom', color=col)\n",
    "\n",
    "x1, x2 = 2.30, 2.20  \n",
    "y,h = 0.19, 0.02\n",
    "ax.text((x1+x2)*.34, y+h+0.18, \"\", ha='center',va='bottom', color=col)\n",
    "plt.box(True)\n",
    "ax.grid(True)\n",
    "plt.savefig(fig_dir + \"errorproportion.png\", bbox_inches = 'tight', pad_inches = 0.1, format='png',\n",
    "            dpi=240, transparent=False)"
   ]
  },
  {
   "cell_type": "code",
   "execution_count": null,
   "metadata": {},
   "outputs": [],
   "source": []
  },
  {
   "cell_type": "code",
   "execution_count": null,
   "metadata": {},
   "outputs": [],
   "source": []
  },
  {
   "cell_type": "code",
   "execution_count": null,
   "metadata": {},
   "outputs": [],
   "source": []
  }
 ],
 "metadata": {
  "kernelspec": {
   "display_name": "Python 3",
   "language": "python",
   "name": "python3"
  },
  "language_info": {
   "codemirror_mode": {
    "name": "ipython",
    "version": 3
   },
   "file_extension": ".py",
   "mimetype": "text/x-python",
   "name": "python",
   "nbconvert_exporter": "python",
   "pygments_lexer": "ipython3",
   "version": "3.6.1"
  }
 },
 "nbformat": 4,
 "nbformat_minor": 2
}
