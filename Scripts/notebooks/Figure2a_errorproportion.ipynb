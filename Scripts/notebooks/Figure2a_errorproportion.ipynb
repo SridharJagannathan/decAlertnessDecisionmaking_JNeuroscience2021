{
 "cells": [
  {
   "cell_type": "code",
   "execution_count": 1,
   "metadata": {},
   "outputs": [],
   "source": [
    "%load_ext rpy2.ipython"
   ]
  },
  {
   "cell_type": "code",
   "execution_count": 2,
   "metadata": {},
   "outputs": [],
   "source": [
    "import pandas as pd\n",
    "import scipy.io as io\n",
    "import matplotlib.pyplot as plt\n",
    "import matplotlib.pylab as pylab\n",
    "import numpy as np\n",
    "from matplotlib import gridspec\n",
    "import seaborn as sns\n",
    "import datetime\n",
    "from datetime import datetime, timedelta\n",
    "import pickle\n",
    "import itertools\n",
    "import glob"
   ]
  },
  {
   "cell_type": "code",
   "execution_count": 3,
   "metadata": {},
   "outputs": [],
   "source": [
    "import matplotlib.dates as dates\n",
    "from scipy import stats\n",
    "from scipy.stats import variation\n",
    "import math\n",
    "from sklearn import preprocessing\n",
    "from scipy.signal import butter, filtfilt\n",
    "import itertools"
   ]
  },
  {
   "cell_type": "code",
   "execution_count": 4,
   "metadata": {},
   "outputs": [],
   "source": [
    "import matplotlib.pyplot as plt\n",
    "#font = {'family': 'serif', 'serif': ['Palatino']}\n",
    "font = {'family': 'serif', 'serif': ['Helvetica']}\n",
    "plt.rc('font', **font)\n",
    "plt.rc('text', usetex=False)"
   ]
  },
  {
   "cell_type": "code",
   "execution_count": 5,
   "metadata": {},
   "outputs": [],
   "source": [
    "label_fontsize = 16\n",
    "title_fontsize = 16"
   ]
  },
  {
   "cell_type": "code",
   "execution_count": 6,
   "metadata": {},
   "outputs": [],
   "source": [
    "#Set up parameters for figure display\n",
    "params = {'legend.fontsize': 'x-large',\n",
    "          'figure.figsize': (8, 8),\n",
    "         'axes.labelsize': 'x-large',\n",
    "         'axes.titlesize':'x-large',\n",
    "         'axes.labelweight': 'bold',\n",
    "         'xtick.labelsize':'x-large',\n",
    "         'ytick.labelsize':'x-large'}\n",
    "\n",
    "pylab.rcParams.update(params)\n",
    "pylab.rcParams[\"font.family\"] = \"serif\"\n",
    "pylab.rcParams[\"font.weight\"] = \"heavy\"\n",
    "#pylab.rcParams.update({'figure.autolayout': True})"
   ]
  },
  {
   "cell_type": "code",
   "execution_count": 7,
   "metadata": {},
   "outputs": [],
   "source": [
    "sns.set(font_scale=1.25, style=\"whitegrid\")"
   ]
  },
  {
   "cell_type": "code",
   "execution_count": 8,
   "metadata": {},
   "outputs": [
    {
     "name": "stdout",
     "output_type": "stream",
     "text": [
      "NULL\n"
     ]
    }
   ],
   "source": [
    "%%R\n",
    "#install.packages(\"BayesFactor\", repos='http://cran.us.r-project.org')"
   ]
  },
  {
   "cell_type": "code",
   "execution_count": 9,
   "metadata": {},
   "outputs": [
    {
     "name": "stderr",
     "output_type": "stream",
     "text": [
      "R[write to console]: Loading required package: mvtnorm\n",
      "\n",
      "R[write to console]: Loading required package: survival\n",
      "\n",
      "R[write to console]: Loading required package: TH.data\n",
      "\n",
      "R[write to console]: Loading required package: MASS\n",
      "\n",
      "R[write to console]: \n",
      "Attaching package: ‘TH.data’\n",
      "\n",
      "\n",
      "R[write to console]: The following object is masked from ‘package:MASS’:\n",
      "\n",
      "    geyser\n",
      "\n",
      "\n"
     ]
    }
   ],
   "source": [
    "%%R\n",
    "rm(list = ls())  #remove elements from current workspace\n",
    "library(\"plyr\")\n",
    "library(\"emmeans\")\n",
    "library(\"reshape2\")\n",
    "library(\"multcomp\")\n",
    "library(\"MuMIn\")"
   ]
  },
  {
   "cell_type": "code",
   "execution_count": 10,
   "metadata": {},
   "outputs": [],
   "source": [
    "%%R\n",
    "basepath = \"/rds/project/tb419/rds-tb419-bekinschtein/Sri/SpatialAttention_Drowsiness/\"\n",
    "behfilepath = \"decAlertnessDecisionmaking_JNeuroscience2021/beh_data/csv_files/\""
   ]
  },
  {
   "cell_type": "code",
   "execution_count": 11,
   "metadata": {},
   "outputs": [],
   "source": [
    "%%R\n",
    "#read the csv file first (created by process_psychophysics)\n",
    "csvfile = paste(basepath,behfilepath,\"psychophysics.csv\",sep=\"\")\n",
    "myoveralldata = read.csv(csvfile) # read csv file"
   ]
  },
  {
   "cell_type": "code",
   "execution_count": 12,
   "metadata": {},
   "outputs": [
    {
     "name": "stdout",
     "output_type": "stream",
     "text": [
      "  subj_idx stim leftresp rightresp totresp state\n",
      "1        2  -60        2         0       2 Alert\n",
      "2        2  -55        2         0       2 Alert\n",
      "3        2  -50        2         0       2 Alert\n",
      "4        2  -45        4         0       4 Alert\n",
      "5        2  -40        2         0       2 Alert\n",
      "6        2  -35        4         0       4 Alert\n"
     ]
    }
   ],
   "source": [
    "%%R\n",
    "head(myoveralldata)"
   ]
  },
  {
   "cell_type": "code",
   "execution_count": 13,
   "metadata": {},
   "outputs": [
    {
     "name": "stdout",
     "output_type": "stream",
     "text": [
      " [1]  2  4  5  6  7  9 10 20 21 22 23 24 25 26 27 28 30 31 32 33 34 35 36 37 38\n",
      "[26] 39 41 42 43 44 45 46\n"
     ]
    }
   ],
   "source": [
    "%%R\n",
    "#remove <- c()\n",
    "subj_idxs = unique(myoveralldata$subj_idx)\n",
    "#subj_idxs = subj_idxs [! subj_idxs %in% remove]\n",
    "print(unique(subj_idxs))\n",
    "\n",
    "#make a dataframe with the same column title as the csv file..\n",
    "mycopydata3 <- myoveralldata[0,]\n",
    "mycopydata3 <- cbind(mycopydata3, data.frame(errcnt=double(),stringsAsFactors=FALSE))"
   ]
  },
  {
   "cell_type": "code",
   "execution_count": 14,
   "metadata": {},
   "outputs": [
    {
     "name": "stdout",
     "output_type": "stream",
     "text": [
      "[1] subj_idx  stim      leftresp  rightresp totresp   state     errcnt   \n",
      "<0 rows> (or 0-length row.names)\n"
     ]
    }
   ],
   "source": [
    "%%R\n",
    "head(mycopydata3)"
   ]
  },
  {
   "cell_type": "code",
   "execution_count": 15,
   "metadata": {},
   "outputs": [
    {
     "name": "stdout",
     "output_type": "stream",
     "text": [
      "\n",
      "Processing subject::  2\n",
      "Processing subject::  4\n",
      "Processing subject::  5\n",
      "Processing subject::  6\n",
      "Processing subject::  7\n",
      "Processing subject::  9\n",
      "Processing subject::  10\n",
      "Processing subject::  20\n",
      "Processing subject::  21\n",
      "Processing subject::  22\n",
      "Processing subject::  23\n",
      "Processing subject::  24\n",
      "Processing subject::  25\n",
      "Processing subject::  26\n",
      "Processing subject::  27\n",
      "Processing subject::  28\n",
      "Processing subject::  30\n",
      "Processing subject::  31\n",
      "Processing subject::  32\n",
      "Processing subject::  33\n",
      "Processing subject::  34\n",
      "Processing subject::  35\n",
      "Processing subject::  36\n",
      "Processing subject::  37\n",
      "Processing subject::  38\n",
      "Processing subject::  39\n",
      "Processing subject::  41\n",
      "Processing subject::  42\n",
      "Processing subject::  43\n",
      "Processing subject::  44\n",
      "Processing subject::  45\n",
      "Processing subject::  46"
     ]
    }
   ],
   "source": [
    "%%R\n",
    "#fill in the dataframe with the csv data along with error count..\n",
    "\n",
    "for (tempidx in 1:length(subj_idxs))\n",
    "    {\n",
    "        subjid = subj_idxs[tempidx]\n",
    "        cat(\"\\nProcessing subject:: \", subjid)\n",
    "        mydata = myoveralldata[myoveralldata$subj_idx == subjid,]\n",
    "\n",
    "        #compute error count with copy data..\n",
    "        mycopydata <- mydata\n",
    "        mycopydata$errcnt <- NaN\n",
    "        lefttrials = mycopydata$stim<0\n",
    "        mycopydata$errcnt[lefttrials] <-mycopydata$rightresp[lefttrials]\n",
    "        righttrials = mycopydata$stim>0\n",
    "        mycopydata$errcnt[righttrials] <-mycopydata$leftresp[righttrials]\n",
    "\n",
    "        mydata$p_right = mydata$rightresp / mydata$totresp\n",
    "        mydata2 <- mydata[complete.cases(mydata),]\n",
    "\n",
    "        mycopydata2 <- mycopydata[complete.cases(mydata),]\n",
    "\n",
    "        mycopydata3 <- rbind(mycopydata3,mycopydata2)\n",
    "\n",
    "}"
   ]
  },
  {
   "cell_type": "code",
   "execution_count": 16,
   "metadata": {},
   "outputs": [],
   "source": [
    "%%R\n",
    "#Add the stimulus code to the dataframe now..\n",
    "\n",
    "condition1 = c(\"Alert\",\"Drowsy\")\n",
    "mycopydata3 <- mycopydata3[mycopydata3$state %in% condition1, ]\n",
    "\n",
    "mycopydata3[which(mycopydata3$stim < 0),\"Stim\"] <- 'Left'\n",
    "\n",
    "mycopydata3[which(mycopydata3$stim > 0),\"Stim\"] <- 'Right'"
   ]
  },
  {
   "cell_type": "code",
   "execution_count": 17,
   "metadata": {},
   "outputs": [
    {
     "name": "stdout",
     "output_type": "stream",
     "text": [
      "  subj_idx stim leftresp rightresp totresp state errcnt Stim\n",
      "1        2  -60        2         0       2 Alert      0 Left\n",
      "2        2  -55        2         0       2 Alert      0 Left\n",
      "3        2  -50        2         0       2 Alert      0 Left\n",
      "4        2  -45        4         0       4 Alert      0 Left\n",
      "5        2  -40        2         0       2 Alert      0 Left\n",
      "6        2  -35        4         0       4 Alert      0 Left\n",
      "     subj_idx stim leftresp rightresp totresp  state errcnt  Stim\n",
      "1595       46   35        0         3       3 Drowsy      0 Right\n",
      "1596       46   40        0         5       5 Drowsy      0 Right\n",
      "1597       46   45        0         4       4 Drowsy      0 Right\n",
      "1598       46   50        0         2       2 Drowsy      0 Right\n",
      "1599       46   55        0         2       2 Drowsy      0 Right\n",
      "1600       46   60        0         1       1 Drowsy      0 Right\n"
     ]
    }
   ],
   "source": [
    "%%R\n",
    "print(head(mycopydata3))\n",
    "print(tail(mycopydata3))"
   ]
  },
  {
   "cell_type": "code",
   "execution_count": 18,
   "metadata": {},
   "outputs": [],
   "source": [
    "%%R\n",
    "#compute the aggregate data of total response, error count grouped on the stimulus code, state and \n",
    "#subjectid..\n",
    "\n",
    "aggstats_df <- aggregate(cbind(totresp, errcnt) ~ (Stim+state+subj_idx), \n",
    "                         data=mycopydata3, sum, na.rm=TRUE)\n",
    "\n",
    "#remove data with total response <=5..\n",
    "aggstats_df[which(aggstats_df$totresp <= 5),\"Stim\"] <- NA\n",
    "aggstats_df <- aggstats_df[complete.cases(aggstats_df),]\n",
    "\n",
    "#compute proportion of error responses..\n",
    "aggstats_df$p_err = aggstats_df$errcnt/aggstats_df$totresp\n",
    "\n",
    "#compute the mean proportion error..\n",
    "mean_p_err = ddply(aggstats_df, .(Stim,state), summarise, result = mean(p_err))\n",
    "\n",
    "#compute the standard error of proportion error..\n",
    "se_p_err = ddply(aggstats_df, .(Stim,state), summarise, result = sd(p_err)/sqrt(length(p_err)))"
   ]
  },
  {
   "cell_type": "code",
   "execution_count": 19,
   "metadata": {},
   "outputs": [],
   "source": [
    "%%R\n",
    "#compute the weighted mean and standard error for the above data..\n",
    "#this is actually not used.. so ignore it..\n",
    "\n",
    "weighted.var.se <- function(x, w, na.rm=FALSE)\n",
    "  #  Computes the variance of a weighted mean following Cochran 1977 definition\n",
    "{\n",
    "  if (na.rm) { w <- w[i <- !is.na(x)]; x <- x[i] }\n",
    "  n = length(w)\n",
    "  xWbar = weighted.mean(x,w,na.rm=na.rm)\n",
    "  wbar = mean(w)\n",
    "  out = n/((n-1)*sum(w)^2)*(sum((w*x-wbar*xWbar)^2)-2*xWbar*sum((w-wbar)*(w*x-wbar*xWbar))+\n",
    "                            xWbar^2*sum((w-wbar)^2))\n",
    "  return(out)\n",
    "}\n",
    "\n",
    "mean_p_err_wtd = ddply(aggstats_df, .(Stim,state), summarise, result = weighted.mean(p_err,totresp))\n",
    "\n",
    "se_p_err_wtd = ddply(aggstats_df, .(Stim,state), summarise, \n",
    "                     result = (sqrt(weighted.var.se(p_err,totresp))))"
   ]
  },
  {
   "cell_type": "code",
   "execution_count": 20,
   "metadata": {},
   "outputs": [
    {
     "name": "stdout",
     "output_type": "stream",
     "text": [
      "   Stim  state result\n",
      "1  Left  Alert   0.12\n",
      "2  Left Drowsy   0.28\n",
      "3 Right  Alert   0.09\n",
      "4 Right Drowsy   0.11\n"
     ]
    }
   ],
   "source": [
    "%%R\n",
    "#just rounding to the 2 decimal points..\n",
    "mean_p_err_wtd[,3] <-round(mean_p_err_wtd[,3], digits = 2) \n",
    "se_p_err_wtd[,3] <-round(se_p_err_wtd[,3], digits = 2) \n",
    "\n",
    "mean_p_err[,3] <-round(mean_p_err[,3], digits = 2) \n",
    "se_p_err[,3] <-round(se_p_err[,3], digits = 2) \n",
    "\n",
    "mean_p_err"
   ]
  },
  {
   "cell_type": "code",
   "execution_count": 21,
   "metadata": {},
   "outputs": [
    {
     "name": "stdout",
     "output_type": "stream",
     "text": [
      "   Stim  state subj_idx totresp errcnt      p_err\n",
      "1  Left  Alert        2      56      3 0.05357143\n",
      "2 Right  Alert        2      55      1 0.01818182\n",
      "3  Left Drowsy        2     114     28 0.24561404\n",
      "4 Right Drowsy        2     127      4 0.03149606\n",
      "5  Left  Alert        4      56      0 0.00000000\n",
      "6 Right  Alert        4      56     10 0.17857143\n",
      "     Stim  state subj_idx totresp errcnt      p_err\n",
      "123  Left Drowsy       45     133     58 0.43609023\n",
      "124 Right Drowsy       45     151     10 0.06622517\n",
      "125  Left  Alert       46      55      5 0.09090909\n",
      "126 Right  Alert       46      56      1 0.01785714\n",
      "127  Left Drowsy       46      30      8 0.26666667\n",
      "128 Right Drowsy       46      29      0 0.00000000\n"
     ]
    }
   ],
   "source": [
    "%%R\n",
    "print(head(aggstats_df))\n",
    "print(tail(aggstats_df))"
   ]
  },
  {
   "cell_type": "code",
   "execution_count": 22,
   "metadata": {},
   "outputs": [
    {
     "name": "stdout",
     "output_type": "stream",
     "text": [
      "     Stim  state subj_idx totresp errcnt      p_err\n",
      "1    Left  Alert        2      56      3 0.05357143\n",
      "2   Right  Alert        2      55      1 0.01818182\n",
      "3    Left Drowsy        2     114     28 0.24561404\n",
      "4   Right Drowsy        2     127      4 0.03149606\n",
      "5    Left  Alert        4      56      0 0.00000000\n",
      "6   Right  Alert        4      56     10 0.17857143\n",
      "7    Left Drowsy        4     249      8 0.03212851\n",
      "8   Right Drowsy        4     234     50 0.21367521\n",
      "9    Left  Alert        5      56      2 0.03571429\n",
      "10  Right  Alert        5      56      4 0.07142857\n",
      "11   Left Drowsy        5     223     45 0.20179372\n",
      "12  Right Drowsy        5     238      9 0.03781513\n",
      "13   Left  Alert        6      55      7 0.12727273\n",
      "14  Right  Alert        6      54      4 0.07407407\n",
      "15   Left Drowsy        6     189     25 0.13227513\n",
      "16  Right Drowsy        6     176     16 0.09090909\n",
      "17   Left  Alert        7      56      1 0.01785714\n",
      "18  Right  Alert        7      54      6 0.11111111\n",
      "19   Left Drowsy        7     206     19 0.09223301\n",
      "20  Right Drowsy        7     205     22 0.10731707\n",
      "21   Left  Alert        9      56      3 0.05357143\n",
      "22  Right  Alert        9      56      4 0.07142857\n",
      "23   Left Drowsy        9      96     13 0.13541667\n",
      "24  Right Drowsy        9      95     45 0.47368421\n",
      "25   Left  Alert       10      56      0 0.00000000\n",
      "26  Right  Alert       10      56      5 0.08928571\n",
      "27   Left Drowsy       10      97      1 0.01030928\n",
      "28  Right Drowsy       10     120      2 0.01666667\n",
      "29   Left  Alert       20      49      4 0.08163265\n",
      "30  Right  Alert       20      46      2 0.04347826\n",
      "31   Left Drowsy       20     139     27 0.19424460\n",
      "32  Right Drowsy       20     136      4 0.02941176\n",
      "33   Left  Alert       21      55      9 0.16363636\n",
      "34  Right  Alert       21      56      2 0.03571429\n",
      "35   Left Drowsy       21     206     56 0.27184466\n",
      "36  Right Drowsy       21     216     35 0.16203704\n",
      "37   Left  Alert       22      30      0 0.00000000\n",
      "38  Right  Alert       22      11      0 0.00000000\n",
      "39   Left Drowsy       22     113      0 0.00000000\n",
      "40  Right Drowsy       22      40      1 0.02500000\n",
      "41   Left  Alert       23      51      5 0.09803922\n",
      "42  Right  Alert       23      54      4 0.07407407\n",
      "43   Left Drowsy       23     248     28 0.11290323\n",
      "44  Right Drowsy       23     270     56 0.20740741\n",
      "45   Left  Alert       24      56     13 0.23214286\n",
      "46  Right  Alert       24      55      3 0.05454545\n",
      "47   Left Drowsy       24      81     56 0.69135802\n",
      "48  Right Drowsy       24      73      2 0.02739726\n",
      "49   Left  Alert       25      53      8 0.15094340\n",
      "50  Right  Alert       25      52      3 0.05769231\n",
      "51   Left Drowsy       25      36      5 0.13888889\n",
      "52  Right Drowsy       25      27      1 0.03703704\n",
      "53   Left  Alert       26      48      4 0.08333333\n",
      "54  Right  Alert       26      41      3 0.07317073\n",
      "55   Left Drowsy       26     102     30 0.29411765\n",
      "56  Right Drowsy       26     102      8 0.07843137\n",
      "57   Left  Alert       27      10      0 0.00000000\n",
      "58  Right  Alert       27      22      0 0.00000000\n",
      "59   Left Drowsy       27      32      4 0.12500000\n",
      "60  Right Drowsy       27      60      1 0.01666667\n",
      "61   Left  Alert       28      55     12 0.21818182\n",
      "62  Right  Alert       28      56      2 0.03571429\n",
      "63   Left Drowsy       28     147     40 0.27210884\n",
      "64  Right Drowsy       28     139      2 0.01438849\n",
      "65   Left  Alert       30      56      9 0.16071429\n",
      "66  Right  Alert       30      53      1 0.01886792\n",
      "67   Left Drowsy       30      88     16 0.18181818\n",
      "68  Right Drowsy       30     101      6 0.05940594\n",
      "69   Left  Alert       31      56      3 0.05357143\n",
      "70  Right  Alert       31      56      9 0.16071429\n",
      "71   Left Drowsy       31      70     27 0.38571429\n",
      "72  Right Drowsy       31      74     21 0.28378378\n",
      "73   Left  Alert       32      54      1 0.01851852\n",
      "74  Right  Alert       32      52      5 0.09615385\n",
      "77   Left  Alert       33      46     12 0.26086957\n",
      "78  Right  Alert       33      52      6 0.11538462\n",
      "79   Left Drowsy       33     140     45 0.32142857\n",
      "80  Right Drowsy       33     145     27 0.18620690\n",
      "81   Left  Alert       34      54      4 0.07407407\n",
      "82  Right  Alert       34      55      3 0.05454545\n",
      "83   Left Drowsy       34      12      8 0.66666667\n",
      "85   Left  Alert       35      40      2 0.05000000\n",
      "86  Right  Alert       35      42     11 0.26190476\n",
      "87   Left Drowsy       35      77     39 0.50649351\n",
      "88  Right Drowsy       35      75     16 0.21333333\n",
      "89   Left  Alert       36      20      2 0.10000000\n",
      "90  Right  Alert       36      12      4 0.33333333\n",
      "91   Left Drowsy       36     172    113 0.65697674\n",
      "92  Right Drowsy       36     197      7 0.03553299\n",
      "93   Left  Alert       37      56     14 0.25000000\n",
      "94  Right  Alert       37      56      0 0.00000000\n",
      "95   Left Drowsy       37      82     40 0.48780488\n",
      "96  Right Drowsy       37      72      5 0.06944444\n",
      "97   Left  Alert       38      56     10 0.17857143\n",
      "98  Right  Alert       38      56      4 0.07142857\n",
      "99   Left Drowsy       38      32      6 0.18750000\n",
      "100 Right Drowsy       38      33      5 0.15151515\n",
      "101  Left  Alert       39      56     12 0.21428571\n",
      "102 Right  Alert       39      55      2 0.03636364\n",
      "103  Left Drowsy       39     171     45 0.26315789\n",
      "104 Right Drowsy       39     220      4 0.01818182\n",
      "105  Left  Alert       41      56     25 0.44642857\n",
      "106 Right  Alert       41      56      4 0.07142857\n",
      "107  Left Drowsy       41     165    119 0.72121212\n",
      "108 Right Drowsy       41     134      4 0.02985075\n",
      "109  Left  Alert       42      56      5 0.08928571\n",
      "110 Right  Alert       42      56      8 0.14285714\n",
      "111  Left Drowsy       42     283     51 0.18021201\n",
      "112 Right Drowsy       42     279     36 0.12903226\n",
      "113  Left  Alert       43      48      6 0.12500000\n",
      "114 Right  Alert       43      49     13 0.26530612\n",
      "115  Left Drowsy       43     199     58 0.29145729\n",
      "116 Right Drowsy       43     182     54 0.29670330\n",
      "117  Left  Alert       44      56      1 0.01785714\n",
      "118 Right  Alert       44      56      3 0.05357143\n",
      "119  Left Drowsy       44      65      4 0.06153846\n",
      "120 Right Drowsy       44      58      5 0.08620690\n",
      "121  Left  Alert       45      44     21 0.47727273\n",
      "122 Right  Alert       45      44      2 0.04545455\n",
      "123  Left Drowsy       45     133     58 0.43609023\n",
      "124 Right Drowsy       45     151     10 0.06622517\n",
      "125  Left  Alert       46      55      5 0.09090909\n",
      "126 Right  Alert       46      56      1 0.01785714\n",
      "127  Left Drowsy       46      30      8 0.26666667\n",
      "128 Right Drowsy       46      29      0 0.00000000\n"
     ]
    }
   ],
   "source": [
    "%%R\n",
    "aggstats_df"
   ]
  },
  {
   "cell_type": "code",
   "execution_count": 23,
   "metadata": {},
   "outputs": [
    {
     "name": "stdout",
     "output_type": "stream",
     "text": [
      "[1] ‘1.1.21’\n"
     ]
    }
   ],
   "source": [
    "%%R\n",
    "packageVersion(\"lme4\")"
   ]
  },
  {
   "cell_type": "code",
   "execution_count": 24,
   "metadata": {},
   "outputs": [
    {
     "name": "stderr",
     "output_type": "stream",
     "text": [
      "R[write to console]: Loading required package: lme4\n",
      "\n",
      "R[write to console]: Loading required package: Matrix\n",
      "\n",
      "R[write to console]: \n",
      "Attaching package: ‘lmerTest’\n",
      "\n",
      "\n",
      "R[write to console]: The following object is masked from ‘package:lme4’:\n",
      "\n",
      "    lmer\n",
      "\n",
      "\n",
      "R[write to console]: The following object is masked from ‘package:stats’:\n",
      "\n",
      "    step\n",
      "\n",
      "\n"
     ]
    }
   ],
   "source": [
    "%%R\n",
    "# Step 3: Multilevel model with missing values ~ Hierarchical model\n",
    "# First compare and choose the best model..\n",
    "\n",
    "library(lmerTest)\n",
    "\n",
    "model.null = lmer(p_err ~ 1 + (1|subj_idx), data=aggstats_df,\n",
    "                  REML=FALSE)\n",
    "\n",
    "model.state = lmer(p_err ~ state + (1|subj_idx), data=aggstats_df,\n",
    "                   REML=FALSE)\n",
    "\n",
    "model.Stim = lmer(p_err ~ Stim + (1|subj_idx), data=aggstats_df,\n",
    "                  REML=FALSE)\n",
    "\n",
    "model.StateStim = lmer(p_err ~ state*Stim + (1|subj_idx), data=aggstats_df,\n",
    "                       REML=FALSE)"
   ]
  },
  {
   "cell_type": "code",
   "execution_count": 25,
   "metadata": {},
   "outputs": [
    {
     "name": "stdout",
     "output_type": "stream",
     "text": [
      "Data: aggstats_df\n",
      "Models:\n",
      "model.null: p_err ~ 1 + (1 | subj_idx)\n",
      "model.state: p_err ~ state + (1 | subj_idx)\n",
      "            Df     AIC     BIC logLik deviance  Chisq Chi Df Pr(>Chisq)    \n",
      "model.null   3 -109.10 -100.61 57.550  -115.10                             \n",
      "model.state  4 -118.68 -107.36 63.339  -126.68 11.578      1  0.0006674 ***\n",
      "---\n",
      "Signif. codes:  0 ‘***’ 0.001 ‘**’ 0.01 ‘*’ 0.05 ‘.’ 0.1 ‘ ’ 1\n"
     ]
    }
   ],
   "source": [
    "%%R\n",
    "#compare the null model, with the state model..\n",
    "print(anova(model.null,model.state))"
   ]
  },
  {
   "cell_type": "code",
   "execution_count": 26,
   "metadata": {},
   "outputs": [
    {
     "name": "stdout",
     "output_type": "stream",
     "text": [
      "Data: aggstats_df\n",
      "Models:\n",
      "model.null: p_err ~ 1 + (1 | subj_idx)\n",
      "model.Stim: p_err ~ Stim + (1 | subj_idx)\n",
      "           Df     AIC     BIC logLik deviance Chisq Chi Df Pr(>Chisq)    \n",
      "model.null  3 -109.10 -100.61  57.55  -115.10                            \n",
      "model.Stim  4 -122.78 -111.47  65.39  -130.78 15.68      1    7.5e-05 ***\n",
      "---\n",
      "Signif. codes:  0 ‘***’ 0.001 ‘**’ 0.01 ‘*’ 0.05 ‘.’ 0.1 ‘ ’ 1\n"
     ]
    }
   ],
   "source": [
    "%%R\n",
    "#compare the null model, with the stim model..\n",
    "print(anova(model.null,model.Stim))"
   ]
  },
  {
   "cell_type": "code",
   "execution_count": 27,
   "metadata": {},
   "outputs": [
    {
     "name": "stdout",
     "output_type": "stream",
     "text": [
      "Data: aggstats_df\n",
      "Models:\n",
      "model.null: p_err ~ 1 + (1 | subj_idx)\n",
      "model.StateStim: p_err ~ state * Stim + (1 | subj_idx)\n",
      "                Df     AIC     BIC logLik deviance Chisq Chi Df Pr(>Chisq)    \n",
      "model.null       3 -109.10 -100.61  57.55  -115.10                            \n",
      "model.StateStim  6 -140.78 -123.81  76.39  -152.78 37.68      3  3.303e-08 ***\n",
      "---\n",
      "Signif. codes:  0 ‘***’ 0.001 ‘**’ 0.01 ‘*’ 0.05 ‘.’ 0.1 ‘ ’ 1\n"
     ]
    }
   ],
   "source": [
    "%%R\n",
    "#compare the null model, with the statestim model..\n",
    "print(anova(model.null,model.StateStim))"
   ]
  },
  {
   "cell_type": "code",
   "execution_count": 28,
   "metadata": {},
   "outputs": [
    {
     "name": "stdout",
     "output_type": "stream",
     "text": [
      "Data: aggstats_df\n",
      "Models:\n",
      "model.Stim: p_err ~ Stim + (1 | subj_idx)\n",
      "model.StateStim: p_err ~ state * Stim + (1 | subj_idx)\n",
      "                Df     AIC     BIC logLik deviance Chisq Chi Df Pr(>Chisq)    \n",
      "model.Stim       4 -122.78 -111.47  65.39  -130.78                            \n",
      "model.StateStim  6 -140.78 -123.81  76.39  -152.78    22      2   1.67e-05 ***\n",
      "---\n",
      "Signif. codes:  0 ‘***’ 0.001 ‘**’ 0.01 ‘*’ 0.05 ‘.’ 0.1 ‘ ’ 1\n"
     ]
    }
   ],
   "source": [
    "%%R\n",
    "#the above analysis show that the statestimlevel model has the highest loglikelihood and the next\n",
    "#highest is the statestim model, now we can make a direct comparison of them both..\n",
    "print(anova(model.Stim,model.StateStim))"
   ]
  },
  {
   "cell_type": "code",
   "execution_count": 29,
   "metadata": {},
   "outputs": [
    {
     "name": "stdout",
     "output_type": "stream",
     "text": [
      "Type III Analysis of Variance Table with Satterthwaite's method\n",
      "            Sum Sq Mean Sq NumDF  DenDF F value    Pr(>F)    \n",
      "state      0.23832 0.23832     1 95.086 15.6560 0.0001464 ***\n",
      "Stim       0.33053 0.33053     1 93.705 21.7136 1.045e-05 ***\n",
      "state:Stim 0.13489 0.13489     1 93.705  8.8612 0.0037067 ** \n",
      "---\n",
      "Signif. codes:  0 ‘***’ 0.001 ‘**’ 0.01 ‘*’ 0.05 ‘.’ 0.1 ‘ ’ 1\n"
     ]
    }
   ],
   "source": [
    "%%R\n",
    "#the above analysis show that the statestim model is the most likely model..\n",
    "#Step4 :let's analyse the same..\n",
    "print(anova(model.StateStim))"
   ]
  },
  {
   "cell_type": "code",
   "execution_count": 30,
   "metadata": {},
   "outputs": [
    {
     "name": "stdout",
     "output_type": "stream",
     "text": [
      "           R2m       R2c\n",
      "[1,] 0.2428367 0.3479944\n"
     ]
    }
   ],
   "source": [
    "%%R\n",
    "r.squaredGLMM(model.StateStim)"
   ]
  },
  {
   "cell_type": "code",
   "execution_count": 31,
   "metadata": {},
   "outputs": [
    {
     "name": "stdout",
     "output_type": "stream",
     "text": [
      "NULL\n"
     ]
    }
   ],
   "source": [
    "%%R\n",
    "#the above table shows that there is a main effect of state(alert, drowsy); stim(left, right); \n",
    "#there is an interaction between state, stimulus: means some stimulus are affected by state more than the\n",
    "#rest, let's find out what.."
   ]
  },
  {
   "cell_type": "code",
   "execution_count": 32,
   "metadata": {},
   "outputs": [
    {
     "name": "stdout",
     "output_type": "stream",
     "text": [
      "'data.frame':\t125 obs. of  6 variables:\n",
      " $ Stim    : chr  \"Left\" \"Right\" \"Left\" \"Right\" ...\n",
      " $ state   : Factor w/ 2 levels \"Alert\",\"Drowsy\": 1 1 2 2 1 1 2 2 1 1 ...\n",
      " $ subj_idx: num  2 2 2 2 4 4 4 4 5 5 ...\n",
      " $ totresp : num  56 55 114 127 56 56 249 234 56 56 ...\n",
      " $ errcnt  : num  3 1 28 4 0 10 8 50 2 4 ...\n",
      " $ p_err   : num  0.0536 0.0182 0.2456 0.0315 0 ...\n"
     ]
    }
   ],
   "source": [
    "%%R\n",
    "str(aggstats_df)"
   ]
  },
  {
   "cell_type": "code",
   "execution_count": 33,
   "metadata": {},
   "outputs": [
    {
     "name": "stdout",
     "output_type": "stream",
     "text": [
      "\n",
      "\t Simultaneous Tests for General Linear Hypotheses\n",
      "\n",
      "Multiple Comparisons of Means: Tukey Contrasts\n",
      "\n",
      "\n",
      "Fit: lmer(formula = p_err ~ Stimstate + (1 | subj_idx), data = aggstats_df, \n",
      "    REML = FALSE)\n",
      "\n",
      "Linear Hypotheses:\n",
      "                                Estimate Std. Error z value Pr(>|z|)    \n",
      "Right.Alert - Left.Alert == 0   -0.03718    0.03084  -1.205    0.623    \n",
      "Left.Drowsy - Left.Alert == 0    0.15332    0.03112   4.926   <1e-04 ***\n",
      "Right.Drowsy - Left.Alert == 0  -0.01536    0.03141  -0.489    0.962    \n",
      "Left.Drowsy - Right.Alert == 0   0.19050    0.03112   6.121   <1e-04 ***\n",
      "Right.Drowsy - Right.Alert == 0  0.02181    0.03141   0.694    0.899    \n",
      "Right.Drowsy - Left.Drowsy == 0 -0.16868    0.03163  -5.334   <1e-04 ***\n",
      "---\n",
      "Signif. codes:  0 ‘***’ 0.001 ‘**’ 0.01 ‘*’ 0.05 ‘.’ 0.1 ‘ ’ 1\n",
      "(Adjusted p values reported -- single-step method)\n",
      "\n"
     ]
    }
   ],
   "source": [
    "%%R\n",
    "# Step 5: Post Hoc comparisions \n",
    "aggstats_df$Stimstate <- interaction(aggstats_df$Stim, aggstats_df$state)\n",
    "\n",
    "model = lmer(p_err ~ Stimstate + (1|subj_idx), data=aggstats_df,\n",
    "             REML=FALSE)\n",
    "\n",
    "print(summary(glht(model, mcp(Stimstate=\"Tukey\"))))"
   ]
  },
  {
   "cell_type": "code",
   "execution_count": null,
   "metadata": {},
   "outputs": [],
   "source": []
  },
  {
   "cell_type": "code",
   "execution_count": 34,
   "metadata": {},
   "outputs": [
    {
     "name": "stdout",
     "output_type": "stream",
     "text": [
      "NULL\n"
     ]
    }
   ],
   "source": [
    "%%R\n",
    "#the above posthoc analysis shows that \n",
    "# Left.Drowsy - Left.Alert == 0    *** \n",
    "# Right.Drowsy - Right.Alert == 0 \n",
    "\n",
    "#the righthanders peformance declines on the left side of space when they become drowsy.."
   ]
  },
  {
   "cell_type": "code",
   "execution_count": 35,
   "metadata": {},
   "outputs": [
    {
     "name": "stdout",
     "output_type": "stream",
     "text": [
      "   Stim  state subj_idx totresp errcnt      p_err    Stimstate\n",
      "1  Left  Alert        2      56      3 0.05357143   Left.Alert\n",
      "2 Right  Alert        2      55      1 0.01818182  Right.Alert\n",
      "3  Left Drowsy        2     114     28 0.24561404  Left.Drowsy\n",
      "4 Right Drowsy        2     127      4 0.03149606 Right.Drowsy\n",
      "5  Left  Alert        4      56      0 0.00000000   Left.Alert\n",
      "6 Right  Alert        4      56     10 0.17857143  Right.Alert\n",
      "     Stim  state subj_idx totresp errcnt      p_err    Stimstate\n",
      "123  Left Drowsy       45     133     58 0.43609023  Left.Drowsy\n",
      "124 Right Drowsy       45     151     10 0.06622517 Right.Drowsy\n",
      "125  Left  Alert       46      55      5 0.09090909   Left.Alert\n",
      "126 Right  Alert       46      56      1 0.01785714  Right.Alert\n",
      "127  Left Drowsy       46      30      8 0.26666667  Left.Drowsy\n",
      "128 Right Drowsy       46      29      0 0.00000000 Right.Drowsy\n"
     ]
    }
   ],
   "source": [
    "%%R\n",
    "print(head(aggstats_df))\n",
    "print(tail(aggstats_df))"
   ]
  },
  {
   "cell_type": "code",
   "execution_count": 36,
   "metadata": {},
   "outputs": [],
   "source": [
    "%%R\n",
    "filename <-file.path(paste(basepath,behfilepath,\"error_proportion.csv\", sep = \"\"))\n",
    "write.csv(aggstats_df, file = filename,row.names=FALSE, na=\"\")"
   ]
  },
  {
   "cell_type": "code",
   "execution_count": 37,
   "metadata": {},
   "outputs": [],
   "source": [
    "import rpy2.robjects as ro\n",
    "from rpy2.robjects.packages import importr\n",
    "from rpy2.robjects import pandas2ri\n",
    "from rpy2.robjects.conversion import localconverter"
   ]
  },
  {
   "cell_type": "code",
   "execution_count": 38,
   "metadata": {},
   "outputs": [
    {
     "data": {
      "text/html": [
       "<div>\n",
       "<style scoped>\n",
       "    .dataframe tbody tr th:only-of-type {\n",
       "        vertical-align: middle;\n",
       "    }\n",
       "\n",
       "    .dataframe tbody tr th {\n",
       "        vertical-align: top;\n",
       "    }\n",
       "\n",
       "    .dataframe thead th {\n",
       "        text-align: right;\n",
       "    }\n",
       "</style>\n",
       "<table border=\"1\" class=\"dataframe\">\n",
       "  <thead>\n",
       "    <tr style=\"text-align: right;\">\n",
       "      <th></th>\n",
       "      <th>Stim</th>\n",
       "      <th>state</th>\n",
       "      <th>result</th>\n",
       "    </tr>\n",
       "  </thead>\n",
       "  <tbody>\n",
       "    <tr>\n",
       "      <th>1</th>\n",
       "      <td>Left</td>\n",
       "      <td>Alert</td>\n",
       "      <td>0.12</td>\n",
       "    </tr>\n",
       "    <tr>\n",
       "      <th>2</th>\n",
       "      <td>Left</td>\n",
       "      <td>Drowsy</td>\n",
       "      <td>0.28</td>\n",
       "    </tr>\n",
       "    <tr>\n",
       "      <th>3</th>\n",
       "      <td>Right</td>\n",
       "      <td>Alert</td>\n",
       "      <td>0.09</td>\n",
       "    </tr>\n",
       "    <tr>\n",
       "      <th>4</th>\n",
       "      <td>Right</td>\n",
       "      <td>Drowsy</td>\n",
       "      <td>0.11</td>\n",
       "    </tr>\n",
       "  </tbody>\n",
       "</table>\n",
       "</div>"
      ],
      "text/plain": [
       "    Stim   state  result\n",
       "1   Left   Alert    0.12\n",
       "2   Left  Drowsy    0.28\n",
       "3  Right   Alert    0.09\n",
       "4  Right  Drowsy    0.11"
      ]
     },
     "execution_count": 38,
     "metadata": {},
     "output_type": "execute_result"
    }
   ],
   "source": [
    "df_mean_p_err = ro.r('mean_p_err')\n",
    "with localconverter(ro.default_converter + pandas2ri.converter):\n",
    "  df_mean_p_err = ro.conversion.rpy2py(df_mean_p_err)\n",
    "df_mean_p_err"
   ]
  },
  {
   "cell_type": "code",
   "execution_count": 39,
   "metadata": {},
   "outputs": [
    {
     "data": {
      "text/html": [
       "<div>\n",
       "<style scoped>\n",
       "    .dataframe tbody tr th:only-of-type {\n",
       "        vertical-align: middle;\n",
       "    }\n",
       "\n",
       "    .dataframe tbody tr th {\n",
       "        vertical-align: top;\n",
       "    }\n",
       "\n",
       "    .dataframe thead th {\n",
       "        text-align: right;\n",
       "    }\n",
       "</style>\n",
       "<table border=\"1\" class=\"dataframe\">\n",
       "  <thead>\n",
       "    <tr style=\"text-align: right;\">\n",
       "      <th></th>\n",
       "      <th>Stim</th>\n",
       "      <th>state</th>\n",
       "      <th>result</th>\n",
       "    </tr>\n",
       "  </thead>\n",
       "  <tbody>\n",
       "    <tr>\n",
       "      <th>1</th>\n",
       "      <td>Left</td>\n",
       "      <td>Alert</td>\n",
       "      <td>0.02</td>\n",
       "    </tr>\n",
       "    <tr>\n",
       "      <th>2</th>\n",
       "      <td>Left</td>\n",
       "      <td>Drowsy</td>\n",
       "      <td>0.04</td>\n",
       "    </tr>\n",
       "    <tr>\n",
       "      <th>3</th>\n",
       "      <td>Right</td>\n",
       "      <td>Alert</td>\n",
       "      <td>0.01</td>\n",
       "    </tr>\n",
       "    <tr>\n",
       "      <th>4</th>\n",
       "      <td>Right</td>\n",
       "      <td>Drowsy</td>\n",
       "      <td>0.02</td>\n",
       "    </tr>\n",
       "  </tbody>\n",
       "</table>\n",
       "</div>"
      ],
      "text/plain": [
       "    Stim   state  result\n",
       "1   Left   Alert    0.02\n",
       "2   Left  Drowsy    0.04\n",
       "3  Right   Alert    0.01\n",
       "4  Right  Drowsy    0.02"
      ]
     },
     "execution_count": 39,
     "metadata": {},
     "output_type": "execute_result"
    }
   ],
   "source": [
    "df_se_p_err = ro.r('se_p_err')\n",
    "with localconverter(ro.default_converter + pandas2ri.converter):\n",
    "  df_se_p_err = ro.conversion.rpy2py(df_se_p_err)\n",
    "df_se_p_err"
   ]
  },
  {
   "cell_type": "code",
   "execution_count": 40,
   "metadata": {},
   "outputs": [
    {
     "data": {
      "text/html": [
       "<div>\n",
       "<style scoped>\n",
       "    .dataframe tbody tr th:only-of-type {\n",
       "        vertical-align: middle;\n",
       "    }\n",
       "\n",
       "    .dataframe tbody tr th {\n",
       "        vertical-align: top;\n",
       "    }\n",
       "\n",
       "    .dataframe thead th {\n",
       "        text-align: right;\n",
       "    }\n",
       "</style>\n",
       "<table border=\"1\" class=\"dataframe\">\n",
       "  <thead>\n",
       "    <tr style=\"text-align: right;\">\n",
       "      <th></th>\n",
       "      <th>Stim</th>\n",
       "      <th>state</th>\n",
       "      <th>subj_idx</th>\n",
       "      <th>totresp</th>\n",
       "      <th>errcnt</th>\n",
       "      <th>p_err</th>\n",
       "      <th>Stimstate</th>\n",
       "    </tr>\n",
       "  </thead>\n",
       "  <tbody>\n",
       "    <tr>\n",
       "      <th>1</th>\n",
       "      <td>Left</td>\n",
       "      <td>Alert</td>\n",
       "      <td>2.0</td>\n",
       "      <td>56.0</td>\n",
       "      <td>3.0</td>\n",
       "      <td>0.053571</td>\n",
       "      <td>Left.Alert</td>\n",
       "    </tr>\n",
       "    <tr>\n",
       "      <th>2</th>\n",
       "      <td>Right</td>\n",
       "      <td>Alert</td>\n",
       "      <td>2.0</td>\n",
       "      <td>55.0</td>\n",
       "      <td>1.0</td>\n",
       "      <td>0.018182</td>\n",
       "      <td>Right.Alert</td>\n",
       "    </tr>\n",
       "    <tr>\n",
       "      <th>3</th>\n",
       "      <td>Left</td>\n",
       "      <td>Drowsy</td>\n",
       "      <td>2.0</td>\n",
       "      <td>114.0</td>\n",
       "      <td>28.0</td>\n",
       "      <td>0.245614</td>\n",
       "      <td>Left.Drowsy</td>\n",
       "    </tr>\n",
       "    <tr>\n",
       "      <th>4</th>\n",
       "      <td>Right</td>\n",
       "      <td>Drowsy</td>\n",
       "      <td>2.0</td>\n",
       "      <td>127.0</td>\n",
       "      <td>4.0</td>\n",
       "      <td>0.031496</td>\n",
       "      <td>Right.Drowsy</td>\n",
       "    </tr>\n",
       "    <tr>\n",
       "      <th>5</th>\n",
       "      <td>Left</td>\n",
       "      <td>Alert</td>\n",
       "      <td>4.0</td>\n",
       "      <td>56.0</td>\n",
       "      <td>0.0</td>\n",
       "      <td>0.000000</td>\n",
       "      <td>Left.Alert</td>\n",
       "    </tr>\n",
       "    <tr>\n",
       "      <th>...</th>\n",
       "      <td>...</td>\n",
       "      <td>...</td>\n",
       "      <td>...</td>\n",
       "      <td>...</td>\n",
       "      <td>...</td>\n",
       "      <td>...</td>\n",
       "      <td>...</td>\n",
       "    </tr>\n",
       "    <tr>\n",
       "      <th>124</th>\n",
       "      <td>Right</td>\n",
       "      <td>Drowsy</td>\n",
       "      <td>45.0</td>\n",
       "      <td>151.0</td>\n",
       "      <td>10.0</td>\n",
       "      <td>0.066225</td>\n",
       "      <td>Right.Drowsy</td>\n",
       "    </tr>\n",
       "    <tr>\n",
       "      <th>125</th>\n",
       "      <td>Left</td>\n",
       "      <td>Alert</td>\n",
       "      <td>46.0</td>\n",
       "      <td>55.0</td>\n",
       "      <td>5.0</td>\n",
       "      <td>0.090909</td>\n",
       "      <td>Left.Alert</td>\n",
       "    </tr>\n",
       "    <tr>\n",
       "      <th>126</th>\n",
       "      <td>Right</td>\n",
       "      <td>Alert</td>\n",
       "      <td>46.0</td>\n",
       "      <td>56.0</td>\n",
       "      <td>1.0</td>\n",
       "      <td>0.017857</td>\n",
       "      <td>Right.Alert</td>\n",
       "    </tr>\n",
       "    <tr>\n",
       "      <th>127</th>\n",
       "      <td>Left</td>\n",
       "      <td>Drowsy</td>\n",
       "      <td>46.0</td>\n",
       "      <td>30.0</td>\n",
       "      <td>8.0</td>\n",
       "      <td>0.266667</td>\n",
       "      <td>Left.Drowsy</td>\n",
       "    </tr>\n",
       "    <tr>\n",
       "      <th>128</th>\n",
       "      <td>Right</td>\n",
       "      <td>Drowsy</td>\n",
       "      <td>46.0</td>\n",
       "      <td>29.0</td>\n",
       "      <td>0.0</td>\n",
       "      <td>0.000000</td>\n",
       "      <td>Right.Drowsy</td>\n",
       "    </tr>\n",
       "  </tbody>\n",
       "</table>\n",
       "<p>125 rows × 7 columns</p>\n",
       "</div>"
      ],
      "text/plain": [
       "      Stim   state  subj_idx  totresp  errcnt     p_err     Stimstate\n",
       "1     Left   Alert       2.0     56.0     3.0  0.053571    Left.Alert\n",
       "2    Right   Alert       2.0     55.0     1.0  0.018182   Right.Alert\n",
       "3     Left  Drowsy       2.0    114.0    28.0  0.245614   Left.Drowsy\n",
       "4    Right  Drowsy       2.0    127.0     4.0  0.031496  Right.Drowsy\n",
       "5     Left   Alert       4.0     56.0     0.0  0.000000    Left.Alert\n",
       "..     ...     ...       ...      ...     ...       ...           ...\n",
       "124  Right  Drowsy      45.0    151.0    10.0  0.066225  Right.Drowsy\n",
       "125   Left   Alert      46.0     55.0     5.0  0.090909    Left.Alert\n",
       "126  Right   Alert      46.0     56.0     1.0  0.017857   Right.Alert\n",
       "127   Left  Drowsy      46.0     30.0     8.0  0.266667   Left.Drowsy\n",
       "128  Right  Drowsy      46.0     29.0     0.0  0.000000  Right.Drowsy\n",
       "\n",
       "[125 rows x 7 columns]"
      ]
     },
     "execution_count": 40,
     "metadata": {},
     "output_type": "execute_result"
    }
   ],
   "source": [
    "df_aggstats = ro.r('aggstats_df')\n",
    "with localconverter(ro.default_converter + pandas2ri.converter):\n",
    "  df_aggstats = ro.conversion.rpy2py(df_aggstats)\n",
    "df_aggstats"
   ]
  },
  {
   "cell_type": "code",
   "execution_count": 41,
   "metadata": {},
   "outputs": [],
   "source": [
    "base_dir = '/rds/project/tb419/rds-tb419-bekinschtein/Sri/SpatialAttention_Drowsiness/'\n",
    "output_dir = 'decAlertnessDecisionmaking_JNeuroscience2021/Figures/'"
   ]
  },
  {
   "cell_type": "code",
   "execution_count": 42,
   "metadata": {},
   "outputs": [
    {
     "data": {
      "text/plain": [
       "'/rds/project/tb419/rds-tb419-bekinschtein/Sri/SpatialAttention_Drowsiness/decAlertnessDecisionmaking_JNeuroscience2021/Figures/'"
      ]
     },
     "execution_count": 42,
     "metadata": {},
     "output_type": "execute_result"
    }
   ],
   "source": [
    "fig_dir = base_dir + output_dir\n",
    "fig_dir"
   ]
  },
  {
   "cell_type": "code",
   "execution_count": 43,
   "metadata": {},
   "outputs": [],
   "source": [
    "def statannotation(ax, x1, x2, y,text):\n",
    "    h = 0.025\n",
    "    text_offset = 1\n",
    "    \n",
    "    line_x, line_y = [x1, x1, x2, x2], [y, y + h, y + h, y]\n",
    "\n",
    "    ax.plot(line_x, line_y, lw=2, c='black')\n",
    "    ann = ax.annotate(text, xy=(np.mean([x1, x2]), y + h),\n",
    "                      xytext=(0, text_offset), textcoords='offset points',\n",
    "                      xycoords='data', ha='center', va='bottom',\n",
    "                      fontsize=label_fontsize-2, clip_on=False, annotation_clip=False)"
   ]
  },
  {
   "cell_type": "code",
   "execution_count": 44,
   "metadata": {},
   "outputs": [],
   "source": [
    "errorpal = {'Alert' : 'r', 'Drowsy': 'b'}"
   ]
  },
  {
   "cell_type": "code",
   "execution_count": 45,
   "metadata": {},
   "outputs": [
    {
     "data": {
      "image/png": "[encoded data removed]",
      "text/plain": [
       "<Figure size 720x432 with 2 Axes>"
      ]
     },
     "metadata": {},
     "output_type": "display_data"
    }
   ],
   "source": [
    "fig, (ax1,ax2) = plt.subplots(ncols=2, sharey=True,figsize=(10, 6))\n",
    "fig.subplots_adjust(wspace=0.2, hspace=0)\n",
    "\n",
    "ax1 = sns.pointplot(x=\"state\",y=\"p_err\",hue='subj_idx',data=df_aggstats[df_aggstats.Stim == 'Left'],\n",
    "                    ax=ax1, dodge=0.0,palette=['darkgray'], markers = '', scale = 0.5)\n",
    "plt.setp(ax1.collections, sizes=[0])\n",
    "\n",
    "sns.boxplot(x=\"state\", y=\"p_err\", data=df_aggstats[df_aggstats.Stim == 'Left'], whis=np.inf, ax=ax1, \n",
    "            showbox=True,dodge=False,meanline=False,showmeans=False, showfliers=True,showcaps=True,\n",
    "            palette=errorpal)\n",
    "sns.stripplot(x=\"state\", y=\"p_err\", data=df_aggstats[df_aggstats.Stim == 'Left'],jitter=False, linewidth=1,\n",
    "              ax=ax1,edgecolor =\"black\",palette=errorpal)\n",
    "\n",
    "\n",
    "ax2 = sns.pointplot(x=\"state\",y=\"p_err\",hue='subj_idx',data=df_aggstats[df_aggstats.Stim == 'Right'],\n",
    "                    ax=ax2, dodge=0.0,palette=['darkgray'], markers = '', scale = 0.5)\n",
    "plt.setp(ax2.collections, sizes=[0])\n",
    "\n",
    "sns.boxplot(x=\"state\", y=\"p_err\", data=df_aggstats[df_aggstats.Stim == 'Right'], whis=np.inf, ax=ax2, \n",
    "            showbox=True,dodge=False,meanline=False,showmeans=False, showfliers=True,showcaps=True,\n",
    "            palette=errorpal)\n",
    "sns.stripplot(x=\"state\", y=\"p_err\", data=df_aggstats[df_aggstats.Stim == 'Right'],jitter=False, linewidth=1,\n",
    "              ax=ax2,edgecolor =\"black\",palette=errorpal)\n",
    "\n",
    "string_val = 'p' + ' <0.001***'\n",
    "\n",
    "# ax1.text(0.3, 0.75, string_val, va='center', fontweight='bold',rotation='horizontal', fontsize=label_fontsize-2)\n",
    "statannotation(ax = ax1, x1 = 0, x2 = 1, y = 0.75, text = string_val)\n",
    "\n",
    "\n",
    "string_val = 'p = 0.899'\n",
    "# ax2.text(0.3, 0.75, string_val, va='center', fontweight='bold',rotation='horizontal', fontsize=label_fontsize-2)\n",
    "statannotation(ax = ax2, x1 = 0, x2 = 1, y = 0.75, text = string_val)\n",
    "\n",
    "ax1.legend_.remove()\n",
    "b = list(ax1.get_children())\n",
    "\n",
    "for patch in ax1.artists:\n",
    "    r, g, b, a = patch.get_facecolor()\n",
    "    patch.set_facecolor((r, g, b, .8))\n",
    "\n",
    "\n",
    "ax2.legend_.remove()\n",
    "b = list(ax2.get_children())\n",
    "\n",
    "for patch in ax2.artists:\n",
    "    r, g, b, a = patch.get_facecolor()\n",
    "    patch.set_facecolor((r, g, b, .8))\n",
    "\n",
    "ax1.set_ylabel('error-proportion\\n')\n",
    "ax2.set_ylabel('')\n",
    "\n",
    "ax1.set_xlabel('left')\n",
    "ax2.set_xlabel('right')\n",
    "\n",
    "sns.despine(left=True, bottom = True)\n",
    "\n",
    "plt.savefig(fig_dir + \"errorproportion.png\", bbox_inches = 'tight', pad_inches = 0.1, format='png',\n",
    "            dpi=240, transparent=False)"
   ]
  },
  {
   "cell_type": "code",
   "execution_count": 46,
   "metadata": {},
   "outputs": [
    {
     "data": {
      "image/png": "[encoded data removed]",
      "text/plain": [
       "<Figure size 576x576 with 1 Axes>"
      ]
     },
     "metadata": {},
     "output_type": "display_data"
    }
   ],
   "source": [
    "#make the plot summarising the results now..\n",
    "fig = plt.figure()\n",
    "ax = fig.add_subplot(111, polar=True)\n",
    "\n",
    "ax.set_xticks(np.pi/180. * np.linspace(180,  -180, 16, endpoint=False))\n",
    "ax.set_yticks([.1,.2,.3,.4,.5])\n",
    "ax.set_ylim([0, 0.31])\n",
    "\n",
    "ax.set_thetamin(30)\n",
    "ax.set_thetamax(150)\n",
    "\n",
    "\n",
    "##left alert\n",
    "radii = df_mean_p_err[df_mean_p_err['Stim'].str.match('Left') & \n",
    "                      df_mean_p_err['state'].str.match('Alert')]['result']\n",
    "error = df_se_p_err[df_se_p_err['Stim'].str.match('Left') &\n",
    "                    df_se_p_err['state'].str.match('Alert')]['result']\n",
    "theta = [14.75]\n",
    "\n",
    "c = ax.scatter(theta, radii, color='r', s=40, alpha = 0.8, edgecolors='k', linewidth=1)\n",
    "ax.errorbar(theta, radii, yerr=error, xerr=.0,ecolor='r', mfc = 'r', mec = 'k', capsize=5,fmt='o', \n",
    "            linewidth=2, alpha = 0.8)\n",
    "\n",
    "\n",
    "##left drowsy\n",
    "radii = df_mean_p_err[df_mean_p_err['Stim'].str.match('Left') & \n",
    "                      df_mean_p_err['state'].str.match('Drowsy')]['result']\n",
    "error = df_se_p_err[df_se_p_err['Stim'].str.match('Left') &\n",
    "                    df_se_p_err['state'].str.match('Drowsy')]['result']\n",
    "theta = [14.35]\n",
    "c = ax.scatter(theta, radii, color = 'b', s=40, alpha = 0.8, edgecolors='k', linewidth=1)\n",
    "ax.errorbar(theta, radii, yerr=error, xerr=.0,ecolor='b', mfc = 'b', mec = 'k',capsize=5,fmt='o',\n",
    "            linewidth=2, alpha = 0.8)\n",
    "\n",
    "##right alert\n",
    "radii = df_mean_p_err[df_mean_p_err['Stim'].str.match('Right') & \n",
    "                      df_mean_p_err['state'].str.match('Alert')]['result']\n",
    "error = df_se_p_err[df_se_p_err['Stim'].str.match('Right') &\n",
    "                    df_se_p_err['state'].str.match('Alert')]['result']\n",
    "theta = [13.55]\n",
    "colors = ['red']\n",
    "c = ax.scatter(theta, radii, color='r', s=40, alpha = 0.8, edgecolors='k', linewidth=1)\n",
    "ax.errorbar(theta, radii, yerr=error, xerr=.0,ecolor='r', mfc = 'r', mec = 'k', capsize=5,fmt='o',\n",
    "            linewidth=2, alpha = 0.8)\n",
    "\n",
    "##right drowsy\n",
    "radii = df_mean_p_err[df_mean_p_err['Stim'].str.match('Right') & \n",
    "                      df_mean_p_err['state'].str.match('Drowsy')]['result']\n",
    "error = df_se_p_err[df_se_p_err['Stim'].str.match('Right') &\n",
    "                    df_se_p_err['state'].str.match('Drowsy')]['result']\n",
    "theta = [13.95]\n",
    "c = ax.scatter(theta, radii, color = 'b', s=40, alpha = 0.8, edgecolors='k', linewidth=1)\n",
    "ax.errorbar(theta, radii, yerr=error, xerr=.0,ecolor='b', mfc = 'b', mec = 'k',capsize=5,fmt='o',\n",
    "            linewidth=2, alpha = 0.8)\n",
    "\n",
    "ax.set_xticks([np.deg2rad(70),np.deg2rad(90),np.deg2rad(110)])\n",
    "ax.axes.xaxis.set_ticklabels(['','0$^\\circ$',''], rotation='vertical')\n",
    "\n",
    "ax.legend(['Alert','Drowsy'],loc='lower left', bbox_to_anchor=(0.10, 0.14), framealpha=0)\n",
    "\n",
    "# statistical annotation\n",
    "x1, x2 = 1.30, 1.15 \n",
    "y,h = 0.15, 0.02\n",
    "col = 'k' \n",
    "ax.plot([x1, x1, x2, x2], [y, y+h, y+h, y], lw=1.5, c=col)\n",
    "ax.text((x1+x2)*.48, y+h+0.01, \"ns\", ha='center', va='bottom', color=col)\n",
    "\n",
    "x1, x2 = 1.95, 1.85  \n",
    "y,h = 0.27, 0.01\n",
    "col = 'k' \n",
    "ax.plot([x1, x1, x2, x2], [y, y+h, y+h, y], lw=1.5, c=col)\n",
    "ax.text((x1+x2)*.50, y+h+0.001, \"***\", ha='center',va='bottom', color=col)\n",
    "\n",
    "x1, x2 = 2.30, 2.20  \n",
    "y,h = 0.19, 0.02\n",
    "ax.text((x1+x2)*.51, y+h+0.15, \"left\", ha='center',va='bottom', color=col)\n",
    "ax.text((x1+x2)*.18, y+h+0.15, \"right\", ha='center',va='bottom', color=col)\n",
    "\n",
    "ax.text(-.20, 0.16, \"Error-proportion\", rotation=30, ha='center',va='bottom', color=col)\n",
    "\n",
    "x1, x2 = 2.30, 2.20  \n",
    "y,h = 0.19, 0.02\n",
    "ax.text((x1+x2)*.34, y+h+0.18, \"\", ha='center',va='bottom', color=col)\n",
    "plt.box(True)\n",
    "ax.grid(True)\n",
    "# plt.savefig(fig_dir + \"errorproportion.png\", bbox_inches = 'tight', pad_inches = 0.1, format='png',\n",
    "#             dpi=240, transparent=False)"
   ]
  },
  {
   "cell_type": "code",
   "execution_count": null,
   "metadata": {},
   "outputs": [],
   "source": []
  },
  {
   "cell_type": "code",
   "execution_count": null,
   "metadata": {},
   "outputs": [],
   "source": []
  },
  {
   "cell_type": "code",
   "execution_count": null,
   "metadata": {},
   "outputs": [],
   "source": []
  },
  {
   "cell_type": "code",
   "execution_count": null,
   "metadata": {},
   "outputs": [],
   "source": []
  }
 ],
 "metadata": {
  "kernelspec": {
   "display_name": "Python 3",
   "language": "python",
   "name": "python3"
  },
  "language_info": {
   "codemirror_mode": {
    "name": "ipython",
    "version": 3
   },
   "file_extension": ".py",
   "mimetype": "text/x-python",
   "name": "python",
   "nbconvert_exporter": "python",
   "pygments_lexer": "ipython3",
   "version": "3.6.1"
  }
 },
 "nbformat": 4,
 "nbformat_minor": 2
}
