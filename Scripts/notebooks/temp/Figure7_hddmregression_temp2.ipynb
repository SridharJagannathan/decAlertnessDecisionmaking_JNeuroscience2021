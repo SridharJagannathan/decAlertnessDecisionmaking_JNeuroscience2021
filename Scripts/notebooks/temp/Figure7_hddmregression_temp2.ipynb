{
 "cells": [
  {
   "cell_type": "code",
   "execution_count": 1,
   "metadata": {},
   "outputs": [],
   "source": [
    "%load_ext rpy2.ipython"
   ]
  },
  {
   "cell_type": "code",
   "execution_count": 2,
   "metadata": {},
   "outputs": [
    {
     "name": "stdout",
     "output_type": "stream",
     "text": [
      "The python version used is: 2.7.5\n"
     ]
    }
   ],
   "source": [
    "from platform import python_version\n",
    "print 'The python version used is: ' + python_version()"
   ]
  },
  {
   "cell_type": "code",
   "execution_count": 3,
   "metadata": {},
   "outputs": [],
   "source": [
    "# this script uses python2(hddm) instead of python3(hddm) because..\n",
    "# python3 is very slow in the mcmc sampling process..\n",
    "# python3 produces an error like \"Step-out procedure failed\" when using multiprocessing for speed up.."
   ]
  },
  {
   "cell_type": "code",
   "execution_count": 4,
   "metadata": {},
   "outputs": [],
   "source": [
    "import time\n",
    "import timeit"
   ]
  },
  {
   "cell_type": "code",
   "execution_count": 5,
   "metadata": {},
   "outputs": [
    {
     "name": "stdout",
     "output_type": "stream",
     "text": [
      "Script started at: 22:44:46 03/04/21 BST\n"
     ]
    }
   ],
   "source": [
    "print('Script started at: ' +  time.strftime('%X %x %Z'))"
   ]
  },
  {
   "cell_type": "code",
   "execution_count": 6,
   "metadata": {},
   "outputs": [
    {
     "name": "stdout",
     "output_type": "stream",
     "text": [
      "Populating the interactive namespace from numpy and matplotlib\n"
     ]
    }
   ],
   "source": [
    "import os, sys, pickle, time\n",
    "import pandas as pd\n",
    "import textwrap\n",
    "import matplotlib\n",
    "matplotlib.use('TkAgg')\n",
    "%matplotlib inline\n",
    "import numpy as np\n",
    "import matplotlib as mpl\n",
    "import pickle\n",
    "%pylab inline\n",
    "import seaborn as sns\n",
    "from rpy2.robjects import r\n",
    "sns.set_style(\"darkgrid\", {\"axes.facecolor\": \".9\"})\n",
    "paper_rc = {'lines.linewidth': 0.4, 'lines.markersize': 1}                  \n",
    "sns.set_context(\"paper\", rc = paper_rc)"
   ]
  },
  {
   "cell_type": "code",
   "execution_count": 7,
   "metadata": {},
   "outputs": [],
   "source": [
    "import matplotlib.pyplot as plt\n",
    "#font = {'family': 'serif', 'serif': ['Palatino']}\n",
    "font = {'family': 'serif', 'serif': ['Helvetica']}\n",
    "plt.rc('font', **font)\n",
    "plt.rc('text', usetex=False)"
   ]
  },
  {
   "cell_type": "code",
   "execution_count": 8,
   "metadata": {},
   "outputs": [],
   "source": [
    "label_fontsize = 16\n",
    "title_fontsize = 16"
   ]
  },
  {
   "cell_type": "code",
   "execution_count": 9,
   "metadata": {},
   "outputs": [],
   "source": [
    "#Set up parameters for figure display\n",
    "params = {'legend.fontsize': 'x-large',\n",
    "          'figure.figsize': (8, 8),\n",
    "         'axes.labelsize': 'x-large',\n",
    "         'axes.titlesize':'x-large',\n",
    "         'axes.labelweight': 'bold',\n",
    "         'xtick.labelsize':'x-large',\n",
    "         'ytick.labelsize':'x-large'}\n",
    "\n",
    "pylab.rcParams.update(params)\n",
    "pylab.rcParams[\"font.family\"] = \"serif\"\n",
    "pylab.rcParams[\"font.weight\"] = \"heavy\"\n",
    "#pylab.rcParams.update({'figure.autolayout': True})"
   ]
  },
  {
   "cell_type": "code",
   "execution_count": 10,
   "metadata": {},
   "outputs": [],
   "source": [
    "sns.set(font_scale=1.25, style=\"whitegrid\")"
   ]
  },
  {
   "cell_type": "code",
   "execution_count": 11,
   "metadata": {},
   "outputs": [],
   "source": [
    "base_dir = '/rds/project/tb419/rds-tb419-bekinschtein/Sri/SpatialAttention_Drowsiness/'\n",
    "beh_files = 'decArsousalDecisionmaking_JNeuroscience2021/beh_data/csv_files/'\n",
    "output_dir = 'decArsousalDecisionmaking_JNeuroscience2021/Figures/'"
   ]
  },
  {
   "cell_type": "code",
   "execution_count": 12,
   "metadata": {},
   "outputs": [],
   "source": [
    "import multiprocessing\n",
    "from multiprocessing import Pool"
   ]
  },
  {
   "cell_type": "code",
   "execution_count": 13,
   "metadata": {},
   "outputs": [
    {
     "data": {
      "text/plain": [
       "28"
      ]
     },
     "execution_count": 13,
     "metadata": {},
     "output_type": "execute_result"
    }
   ],
   "source": [
    "multiprocessing.cpu_count()"
   ]
  },
  {
   "cell_type": "code",
   "execution_count": 14,
   "metadata": {},
   "outputs": [],
   "source": [
    "class HiddenPrints:\n",
    "    def __enter__(self):\n",
    "        self._original_stdout = sys.stdout\n",
    "        sys.stdout = open(os.devnull, 'w')\n",
    "\n",
    "    def __exit__(self, exc_type, exc_val, exc_tb):\n",
    "        sys.stdout.close()\n",
    "        sys.stdout = self._original_stdout"
   ]
  },
  {
   "cell_type": "code",
   "execution_count": 15,
   "metadata": {},
   "outputs": [],
   "source": [
    "from pymc import MCMC"
   ]
  },
  {
   "cell_type": "code",
   "execution_count": 16,
   "metadata": {},
   "outputs": [],
   "source": [
    "import pymc3 as pm"
   ]
  },
  {
   "cell_type": "code",
   "execution_count": 17,
   "metadata": {},
   "outputs": [
    {
     "name": "stdout",
     "output_type": "stream",
     "text": [
      "0.7.1\n"
     ]
    },
    {
     "name": "stderr",
     "output_type": "stream",
     "text": [
      "/home/srj34/jupyter-hddm-env/lib/python2.7/site-packages/IPython/parallel.py:13: ShimWarning: The `IPython.parallel` package has been deprecated since IPython 4.0. You should import from ipyparallel instead.\n",
      "  \"You should import from ipyparallel instead.\", ShimWarning)\n"
     ]
    }
   ],
   "source": [
    "import hddm\n",
    "print(hddm.__version__)"
   ]
  },
  {
   "cell_type": "code",
   "execution_count": 18,
   "metadata": {},
   "outputs": [
    {
     "data": {
      "text/plain": [
       "'2.3.6'"
      ]
     },
     "execution_count": 18,
     "metadata": {},
     "output_type": "execute_result"
    }
   ],
   "source": [
    "import pymc\n",
    "pymc.__version__"
   ]
  },
  {
   "cell_type": "code",
   "execution_count": 19,
   "metadata": {},
   "outputs": [],
   "source": [
    "def interpolate_trace(x, trace, range=(-1,1), bins=100):\n",
    "    \"\"\"Interpolate distribution (from samples) at position x.\n",
    "    :Arguments:\n",
    "        x <float>: position at which to evalute posterior.\n",
    "        trace <np.ndarray>: Trace containing samples from posterior.\n",
    "    :Optional:\n",
    "        range <tuple=(-1,1): Bounds of histogram (should be fairly\n",
    "            close around region of interest).\n",
    "        bins <int=100>: Bins of histogram (should depend on trace length).\n",
    "    :Returns:\n",
    "        float: Posterior density at x.\n",
    "    \"\"\"\n",
    "\n",
    "    import scipy.interpolate\n",
    "\n",
    "    x_histo = np.linspace(range[0], range[1], bins)\n",
    "    histo = np.histogram(trace, bins=bins, range=range, density=True)[0]\n",
    "    interp = scipy.interpolate.InterpolatedUnivariateSpline(x_histo, histo)(x)\n",
    "\n",
    "    return interp"
   ]
  },
  {
   "cell_type": "code",
   "execution_count": 20,
   "metadata": {},
   "outputs": [],
   "source": [
    "def effectsize(group1_node, group2_node):\n",
    "    with pm.Model() as model:\n",
    "        group1 = group1_node.trace()\n",
    "        group2 = group2_node.trace()\n",
    "        group1_mean = group1.mean()\n",
    "        group2_mean = group2.mean()\n",
    "        group1_std = group1.std() * 2\n",
    "        group2_std = group2.std() * 2\n",
    "        diff_of_means = group1_mean - group2_mean\n",
    "        diff_of_stds = group1_std - group2_std\n",
    "        effect_size = diff_of_means / np.sqrt((group1_std**2 + group2_std**2) / 2)\n",
    "    return effect_size"
   ]
  },
  {
   "cell_type": "code",
   "execution_count": 21,
   "metadata": {},
   "outputs": [],
   "source": [
    "def savePatch(self, fname):\n",
    "    with open(fname, 'wb') as f:\n",
    "        pickle.dump(self, f)\n",
    "hddm.HDDM.savePatch = savePatch"
   ]
  },
  {
   "cell_type": "code",
   "execution_count": 22,
   "metadata": {},
   "outputs": [],
   "source": [
    "#read the csv file first (created by process_create_StimCodeRTs)\n",
    "csvfilepath = base_dir + beh_files + \"responsecoding_stimcode_state.csv\"\n",
    "data_overall = hddm.load_csv(csvfilepath)\n",
    "\n",
    "#now remove some of the unwanted columns to keep it clean..\n",
    "del data_overall['angle']\n",
    "del data_overall['accuracy']\n",
    "del data_overall['stimcode']\n",
    "del data_overall['difficulty']\n",
    "\n",
    "#now reorder them..\n",
    "data_overall = data_overall[['subj_idx', 'ovtrlnums', 'stim', 'rt', 'response', 'state']]"
   ]
  },
  {
   "cell_type": "code",
   "execution_count": 23,
   "metadata": {},
   "outputs": [
    {
     "data": {
      "text/html": [
       "<div>\n",
       "<style scoped>\n",
       "    .dataframe tbody tr th:only-of-type {\n",
       "        vertical-align: middle;\n",
       "    }\n",
       "\n",
       "    .dataframe tbody tr th {\n",
       "        vertical-align: top;\n",
       "    }\n",
       "\n",
       "    .dataframe thead th {\n",
       "        text-align: right;\n",
       "    }\n",
       "</style>\n",
       "<table border=\"1\" class=\"dataframe\">\n",
       "  <thead>\n",
       "    <tr style=\"text-align: right;\">\n",
       "      <th></th>\n",
       "      <th>subj_idx</th>\n",
       "      <th>ovtrlnums</th>\n",
       "      <th>stim</th>\n",
       "      <th>rt</th>\n",
       "      <th>response</th>\n",
       "      <th>state</th>\n",
       "    </tr>\n",
       "  </thead>\n",
       "  <tbody>\n",
       "    <tr>\n",
       "      <th>0</th>\n",
       "      <td>2.0</td>\n",
       "      <td>1.0</td>\n",
       "      <td>Right</td>\n",
       "      <td>0.904771</td>\n",
       "      <td>0</td>\n",
       "      <td>Alert</td>\n",
       "    </tr>\n",
       "    <tr>\n",
       "      <th>1</th>\n",
       "      <td>2.0</td>\n",
       "      <td>2.0</td>\n",
       "      <td>Left</td>\n",
       "      <td>1.032423</td>\n",
       "      <td>1</td>\n",
       "      <td>Alert</td>\n",
       "    </tr>\n",
       "    <tr>\n",
       "      <th>2</th>\n",
       "      <td>2.0</td>\n",
       "      <td>3.0</td>\n",
       "      <td>Left</td>\n",
       "      <td>1.145844</td>\n",
       "      <td>1</td>\n",
       "      <td>Alert</td>\n",
       "    </tr>\n",
       "    <tr>\n",
       "      <th>3</th>\n",
       "      <td>2.0</td>\n",
       "      <td>4.0</td>\n",
       "      <td>Left</td>\n",
       "      <td>1.099559</td>\n",
       "      <td>1</td>\n",
       "      <td>Alert</td>\n",
       "    </tr>\n",
       "    <tr>\n",
       "      <th>4</th>\n",
       "      <td>2.0</td>\n",
       "      <td>5.0</td>\n",
       "      <td>Left</td>\n",
       "      <td>1.228592</td>\n",
       "      <td>1</td>\n",
       "      <td>Alert</td>\n",
       "    </tr>\n",
       "  </tbody>\n",
       "</table>\n",
       "</div>"
      ],
      "text/plain": [
       "   subj_idx  ovtrlnums   stim        rt  response  state\n",
       "0       2.0        1.0  Right  0.904771         0  Alert\n",
       "1       2.0        2.0   Left  1.032423         1  Alert\n",
       "2       2.0        3.0   Left  1.145844         1  Alert\n",
       "3       2.0        4.0   Left  1.099559         1  Alert\n",
       "4       2.0        5.0   Left  1.228592         1  Alert"
      ]
     },
     "execution_count": 23,
     "metadata": {},
     "output_type": "execute_result"
    }
   ],
   "source": [
    "data_overall.head()"
   ]
  },
  {
   "cell_type": "code",
   "execution_count": 24,
   "metadata": {},
   "outputs": [
    {
     "data": {
      "text/html": [
       "<div>\n",
       "<style scoped>\n",
       "    .dataframe tbody tr th:only-of-type {\n",
       "        vertical-align: middle;\n",
       "    }\n",
       "\n",
       "    .dataframe tbody tr th {\n",
       "        vertical-align: top;\n",
       "    }\n",
       "\n",
       "    .dataframe thead th {\n",
       "        text-align: right;\n",
       "    }\n",
       "</style>\n",
       "<table border=\"1\" class=\"dataframe\">\n",
       "  <thead>\n",
       "    <tr style=\"text-align: right;\">\n",
       "      <th></th>\n",
       "      <th>subj_idx</th>\n",
       "      <th>ovtrlnums</th>\n",
       "      <th>stim</th>\n",
       "      <th>rt</th>\n",
       "      <th>response</th>\n",
       "      <th>state</th>\n",
       "    </tr>\n",
       "  </thead>\n",
       "  <tbody>\n",
       "    <tr>\n",
       "      <th>21143</th>\n",
       "      <td>46.0</td>\n",
       "      <td>853.0</td>\n",
       "      <td>Left</td>\n",
       "      <td>4.871518</td>\n",
       "      <td>1</td>\n",
       "      <td>Drowsy</td>\n",
       "    </tr>\n",
       "    <tr>\n",
       "      <th>21144</th>\n",
       "      <td>46.0</td>\n",
       "      <td>855.0</td>\n",
       "      <td>Left</td>\n",
       "      <td>1.711324</td>\n",
       "      <td>1</td>\n",
       "      <td>Drowsy</td>\n",
       "    </tr>\n",
       "    <tr>\n",
       "      <th>21145</th>\n",
       "      <td>46.0</td>\n",
       "      <td>857.0</td>\n",
       "      <td>Right</td>\n",
       "      <td>1.241904</td>\n",
       "      <td>0</td>\n",
       "      <td>Drowsy</td>\n",
       "    </tr>\n",
       "    <tr>\n",
       "      <th>21146</th>\n",
       "      <td>46.0</td>\n",
       "      <td>863.0</td>\n",
       "      <td>Left</td>\n",
       "      <td>0.927672</td>\n",
       "      <td>1</td>\n",
       "      <td>Relaxed</td>\n",
       "    </tr>\n",
       "    <tr>\n",
       "      <th>21147</th>\n",
       "      <td>46.0</td>\n",
       "      <td>864.0</td>\n",
       "      <td>Right</td>\n",
       "      <td>0.547870</td>\n",
       "      <td>0</td>\n",
       "      <td>Relaxed</td>\n",
       "    </tr>\n",
       "  </tbody>\n",
       "</table>\n",
       "</div>"
      ],
      "text/plain": [
       "       subj_idx  ovtrlnums   stim        rt  response    state\n",
       "21143      46.0      853.0   Left  4.871518         1   Drowsy\n",
       "21144      46.0      855.0   Left  1.711324         1   Drowsy\n",
       "21145      46.0      857.0  Right  1.241904         0   Drowsy\n",
       "21146      46.0      863.0   Left  0.927672         1  Relaxed\n",
       "21147      46.0      864.0  Right  0.547870         0  Relaxed"
      ]
     },
     "execution_count": 24,
     "metadata": {},
     "output_type": "execute_result"
    }
   ],
   "source": [
    "data_overall.tail()"
   ]
  },
  {
   "cell_type": "code",
   "execution_count": 25,
   "metadata": {},
   "outputs": [],
   "source": [
    "statepurgegrp = ['Relaxed'] #remove this state from the data..\n",
    "behdata = data_overall[~data_overall['state'].isin(statepurgegrp)]"
   ]
  },
  {
   "cell_type": "code",
   "execution_count": 26,
   "metadata": {},
   "outputs": [
    {
     "name": "stdout",
     "output_type": "stream",
     "text": [
      "('maximum rt: ', '4.908807')\n",
      "('minimum rt: ', '0.024684')\n"
     ]
    }
   ],
   "source": [
    "print('maximum rt: ', str(np.max(behdata.rt)))\n",
    "print('minimum rt: ', str(np.min(behdata.rt)))"
   ]
  },
  {
   "cell_type": "code",
   "execution_count": 27,
   "metadata": {},
   "outputs": [
    {
     "data": {
      "text/plain": [
       "array(['Alert', 'Drowsy'], dtype=object)"
      ]
     },
     "execution_count": 27,
     "metadata": {},
     "output_type": "execute_result"
    }
   ],
   "source": [
    "behdata.state.unique()"
   ]
  },
  {
   "cell_type": "code",
   "execution_count": 28,
   "metadata": {},
   "outputs": [
    {
     "data": {
      "text/plain": [
       "array([  2.,   4.,   5.,   6.,   7.,   9.,  10.,  20.,  21.,  22.,  23.,\n",
       "        24.,  25.,  26.,  27.,  28.,  30.,  31.,  32.,  33.,  34.,  35.,\n",
       "        36.,  37.,  38.,  39.,  41.,  42.,  43.,  44.,  45.,  46.])"
      ]
     },
     "execution_count": 28,
     "metadata": {},
     "output_type": "execute_result"
    }
   ],
   "source": [
    "behdata.subj_idx.unique()"
   ]
  },
  {
   "cell_type": "code",
   "execution_count": 29,
   "metadata": {},
   "outputs": [
    {
     "name": "stdout",
     "output_type": "stream",
     "text": [
      "RT mean - Alert:695.152978332\n",
      "RT mean - Drowsy:1181.05468657\n"
     ]
    }
   ],
   "source": [
    "print ('RT mean - Alert:' + str(1000*np.mean(behdata.rt[behdata.state == 'Alert'])))\n",
    "print ('RT mean - Drowsy:' + str(1000*np.mean(behdata.rt[behdata.state == 'Drowsy'])))"
   ]
  },
  {
   "cell_type": "code",
   "execution_count": 30,
   "metadata": {},
   "outputs": [],
   "source": [
    "model_basedir = base_dir + 'decArsousalDecisionmaking_JNeuroscience2021/beh_data/hddm_models'"
   ]
  },
  {
   "cell_type": "code",
   "execution_count": 31,
   "metadata": {},
   "outputs": [
    {
     "data": {
      "text/plain": [
       "'/rds/project/tb419/rds-tb419-bekinschtein/Sri/SpatialAttention_Drowsiness/decArsousalDecisionmaking_JNeuroscience2021/Figures/'"
      ]
     },
     "execution_count": 31,
     "metadata": {},
     "output_type": "execute_result"
    }
   ],
   "source": [
    "fig_dir = base_dir + output_dir\n",
    "fig_dir"
   ]
  },
  {
   "cell_type": "code",
   "execution_count": null,
   "metadata": {},
   "outputs": [],
   "source": []
  },
  {
   "cell_type": "code",
   "execution_count": 32,
   "metadata": {},
   "outputs": [],
   "source": [
    "num_samples = 1500 #10"
   ]
  },
  {
   "cell_type": "code",
   "execution_count": null,
   "metadata": {},
   "outputs": [],
   "source": []
  },
  {
   "cell_type": "code",
   "execution_count": 33,
   "metadata": {},
   "outputs": [
    {
     "name": "stdout",
     "output_type": "stream",
     "text": [
      "\n",
      "modelfile: /rds/project/tb419/rds-tb419-bekinschtein/Sri/SpatialAttention_Drowsiness/decArsousalDecisionmaking_JNeuroscience2021/beh_data/hddm_models/combined_models_py27/model_1/model_1_db \n",
      " already exists..\n",
      "\n",
      "Winning model is model_1\n",
      "('model parms', 'v:', 'state, stim', '--', 'z:', 'stim', '--', 'a:', 'state', '--', 't:', 'state')\n",
      "('model_1', 'DIC 20136.95')\n"
     ]
    }
   ],
   "source": [
    "model_name = 'model_1'          \n",
    "v_pars = {'state','stim'}\n",
    "z_pars = {'stim'}\n",
    "a_pars = {'state'}\n",
    "t_pars = {'state'}\n",
    "tempval = 1\n",
    "model_dir = model_basedir +'/combined_models_py27/' + model_name\n",
    "model_fullname = os.path.join(model_dir, model_name+ '_db')\n",
    "if not os.path.exists(model_fullname):\n",
    "\n",
    "    m = hddm.HDDMStimCoding(behdata, p_outlier = 0.05, stim_col='stim', split_param='v',\n",
    "                            drift_criterion=False, bias=True,\n",
    "                            depends_on={'v':v_pars, 'z':z_pars, 'a':a_pars, 't': t_pars})   \n",
    "    m.find_starting_values()    \n",
    "    samples = num_samples\n",
    "    num_burn = num_samples/10\n",
    "    tracefilename = 'traces_' + str(tempval) + '.db' #'traces.db'\n",
    "    if not os.path.exists(model_dir):\n",
    "           os.makedirs(model_dir)\n",
    "    m.sample(samples, burn=num_burn, thin=3, dbname=os.path.join(model_dir, tracefilename), \n",
    "             db='pickle')\n",
    "    m.savePatch(model_fullname)\n",
    "else:\n",
    "    print('\\nmodelfile: ' + model_fullname + ' \\n already exists..')\n",
    "    if os.path.isfile(model_fullname):\n",
    "        with open(model_fullname, 'rb') as f:\n",
    "                m_load = pickle.load(f)\n",
    "    m = m_load \n",
    "        \n",
    "\n",
    "m_stats = m.gen_stats()\n",
    "print('\\nWinning model is ' + model_name )\n",
    "print('model parms','v:', ', '.join(v_pars), '--',\n",
    "                    'z:', ', '.join(z_pars), '--',\n",
    "                    'a:', ', '.join(a_pars), '--',\n",
    "                    't:', ', '.join(t_pars))\n",
    "print(model_name, 'DIC {0:.2f}'.format(m.dic))"
   ]
  },
  {
   "cell_type": "code",
   "execution_count": null,
   "metadata": {},
   "outputs": [],
   "source": []
  },
  {
   "cell_type": "code",
   "execution_count": null,
   "metadata": {},
   "outputs": [],
   "source": []
  },
  {
   "cell_type": "code",
   "execution_count": 34,
   "metadata": {},
   "outputs": [
    {
     "name": "stdout",
     "output_type": "stream",
     "text": [
      "('P_t(t_Alert > t_Drowsy) = ', 30.444444444444446)\n",
      "('Effect size = ', -0.31896893122599318)\n"
     ]
    },
    {
     "data": {
      "text/plain": [
       "Text(0.5,0.98,'non-decision time')"
      ]
     },
     "execution_count": 34,
     "metadata": {},
     "output_type": "execute_result"
    },
    {
     "data": {
      "image/png": "[encoded data removed]",
      "text/plain": [
       "<Figure size 720x288 with 2 Axes>"
      ]
     },
     "metadata": {},
     "output_type": "display_data"
    }
   ],
   "source": [
    "t_Alert, t_Drowsy = m.nodes_db.node[['t(Alert)', 't(Drowsy)']]\n",
    "fig, ax = plt.subplots(nrows=1, ncols=2, figsize=(10,4))\n",
    "axplot_1 = sns.kdeplot(t_Alert.trace(), shade = True, vertical=False, label = \"Alert\",color = \"r\",linewidth = 2, ax=ax[0])   \n",
    "axplot_1.collections[0].set_alpha(0.5)\n",
    "axplot_2 = sns.kdeplot(t_Drowsy.trace(), shade = True, vertical=False, label = \"Drowsy\", color = \"b\",linewidth = 2,ax=ax[0])\n",
    "axplot_2.collections[0].set_alpha(0.5)\n",
    "axplot_3 = ax[0].legend(['Alert','Drowsy'],loc='upper right',framealpha = 0)\n",
    "ax[0].set(xlabel='non-decision time (a.u.)', ylabel='Posterior density (a.u.)')\n",
    "effect_size = effectsize(t_Alert, t_Drowsy)\n",
    "trace = t_Drowsy.trace() - t_Alert.trace() \n",
    "# axplot = pm.plot_posterior(trace, ref_val=0, point_estimate = None, hdi_prob = 0.95, kind='hist',\n",
    "#                            color='#87ceeb',  ax=ax[1])\n",
    "axplot = pm.plot_posterior(trace, varnames=['diff_of_means'],\n",
    "                  ref_val=0, alpha_level=0.05, kde_plot=False, point_estimate = False,\n",
    "                  color='#87ceeb',  ax=ax[1])\n",
    "axplot.set_title(\"difference\", fontsize = 14, fontweight = 'bold')\n",
    "ax[1].set(xlabel='t difference', ylabel='Posterior density (a.u.)')\n",
    "\n",
    "axplot_1.set_frame_on(False)\n",
    "axplot_1.grid(True)\n",
    "axplot_2.set_frame_on(False)\n",
    "axplot_2.grid(True)\n",
    "\n",
    "print('P_t(t_Alert > t_Drowsy) = ', 100*(t_Alert.trace() > t_Drowsy.trace()).mean())\n",
    "print('Effect size = ', effect_size)\n",
    "plt.suptitle(\"non-decision time\", fontsize = 14, weight = 'bold')"
   ]
  },
  {
   "cell_type": "code",
   "execution_count": null,
   "metadata": {},
   "outputs": [],
   "source": []
  },
  {
   "cell_type": "code",
   "execution_count": null,
   "metadata": {},
   "outputs": [],
   "source": []
  },
  {
   "cell_type": "code",
   "execution_count": 35,
   "metadata": {},
   "outputs": [
    {
     "name": "stdout",
     "output_type": "stream",
     "text": [
      "('P_a(a_Alert > a_Drowsy) = ', 0.0)\n",
      "('Effect size = ', -3.2485688194372777)\n"
     ]
    },
    {
     "data": {
      "text/plain": [
       "Text(0.5,0.98,'boundary')"
      ]
     },
     "execution_count": 35,
     "metadata": {},
     "output_type": "execute_result"
    },
    {
     "data": {
      "image/png": "[encoded data removed]",
      "text/plain": [
       "<Figure size 720x288 with 2 Axes>"
      ]
     },
     "metadata": {},
     "output_type": "display_data"
    }
   ],
   "source": [
    "a_Alert, a_Drowsy = m.nodes_db.node[['a(Alert)', 'a(Drowsy)']]\n",
    "fig, ax = plt.subplots(nrows=1, ncols=2, figsize=(10,4))\n",
    "axplot_1 = sns.kdeplot(a_Alert.trace(), shade = True, vertical=False, label = \"Alert\",color = \"r\",linewidth = 2, ax=ax[0])   \n",
    "axplot_1.collections[0].set_alpha(0.5)\n",
    "axplot_2 = sns.kdeplot(a_Drowsy.trace(), shade = True, vertical=False, label = \"Drowsy\", color = \"b\",linewidth = 2,ax=ax[0])\n",
    "axplot_2.collections[0].set_alpha(0.5)\n",
    "axplot_3 = ax[0].legend(['Alert','Drowsy'],loc='upper right',framealpha = 0)\n",
    "ax[0].set(xlabel='boundary (a.u.)', ylabel='Posterior density (a.u.)')\n",
    "effect_size = effectsize(a_Alert, a_Drowsy)\n",
    "trace = a_Drowsy.trace() - a_Alert.trace() \n",
    "# axplot = pm.plot_posterior(trace, ref_val=0, point_estimate = None, hdi_prob = 0.95, kind='hist',\n",
    "#                            color='#87ceeb',  ax=ax[1])\n",
    "pm.plot_posterior(trace, varnames=['diff_of_means','diff_of_stds', 'effect_size'],\n",
    "                  ref_val=0,point_estimate = False,\n",
    "                  color='#87ceeb', ax=ax[1])\n",
    "axplot.set_title(\"difference\", fontsize = 14, fontweight = 'bold')\n",
    "\n",
    "ax[1].set(xlabel='a difference', ylabel='Posterior density (a.u.)')\n",
    "\n",
    "axplot_1.set_frame_on(False)\n",
    "axplot_1.grid(True)\n",
    "axplot_2.set_frame_on(False)\n",
    "axplot_2.grid(True)\n",
    "\n",
    "print('P_a(a_Alert > a_Drowsy) = ', 100*(a_Alert.trace() > a_Drowsy.trace()).mean())\n",
    "print('Effect size = ', effect_size)\n",
    "plt.suptitle(\"boundary\", fontsize = 14, weight = 'bold')"
   ]
  },
  {
   "cell_type": "code",
   "execution_count": null,
   "metadata": {},
   "outputs": [],
   "source": []
  },
  {
   "cell_type": "code",
   "execution_count": 36,
   "metadata": {},
   "outputs": [
    {
     "name": "stdout",
     "output_type": "stream",
     "text": [
      "('P_z(z_Right > z_Left) = ', 1.5555555555555556)\n",
      "('Effect size = ', 1.5786901472378272)\n"
     ]
    },
    {
     "data": {
      "text/plain": [
       "Text(0.5,0.98,'Bias point')"
      ]
     },
     "execution_count": 36,
     "metadata": {},
     "output_type": "execute_result"
    },
    {
     "data": {
      "image/png": "[encoded data removed]",
      "text/plain": [
       "<Figure size 720x288 with 2 Axes>"
      ]
     },
     "metadata": {},
     "output_type": "display_data"
    }
   ],
   "source": [
    "z_Right, z_Left = m.nodes_db.node[['z(Right)', 'z(Left)']]\n",
    "fig, ax = plt.subplots(nrows=1, ncols=2, figsize=(10,4))\n",
    "axplot_1 = sns.kdeplot(z_Right.trace(), shade = True, vertical=False, label = \"Right\",color = \"lime\",linewidth = 2, ax=ax[0])   \n",
    "axplot_1.collections[0].set_alpha(0.5)\n",
    "axplot_2 = sns.kdeplot(z_Left.trace(), shade = True, vertical=False, label = \"Left\", color = \"gold\",linewidth = 2,ax=ax[0])\n",
    "axplot_2.collections[0].set_alpha(0.5)\n",
    "axplot_3 = ax[0].legend(['Right','Left'],loc='upper right',framealpha = 0)\n",
    "ax[0].set(ylabel='Bias point (a.u.)', xlabel='Posterior density (a.u.)')\n",
    "effect_size = effectsize(z_Left, z_Right)\n",
    "trace = z_Left.trace() - z_Right.trace()\n",
    "# axplot = pm.plot_posterior(trace, ref_val=0, point_estimate = None, hdi_prob = 0.95, kind='hist',\n",
    "#                            color='#87ceeb',  ax=ax[1])\n",
    "pm.plot_posterior(trace, varnames=['diff_of_means','diff_of_stds', 'effect_size'],\n",
    "                  ref_val=0,point_estimate = False,\n",
    "                  color='#87ceeb', ax=ax[1])\n",
    "axplot.set_title(\"difference\", fontsize = 14, fontweight = 'bold')\n",
    "\n",
    "ax[1].set(xlabel='Bias point difference', ylabel='Posterior density (a.u.)')\n",
    "\n",
    "axplot_1.set_frame_on(False)\n",
    "axplot_1.grid(True)\n",
    "axplot_2.set_frame_on(False)\n",
    "axplot_2.grid(True)\n",
    "\n",
    "print('P_z(z_Right > z_Left) = ', 100*(z_Right.trace() > z_Left.trace()).mean())\n",
    "print('Effect size = ', effect_size)\n",
    "plt.suptitle(\"Bias point\", fontsize = 14, weight = 'bold')"
   ]
  },
  {
   "cell_type": "code",
   "execution_count": null,
   "metadata": {},
   "outputs": [],
   "source": []
  },
  {
   "cell_type": "code",
   "execution_count": 37,
   "metadata": {},
   "outputs": [
    {
     "name": "stdout",
     "output_type": "stream",
     "text": [
      "('P_v(v_Alertleft > v_Alertright) = ', 71.555555555555543)\n",
      "('Effect size = ', -0.37735266413939206)\n"
     ]
    },
    {
     "data": {
      "text/plain": [
       "Text(0.5,0.98,'Drift rate (Alert)')"
      ]
     },
     "execution_count": 37,
     "metadata": {},
     "output_type": "execute_result"
    },
    {
     "data": {
      "image/png": "[encoded data removed]",
      "text/plain": [
       "<Figure size 720x288 with 2 Axes>"
      ]
     },
     "metadata": {},
     "output_type": "display_data"
    }
   ],
   "source": [
    "v_Alertright,v_Alertleft = m.nodes_db.node[['v(Alert.Right)','v(Alert.Left)']]\n",
    "fig, ax = plt.subplots(nrows=1, ncols=2, figsize=(10,4))\n",
    "sns.kdeplot(v_Alertright.trace(), shade = True,vertical=False, label = \"v_Alertright\", color = 'lime',linewidth = 2, ax=ax[0])\n",
    "sns.kdeplot(v_Alertleft.trace(), shade = True, vertical=False, label = \"v_Alertleft\", color = 'gold',linewidth = 2, ax=ax[0])\n",
    "ax[0].legend(['Right','Left'],loc='upper right',framealpha = 0)\n",
    "ax[0].set(xlabel='Drift rate (a.u.)', ylabel='Posterior density (a.u.)')\n",
    "effect_size = effectsize(v_Alertright, v_Alertleft)\n",
    "trace = v_Alertright.trace() - v_Alertleft.trace()\n",
    "# axplot = pm.plot_posterior(trace, ref_val=0, point_estimate = None, hdi_prob = 0.95, kind='hist',\n",
    "#                            color='#87ceeb',  ax=ax[1])\n",
    "pm.plot_posterior(trace, varnames=['diff_of_means','diff_of_stds', 'effect_size'],\n",
    "                  ref_val=0,point_estimate = False,\n",
    "                  color='#87ceeb', ax=ax[1])\n",
    "axplot.set_title(\"difference\", fontsize = 14, fontweight = 'bold')\n",
    "\n",
    "ax[1].set(xlabel='Drift rate difference', ylabel='Posterior density (a.u.)')\n",
    "\n",
    "ax[0].set_frame_on(False)\n",
    "ax[0].grid(True)\n",
    "ax[1].set_frame_on(False)\n",
    "ax[1].grid(True)\n",
    "\n",
    "print('P_v(v_Alertleft > v_Alertright) = ', 100*(v_Alertleft.trace() > v_Alertright.trace()).mean())\n",
    "print('Effect size = ', effect_size)\n",
    "plt.suptitle(\"Drift rate (Alert)\", fontsize = 14, weight = 'bold')"
   ]
  },
  {
   "cell_type": "code",
   "execution_count": null,
   "metadata": {},
   "outputs": [],
   "source": []
  },
  {
   "cell_type": "code",
   "execution_count": 38,
   "metadata": {},
   "outputs": [
    {
     "name": "stdout",
     "output_type": "stream",
     "text": [
      "('P_v(v_Drowsyleft > v_Drowsyright) = ', 99.555555555555557)\n",
      "('Effect size = ', -2.0156789744314345)\n"
     ]
    },
    {
     "data": {
      "text/plain": [
       "Text(0.5,0.98,'Drift rate (Drowsy)')"
      ]
     },
     "execution_count": 38,
     "metadata": {},
     "output_type": "execute_result"
    },
    {
     "data": {
      "image/png": "[encoded data removed]",
      "text/plain": [
       "<Figure size 720x288 with 2 Axes>"
      ]
     },
     "metadata": {},
     "output_type": "display_data"
    }
   ],
   "source": [
    "v_Drowsyright,v_Drowsyleft = m.nodes_db.node[['v(Drowsy.Right)','v(Drowsy.Left)']]\n",
    "fig, ax = plt.subplots(nrows=1, ncols=2, figsize=(10,4))\n",
    "sns.kdeplot(v_Drowsyright.trace(), shade = True, vertical=False, label = \"v_Drowsyright\", color = 'lime',linewidth = 2, ax=ax[0])\n",
    "sns.kdeplot(v_Drowsyleft.trace(), shade = True, vertical=False, label = \"v_Drowsyleft\", color = 'gold',linewidth = 2, ax=ax[0])\n",
    "ax[0].legend(['Right','Left'],loc='upper right',framealpha = 0)\n",
    "ax[0].set(xlabel='Drift rate (a.u.)', ylabel='Posterior density (a.u.)')\n",
    "\n",
    "effect_size = effectsize(v_Drowsyright, v_Drowsyleft)\n",
    "trace = v_Drowsyright.trace() - v_Drowsyleft.trace()\n",
    "# axplot = pm.plot_posterior(trace, ref_val=0, point_estimate = None, hdi_prob = 0.95, kind='hist',\n",
    "#                            color='#87ceeb',  ax=ax[1])\n",
    "pm.plot_posterior(trace, varnames=['diff_of_means','diff_of_stds', 'effect_size'],\n",
    "                  ref_val=0,point_estimate = False,\n",
    "                  color='#87ceeb', ax=ax[1])\n",
    "axplot.set_title(\"difference\", fontsize = 14, fontweight = 'bold')\n",
    "\n",
    "ax[1].set(xlabel='Drift rate difference', ylabel='Posterior density (a.u.)')\n",
    "\n",
    "ax[0].set_frame_on(False)\n",
    "ax[0].grid(True)\n",
    "ax[1].set_frame_on(False)\n",
    "ax[1].grid(True)\n",
    "\n",
    "print('P_v(v_Drowsyleft > v_Drowsyright) = ', 100*(v_Drowsyleft.trace() > v_Drowsyright.trace()).mean())\n",
    "print('Effect size = ', effect_size)\n",
    "plt.suptitle(\"Drift rate (Drowsy)\", fontsize = 14, weight = 'bold')"
   ]
  },
  {
   "cell_type": "code",
   "execution_count": null,
   "metadata": {},
   "outputs": [],
   "source": []
  },
  {
   "cell_type": "code",
   "execution_count": 39,
   "metadata": {},
   "outputs": [],
   "source": [
    "# Load all modules..\n",
    "from scipy.io import loadmat\n",
    "from copy import deepcopy\n",
    "from scipy import stats"
   ]
  },
  {
   "cell_type": "code",
   "execution_count": 40,
   "metadata": {},
   "outputs": [],
   "source": [
    "# Load all mne modules..\n",
    "import mne\n",
    "from mne import io, read_epochs, Epochs, read_evokeds, combine_evoked\n",
    "from mne.preprocessing import ICA\n",
    "from mne.decoding import (Vectorizer, SlidingEstimator, GeneralizingEstimator,\n",
    "                          cross_val_multiscore, LinearModel, get_coef)\n",
    "from mne.stats import ttest_1samp_no_p\n",
    "from mne.stats import (spatio_temporal_cluster_1samp_test,\n",
    "                       permutation_cluster_1samp_test)"
   ]
  },
  {
   "cell_type": "code",
   "execution_count": 41,
   "metadata": {},
   "outputs": [
    {
     "name": "stdout",
     "output_type": "stream",
     "text": [
      "mne version: 0.17.0\n"
     ]
    }
   ],
   "source": [
    "print('mne version: ' + mne.__version__)"
   ]
  },
  {
   "cell_type": "code",
   "execution_count": 42,
   "metadata": {},
   "outputs": [],
   "source": [
    "def regressionplot(scores_cond, p_values_cond, times, alpha=5, color = 'r'):\n",
    "    scores = np.array(scores_cond)\n",
    "    sig= p_values_cond < alpha\n",
    "    \n",
    "    scores_m = np.nanmean(scores, axis=0)\n",
    "    sem = 0\n",
    "    fig, ax = plt.subplots(1, 1, figsize=[12, 3])\n",
    "    ax.plot(times, scores_m, 'k',linewidth=1,)\n",
    "    ax.fill_between(times, scores_m-sem, scores_m+sem, color=color, alpha=0.3)\n",
    "    \n",
    "    split_ydata = scores_m\n",
    "    split_ydata[~sig] = np.nan\n",
    "     \n",
    "    #shade the significant regions..\n",
    "    ax.plot(times, split_ydata,color='k', linewidth=3)\n",
    "    ax.fill_between(times, y1=split_ydata, y2=0.5, alpha=0.7, facecolor=color)\n",
    "          \n",
    "    ax.axhline(y=0.5, linewidth=0.75, color='k',linestyle = '--')\n",
    "    ax.axvline(x=0, linewidth=0.75, color='k',linestyle = '--')\n",
    "    \n",
    "    ax.set_xticks([-0.2,-0.1, 0,0.1,0.2,0.3,0.4,0.5,0.6,0.7,0.8]) \n",
    "    ax.axes.xaxis.set_ticklabels(['-0.2','-0.1', '0', '0.1', '0.2','0.3', '0.4','0.5', '0.6','0.7','0.8'])\n",
    "    \n",
    "    class Scratch(object):\n",
    "        pass\n",
    "\n",
    "    returnval = Scratch()\n",
    "    \n",
    "    returnval.axes = ax\n",
    "    returnval.times = times[sig]\n",
    "    returnval.scores = scores_m[sig]\n",
    "    \n",
    "    return returnval"
   ]
  },
  {
   "cell_type": "code",
   "execution_count": 43,
   "metadata": {},
   "outputs": [],
   "source": [
    "def _loadbraindata(subj_id):\n",
    "    # Return eeg data per subject, per channel, per timepoint..\n",
    "    \n",
    "    subject_setfile = inputfolder + \"s_\" + subj_id + \"_awake_drowsy_merged_800ms_posttrl_epochs.set\"\n",
    "    \n",
    "    \n",
    "    epochs = io.read_epochs_eeglab(subject_setfile, events=None, event_id=None, eog=(),\\\n",
    "                                verbose=None, uint16_codec=None)\n",
    "    \n",
    "    #epochs = epochs.resample(100, npad='auto')\n",
    "    \n",
    "    subject_matfile = inputfolder + \"s_\" + subj_id +\"_trialstruc.mat\"\n",
    "        \n",
    "    mat = loadmat(subject_matfile,squeeze_me=True)\n",
    "    \n",
    "    # Rearrange Stimstruct and select indices for dropping zero angle trials..\n",
    "    stimstruct = deepcopy(mat['Stimstruct'])\n",
    "    stimstruct = np.array([s.encode() for s in stimstruct])\n",
    "    stimstruct = stimstruct.astype('U13') #converting to unicode..\n",
    "    \n",
    "    stimangle = deepcopy(mat['Stimangle'])\n",
    "        \n",
    "    ovtrlnums = deepcopy(mat['Ovtrlnums'])\n",
    "    \n",
    "    event_zeAC = np.array(stimstruct == 'zeAC')\n",
    "    event_zeAI = np.array(stimstruct == 'zeAI')\n",
    "    event_zeAN = np.array(stimstruct == 'zeAN')\n",
    "    \n",
    "    event_zeDC = np.array(stimstruct == 'zeDC')\n",
    "    event_zeDI = np.array(stimstruct == 'zeDI')\n",
    "    event_zeDN = np.array(stimstruct == 'zeDN')\n",
    "    \n",
    "    event_zeRC = np.array(stimstruct == 'zeRC')\n",
    "    event_zeRI = np.array(stimstruct == 'zeRI')\n",
    "    event_zeRN = np.array(stimstruct == 'zeRN')\n",
    "    \n",
    "    \n",
    "    event_sel = ~np.array(event_zeAC | event_zeAI | event_zeAN | +\n",
    "                          event_zeDC | event_zeDI | event_zeDN | +\n",
    "                          event_zeRC | event_zeRI | event_zeRN)\n",
    "    \n",
    "    # Remove the zero stim trials in all conditions..\n",
    "    epoch_clean = epochs[event_sel]\n",
    "    stimstruct_clean = stimstruct[event_sel]\n",
    "    stimangle_clean = stimangle[event_sel]\n",
    "    ovtrlnums_clean = ovtrlnums[event_sel]\n",
    "    \n",
    "    X = epoch_clean\n",
    "    x_data = X.get_data()\n",
    "    chan_names = X.info['ch_names']\n",
    "    #time_indexes = X.times\n",
    "    time_indexes = numpy.arange(-0.175, 0.800, 0.05)\n",
    "    \n",
    "    #cut the data from 175 ms to 625 ms to speed up..\n",
    "    #x_data = x_data[:,:,((time_indexes >= 0.175) & (time_indexes <= 0.625))]\n",
    "    #time_indexes = time_indexes[(time_indexes >= 0.175) & (time_indexes <= 0.625)]\n",
    "        \n",
    "    class Scratch(object):\n",
    "        pass\n",
    "\n",
    "    returnval = Scratch()\n",
    "    \n",
    "    returnval.braindata = (10**6) * x_data #scale erp data as it is by default imported in uV\n",
    "    returnval.chan_names = chan_names\n",
    "    returnval.time_indexes = time_indexes\n",
    "    returnval.ovtrialnums = ovtrlnums_clean\n",
    "    returnval.subj_id = int(subj_id)\n",
    "    \n",
    "    return returnval"
   ]
  },
  {
   "cell_type": "code",
   "execution_count": 44,
   "metadata": {},
   "outputs": [],
   "source": [
    "chance = .5\n",
    "alpha = 0.05\n",
    "\n",
    "#adapted from https://github.com/kingjr/decod_unseen_maintenance/blob/master/scripts/base.py\n",
    "#performs stats of the group level..\n",
    "#X is usually nsubj x ntpts -> composed of mean roc scores per subj per timepoint..\n",
    "#performs cluster stats on X to identify regions of tpts that have roc significantly \n",
    "#differ from chance..\n",
    "\n",
    "def _stats(X, connectivity=None, n_jobs=-1):\n",
    "    \"\"\"Cluster statistics to control for multiple comparisons.\n",
    "    Parameters\n",
    "    ----------\n",
    "    X : array, shape (n_samples, n_space, n_times)\n",
    "        The data, chance is assumed to be 0.\n",
    "    connectivity : None | array, shape (n_space, n_times)\n",
    "        The connectivity matrix to apply cluster correction. If None uses\n",
    "        neighboring cells of X.\n",
    "    n_jobs : int\n",
    "        The number of parallel processors.\n",
    "    \"\"\"\n",
    "    n_subjects = len(X)\n",
    "    X = np.array(X)\n",
    "    X = X[:, :, None] if X.ndim == 2 else X\n",
    "    #this functions gets the t-values and performs a cluster permutation test on them to determine\n",
    "    #p-values..\n",
    "    p_threshold = 0.05\n",
    "    t_threshold = -stats.distributions.t.ppf(p_threshold / 2., n_subjects - 1)\n",
    "    T_obs_, clusters, p_values, _ = spatio_temporal_cluster_1samp_test(\n",
    "        X, out_type='mask', stat_fun=_stat_fun, n_permutations=2**12,\n",
    "        n_jobs=n_jobs, connectivity=connectivity,threshold=t_threshold)\n",
    "    p_values_ = np.ones_like(X[0]).T\n",
    "    #rearrange the p-value per cluster..\n",
    "    for cluster, pval in zip(clusters, p_values):\n",
    "        p_values_[cluster.T] = pval\n",
    "    return np.squeeze(p_values_).T\n",
    "\n",
    "def _stat_fun(x, sigma=0, method='relative'):\n",
    "    \"\"\"This secondary function reduces the time of computation of p-values and adjusts for small-variance\n",
    "       values\n",
    "    \"\"\"\n",
    "    t_values = ttest_1samp_no_p(x, sigma=sigma, method=method)\n",
    "    t_values[np.isnan(t_values)] = 0\n",
    "    return t_values"
   ]
  },
  {
   "cell_type": "code",
   "execution_count": 45,
   "metadata": {},
   "outputs": [],
   "source": [
    "inputfolder = base_dir + \"decArsousalDecisionmaking_JNeuroscience2021/Preprocessed/post_trial/13_zscored/\"\n",
    "outputfolder = base_dir + \"decArsousalDecisionmaking_JNeuroscience2021/Results/results_hddmRegression/\""
   ]
  },
  {
   "cell_type": "code",
   "execution_count": 46,
   "metadata": {},
   "outputs": [],
   "source": [
    "# subjects = ['02','04','05','06','07','09','10','20','21','22',\\\n",
    "#             '23','24','25','26','27','28','30','31','32','33',\\\n",
    "#             '34','35','36','37','38','39','41','42','43','44',\\\n",
    "#             '45','46']\n",
    "\n",
    "subjects = ['23','24','25','26','27','28','30','31','32','33']"
   ]
  },
  {
   "cell_type": "code",
   "execution_count": 47,
   "metadata": {},
   "outputs": [
    {
     "name": "stdout",
     "output_type": "stream",
     "text": [
      "23\n",
      "Extracting parameters from /rds/project/tb419/rds-tb419-bekinschtein/Sri/SpatialAttention_Drowsiness/decArsousalDecisionmaking_JNeuroscience2021/Preprocessed/post_trial/13_zscored/s_23_awake_drowsy_merged_800ms_posttrl_epochs.set...\n",
      "746 matching events found\n",
      "No baseline correction applied\n",
      "Not setting metadata\n",
      "0 projection items activated\n",
      "Ready.\n",
      "('Subject:', '23')\n",
      "('ERP data size:', '(724, 92, 20)')\n",
      "('Chan size:', '(92,)')\n",
      "('Overall trials#:', '(724,)')\n",
      "('EEG trials#:', '662')\n",
      "('Beh trials#:', '662')\n",
      "Trial match..\n",
      "('Matched ERP data size:', '(662, 92, 20)')\n",
      "('Matched beh data lenght:', '662')\n",
      "24\n",
      "Extracting parameters from /rds/project/tb419/rds-tb419-bekinschtein/Sri/SpatialAttention_Drowsiness/decArsousalDecisionmaking_JNeuroscience2021/Preprocessed/post_trial/13_zscored/s_24_awake_drowsy_merged_800ms_posttrl_epochs.set...\n",
      "806 matching events found\n",
      "No baseline correction applied\n",
      "Not setting metadata\n",
      "0 projection items activated\n",
      "Ready.\n",
      "('Subject:', '24')\n",
      "('ERP data size:', '(787, 92, 20)')\n",
      "('Chan size:', '(92,)')\n",
      "('Overall trials#:', '(787,)')\n",
      "('EEG trials#:', '423')\n",
      "('Beh trials#:', '423')\n",
      "Trial match..\n",
      "('Matched ERP data size:', '(423, 92, 20)')\n",
      "('Matched beh data lenght:', '423')\n",
      "25\n",
      "Extracting parameters from /rds/project/tb419/rds-tb419-bekinschtein/Sri/SpatialAttention_Drowsiness/decArsousalDecisionmaking_JNeuroscience2021/Preprocessed/post_trial/13_zscored/s_25_awake_drowsy_merged_800ms_posttrl_epochs.set...\n",
      "842 matching events found\n",
      "No baseline correction applied\n",
      "Not setting metadata\n",
      "0 projection items activated\n",
      "Ready.\n",
      "('Subject:', '25')\n",
      "('ERP data size:', '(819, 92, 20)')\n",
      "('Chan size:', '(92,)')\n",
      "('Overall trials#:', '(819,)')\n",
      "('EEG trials#:', '317')\n",
      "('Beh trials#:', '317')\n",
      "Trial match..\n",
      "('Matched ERP data size:', '(317, 92, 20)')\n",
      "('Matched beh data lenght:', '317')\n",
      "26\n",
      "Extracting parameters from /rds/project/tb419/rds-tb419-bekinschtein/Sri/SpatialAttention_Drowsiness/decArsousalDecisionmaking_JNeuroscience2021/Preprocessed/post_trial/13_zscored/s_26_awake_drowsy_merged_800ms_posttrl_epochs.set...\n",
      "838 matching events found\n",
      "No baseline correction applied\n",
      "Not setting metadata\n",
      "0 projection items activated\n",
      "Ready.\n",
      "('Subject:', '26')\n",
      "('ERP data size:', '(815, 92, 20)')\n",
      "('Chan size:', '(92,)')\n",
      "('Overall trials#:', '(815,)')\n",
      "('EEG trials#:', '364')\n",
      "('Beh trials#:', '364')\n",
      "Trial match..\n",
      "('Matched ERP data size:', '(364, 92, 20)')\n",
      "('Matched beh data lenght:', '364')\n",
      "27\n",
      "Extracting parameters from /rds/project/tb419/rds-tb419-bekinschtein/Sri/SpatialAttention_Drowsiness/decArsousalDecisionmaking_JNeuroscience2021/Preprocessed/post_trial/13_zscored/s_27_awake_drowsy_merged_800ms_posttrl_epochs.set...\n",
      "743 matching events found\n",
      "No baseline correction applied\n",
      "Not setting metadata\n",
      "0 projection items activated\n",
      "Ready.\n",
      "('Subject:', '27')\n",
      "('ERP data size:', '(722, 92, 20)')\n",
      "('Chan size:', '(92,)')\n",
      "('Overall trials#:', '(722,)')\n",
      "('EEG trials#:', '124')\n",
      "('Beh trials#:', '124')\n",
      "Trial match..\n",
      "('Matched ERP data size:', '(124, 92, 20)')\n",
      "('Matched beh data lenght:', '124')\n",
      "28\n",
      "Extracting parameters from /rds/project/tb419/rds-tb419-bekinschtein/Sri/SpatialAttention_Drowsiness/decArsousalDecisionmaking_JNeuroscience2021/Preprocessed/post_trial/13_zscored/s_28_awake_drowsy_merged_800ms_posttrl_epochs.set...\n",
      "805 matching events found\n",
      "No baseline correction applied\n",
      "Not setting metadata\n",
      "0 projection items activated\n",
      "Ready.\n",
      "('Subject:', '28')\n",
      "('ERP data size:', '(781, 92, 20)')\n",
      "('Chan size:', '(92,)')\n",
      "('Overall trials#:', '(781,)')\n",
      "('EEG trials#:', '422')\n",
      "('Beh trials#:', '422')\n",
      "Trial match..\n",
      "('Matched ERP data size:', '(422, 92, 20)')\n",
      "('Matched beh data lenght:', '422')\n",
      "30\n",
      "Extracting parameters from /rds/project/tb419/rds-tb419-bekinschtein/Sri/SpatialAttention_Drowsiness/decArsousalDecisionmaking_JNeuroscience2021/Preprocessed/post_trial/13_zscored/s_30_awake_drowsy_merged_800ms_posttrl_epochs.set...\n",
      "782 matching events found\n",
      "No baseline correction applied\n",
      "Not setting metadata\n",
      "0 projection items activated\n",
      "Ready.\n",
      "('Subject:', '30')\n",
      "('ERP data size:', '(759, 92, 20)')\n",
      "('Chan size:', '(92,)')\n",
      "('Overall trials#:', '(759,)')\n",
      "('EEG trials#:', '312')\n",
      "('Beh trials#:', '312')\n",
      "Trial match..\n",
      "('Matched ERP data size:', '(312, 92, 20)')\n",
      "('Matched beh data lenght:', '312')\n",
      "31\n",
      "Extracting parameters from /rds/project/tb419/rds-tb419-bekinschtein/Sri/SpatialAttention_Drowsiness/decArsousalDecisionmaking_JNeuroscience2021/Preprocessed/post_trial/13_zscored/s_31_awake_drowsy_merged_800ms_posttrl_epochs.set...\n",
      "688 matching events found\n",
      "No baseline correction applied\n",
      "Not setting metadata\n",
      "0 projection items activated\n",
      "Ready.\n",
      "('Subject:', '31')\n",
      "('ERP data size:', '(667, 92, 20)')\n",
      "('Chan size:', '(92,)')\n",
      "('Overall trials#:', '(667,)')\n",
      "('EEG trials#:', '253')\n",
      "('Beh trials#:', '253')\n",
      "Trial match..\n",
      "('Matched ERP data size:', '(253, 92, 20)')\n",
      "('Matched beh data lenght:', '253')\n",
      "32\n",
      "Extracting parameters from /rds/project/tb419/rds-tb419-bekinschtein/Sri/SpatialAttention_Drowsiness/decArsousalDecisionmaking_JNeuroscience2021/Preprocessed/post_trial/13_zscored/s_32_awake_drowsy_merged_800ms_posttrl_epochs.set...\n",
      "764 matching events found\n",
      "No baseline correction applied\n",
      "Not setting metadata\n",
      "0 projection items activated\n",
      "Ready.\n",
      "('Subject:', '32')\n",
      "('ERP data size:', '(744, 92, 20)')\n",
      "('Chan size:', '(92,)')\n",
      "('Overall trials#:', '(744,)')\n",
      "('EEG trials#:', '133')\n",
      "('Beh trials#:', '133')\n",
      "Trial match..\n",
      "('Matched ERP data size:', '(133, 92, 20)')\n",
      "('Matched beh data lenght:', '133')\n",
      "33\n",
      "Extracting parameters from /rds/project/tb419/rds-tb419-bekinschtein/Sri/SpatialAttention_Drowsiness/decArsousalDecisionmaking_JNeuroscience2021/Preprocessed/post_trial/13_zscored/s_33_awake_drowsy_merged_800ms_posttrl_epochs.set...\n",
      "615 matching events found\n",
      "No baseline correction applied\n",
      "Not setting metadata\n",
      "0 projection items activated\n",
      "Ready.\n",
      "('Subject:', '33')\n",
      "('ERP data size:', '(597, 92, 20)')\n",
      "('Chan size:', '(92,)')\n",
      "('Overall trials#:', '(597,)')\n",
      "('EEG trials#:', '406')\n",
      "('Beh trials#:', '406')\n",
      "Trial match..\n",
      "('Matched ERP data size:', '(406, 92, 20)')\n",
      "('Matched beh data lenght:', '406')\n"
     ]
    }
   ],
   "source": [
    "#load braindata (eeg per subject)\n",
    "brainstructdata = []\n",
    "matchederpdatastruct = []\n",
    "matchedbehdatastruct = []\n",
    "for s, subject in enumerate(subjects):  # Loop across each subject\n",
    "    print(subject)\n",
    "    brainstructdata.append(_loadbraindata(subject))\n",
    "    \n",
    "    print('Subject:' , str(brainstructdata[s].subj_id))\n",
    "    print('ERP data size:' , str(np.shape(brainstructdata[s].braindata)))\n",
    "    print('Chan size:' , str(np.shape(brainstructdata[s].chan_names)))\n",
    "    print('Overall trials#:' , str(np.shape(brainstructdata[s].ovtrialnums)))\n",
    "    \n",
    "    #now match behavioral and braindata trial numbers per subject\n",
    "    eegtrialnums = brainstructdata[s].ovtrialnums\n",
    "    behtrialnums = behdata.ovtrlnums[behdata['subj_idx'] == brainstructdata[s].subj_id]\n",
    "    eegtrialmask = np.isin(eegtrialnums, behtrialnums)\n",
    "    behtrialmask = np.isin(behtrialnums, eegtrialnums)\n",
    "    \n",
    "    print('EEG trials#:',str(np.sum(eegtrialmask)))\n",
    "    print('Beh trials#:',str(np.sum(behtrialmask)))\n",
    "    \n",
    "    #compute matched trial numbers\n",
    "    matchedbraintrialnums = brainstructdata[s].ovtrialnums[eegtrialmask]\n",
    "    matchedbehtrialnums = behdata.ovtrlnums[behdata['subj_idx'] == brainstructdata[s].subj_id][behtrialmask]\n",
    "    \n",
    "    matchval = matchedbraintrialnums == matchedbehtrialnums\n",
    "    if np.sum(matchval) != np.sum(eegtrialmask):\n",
    "        raise ValueError('Trial mismatch..')\n",
    "    else:\n",
    "        print('Trial match..')\n",
    "    \n",
    "    #takeout the matched erp data..\n",
    "    matchedbraindata = brainstructdata[s].braindata[eegtrialmask,:,:]\n",
    "    print('Matched ERP data size:', str(np.shape(matchedbraindata)))\n",
    "    \n",
    "    #takeout the matched beh data..\n",
    "    matchedbehdata = behdata[behdata['subj_idx'] == brainstructdata[s].subj_id]\n",
    "    matchedbehdata = matchedbehdata[behtrialmask]\n",
    "    print('Matched beh data lenght:', str(len(matchedbehdata)))\n",
    "    \n",
    "    #now append the list..\n",
    "    matchederpdatastruct.append(matchedbraindata)\n",
    "    matchedbehdatastruct.append(matchedbehdata)"
   ]
  },
  {
   "cell_type": "code",
   "execution_count": 48,
   "metadata": {},
   "outputs": [
    {
     "name": "stdout",
     "output_type": "stream",
     "text": [
      "23\n",
      "('summary erp data length:', '(662, 92, 20)')\n",
      "('summary beh data length:', '662')\n",
      "24\n",
      "('summary erp data length:', '(423, 92, 20)')\n",
      "('summary beh data length:', '423')\n",
      "25\n",
      "('summary erp data length:', '(317, 92, 20)')\n",
      "('summary beh data length:', '317')\n",
      "26\n",
      "('summary erp data length:', '(364, 92, 20)')\n",
      "('summary beh data length:', '364')\n",
      "27\n",
      "('summary erp data length:', '(124, 92, 20)')\n",
      "('summary beh data length:', '124')\n",
      "28\n",
      "('summary erp data length:', '(422, 92, 20)')\n",
      "('summary beh data length:', '422')\n",
      "30\n",
      "('summary erp data length:', '(312, 92, 20)')\n",
      "('summary beh data length:', '312')\n",
      "31\n",
      "('summary erp data length:', '(253, 92, 20)')\n",
      "('summary beh data length:', '253')\n",
      "32\n",
      "('summary erp data length:', '(133, 92, 20)')\n",
      "('summary beh data length:', '133')\n",
      "33\n",
      "('summary erp data length:', '(406, 92, 20)')\n",
      "('summary beh data length:', '406')\n"
     ]
    }
   ],
   "source": [
    "for s, subject in enumerate(subjects):  # Loop across each subject\n",
    "    print(subject)\n",
    "    print('summary erp data length:',str(np.shape(matchederpdatastruct[s])))\n",
    "    print('summary beh data length:',str(len(matchedbehdatastruct[s])))"
   ]
  },
  {
   "cell_type": "code",
   "execution_count": 49,
   "metadata": {},
   "outputs": [
    {
     "data": {
      "text/plain": [
       "array([-0.175, -0.125, -0.075, -0.025,  0.025,  0.075,  0.125,  0.175,\n",
       "        0.225,  0.275,  0.325,  0.375,  0.425,  0.475,  0.525,  0.575,\n",
       "        0.625,  0.675,  0.725,  0.775])"
      ]
     },
     "execution_count": 49,
     "metadata": {},
     "output_type": "execute_result"
    }
   ],
   "source": [
    "brainstructdata[0].time_indexes"
   ]
  },
  {
   "cell_type": "code",
   "execution_count": 50,
   "metadata": {},
   "outputs": [
    {
     "data": {
      "text/plain": [
       "20"
      ]
     },
     "execution_count": 50,
     "metadata": {},
     "output_type": "execute_result"
    }
   ],
   "source": [
    "len(brainstructdata[0].time_indexes)"
   ]
  },
  {
   "cell_type": "code",
   "execution_count": 51,
   "metadata": {},
   "outputs": [
    {
     "data": {
      "text/plain": [
       "92"
      ]
     },
     "execution_count": 51,
     "metadata": {},
     "output_type": "execute_result"
    }
   ],
   "source": [
    "len(brainstructdata[0].chan_names)"
   ]
  },
  {
   "cell_type": "code",
   "execution_count": 52,
   "metadata": {},
   "outputs": [
    {
     "name": "stdout",
     "output_type": "stream",
     "text": [
      "Extracting parameters from /rds/project/tb419/rds-tb419-bekinschtein/Sri/SpatialAttention_Drowsiness/decArsousalDecisionmaking_JNeuroscience2021/Preprocessed/post_trial/13_zscored/s_02_awake_drowsy_merged_800ms_posttrl_epochs.set...\n",
      "615 matching events found\n",
      "No baseline correction applied\n",
      "Not setting metadata\n",
      "0 projection items activated\n",
      "Ready.\n"
     ]
    }
   ],
   "source": [
    "sample_setfile = inputfolder + \"s_02\" + \"_awake_drowsy_merged_800ms_posttrl_epochs.set\"\n",
    "sample_epochs = io.read_epochs_eeglab(sample_setfile, events=None, event_id=None, eog=(),\\\n",
    "                                verbose=None, uint16_codec=None)"
   ]
  },
  {
   "cell_type": "code",
   "execution_count": null,
   "metadata": {},
   "outputs": [],
   "source": []
  },
  {
   "cell_type": "code",
   "execution_count": null,
   "metadata": {},
   "outputs": [],
   "source": []
  },
  {
   "cell_type": "code",
   "execution_count": 53,
   "metadata": {},
   "outputs": [],
   "source": [
    "def multi_run_hddmreg(args):\n",
    "    tempargs = args\n",
    "    reg_behdata = tempargs[0]\n",
    "    elidx = tempargs[1]\n",
    "    tidx = tempargs[2]\n",
    "    \n",
    "    #print('\\n\\n elec idx is: ', elidx,'--- tidx idx is: ', tidx, ' \\n')\n",
    "\n",
    "    model_desc = \"v ~ erpval:C(state, Treatment('Alert')):C(stim, Treatment('Right'))\"\n",
    "    #here, the drift rate depends on the erpval and varies with state with 'Alert' as reference level\n",
    "    #and varies with stim with 'Right' as reference level\n",
    "    #best model from before\n",
    "    m_reg = hddm.HDDMRegressor(reg_behdata, model_desc,\n",
    "                               bias=True,\n",
    "                               depends_on={'z':'stim', 'a':'state', 't': 'state'},\n",
    "                               p_outlier = 0.05)\n",
    "\n",
    "    #m_reg.sample(5, burn=1)#For testing purposes..\n",
    "    m_reg.sample(100, burn=20)\n",
    "\n",
    "    #store the results..\n",
    "    alertleft_str = \"v_erpval:C(state, Treatment('Alert'))[Alert]:C(stim, Treatment('Right'))[Left]\"\n",
    "    v_erpAlertleft = m_reg.nodes_db.node[alertleft_str]\n",
    "    alertright_str = \"v_erpval:C(state, Treatment('Alert'))[Alert]:C(stim, Treatment('Right'))[Right]\"\n",
    "    v_erpAlertright = m_reg.nodes_db.node[alertright_str]\n",
    "\n",
    "    drowyleft_str = \"v_erpval:C(state, Treatment('Alert'))[Drowsy]:C(stim, Treatment('Right'))[Left]\"\n",
    "    v_erpDrowsyleft = m_reg.nodes_db.node[drowyleft_str]\n",
    "    drowsyright_str = \"v_erpval:C(state, Treatment('Alert'))[Drowsy]:C(stim, Treatment('Right'))[Right]\"\n",
    "    v_erpDrowsyright = m_reg.nodes_db.node[drowsyright_str]\n",
    "\n",
    "\n",
    "\n",
    "    v_temperpAlertdiff = 100*(v_erpAlertleft.trace() > v_erpAlertright.trace()).mean()\n",
    "    v_temperpDrowsydiff = 100*(v_erpDrowsyleft.trace() > v_erpDrowsyright.trace()).mean()\n",
    "        \n",
    "    \n",
    "    col_names =  ['erpAlertdiff', 'erpDrowsydiff', 'elidx', 'tidx']\n",
    "    data = []\n",
    "    data.append([v_temperpAlertdiff, v_temperpDrowsydiff, elidx, tidx])\n",
    "    v_reg  = pd.DataFrame(data, columns = col_names)\n",
    " \n",
    "    #print('v_erpAlertdiff idx is: ', v_reg['erpAlertdiff'])\n",
    "    #print('v_erpDrowsydiff idx is: ', v_reg['erpDrowsydiff'])\n",
    "    return v_reg"
   ]
  },
  {
   "cell_type": "code",
   "execution_count": 54,
   "metadata": {},
   "outputs": [],
   "source": [
    "#commented lines, 193,194 in hddm_regression.py in site-packages/hddm/models\n",
    "#print(\"Adding these covariates:\")\n",
    "#print(model_descr['params'])"
   ]
  },
  {
   "cell_type": "code",
   "execution_count": 55,
   "metadata": {},
   "outputs": [
    {
     "name": "stdout",
     "output_type": "stream",
     "text": [
      "\n",
      "*******Processing subject: 23*******\n",
      " [-----------------100%-----------------] 100 of 100 complete in 17.8 sec\n",
      "consumed time :0:26:41.195581\n",
      "\n",
      "*******Processing subject: 24*******\n",
      " [-----------------100%-----------------] 100 of 100 complete in 24.7 sec\n",
      "consumed time :0:38:33.453394\n",
      "\n",
      "*******Processing subject: 25*******\n",
      " [-----------------100%-----------------] 100 of 100 complete in 24.9 sec\n",
      "consumed time :0:38:11.511656\n",
      "\n",
      "*******Processing subject: 26*******\n",
      " [-----------------101%-----------------] 101 of 100 complete in 18.9 sec\n",
      "consumed time :0:29:51.598891\n",
      "\n",
      "*******Processing subject: 27*******\n",
      " [-----------------101%-----------------] 101 of 100 complete in 34.1 sec\n",
      "consumed time :0:54:45.409599\n",
      "\n",
      "*******Processing subject: 28*******\n",
      " [-----------------100%-----------------] 100 of 100 complete in 17.8 sec\n",
      "consumed time :0:30:41.256670\n",
      "\n",
      "*******Processing subject: 30*******\n",
      " [-----------------100%-----------------] 100 of 100 complete in 22.1 sec\n",
      "consumed time :0:33:52.144782\n",
      "\n",
      "*******Processing subject: 31*******\n",
      " [-----------------100%-----------------] 100 of 100 complete in 20.8 sec\n",
      "consumed time :0:30:11.253513\n",
      "\n",
      "*******Processing subject: 32*******\n",
      " [-----------------100%-----------------] 100 of 100 complete in 29.3 sec\n",
      "consumed time :0:37:15.243378\n",
      "\n",
      "*******Processing subject: 33*******\n",
      " [-----------------100%-----------------] 100 of 100 complete in 17.0 sec\n",
      "consumed time :0:27:14.361301\n"
     ]
    }
   ],
   "source": [
    "for s, subject in enumerate(subjects):\n",
    "    #initalise variables now..\n",
    "    reg_erpdata = []\n",
    "    reg_behdata = []\n",
    "    v_erpAlertdiff = numpy.empty((len(brainstructdata[0].chan_names),len(brainstructdata[0].time_indexes),))\n",
    "    v_erpDrowsydiff = numpy.empty((len(brainstructdata[0].chan_names),len(brainstructdata[0].time_indexes),))\n",
    "    v_erpAlertdiff[:] = numpy.nan\n",
    "    v_erpDrowsydiff[:] = numpy.nan\n",
    "    \n",
    "    behlist = []\n",
    "    elecidlist = []\n",
    "    timeidlist = []\n",
    "    \n",
    "    multi_result = []\n",
    "\n",
    "    awake_filename = outputfolder + 'patterns/' + subject + '_' + 'awake_patterns_driftrateregression_ave.fif'\n",
    "    drowsy_filename = outputfolder + 'patterns/' + subject + '_' + 'drowsy_patterns_driftrateregression_ave.fif'\n",
    "    \n",
    "    start_time = timeit.default_timer()\n",
    "    \n",
    "    if not (os.path.exists(awake_filename) and os.path.exists(drowsy_filename)):\n",
    "        print ('\\n*******Processing subject: ' + str(subject) + '*******')\n",
    "        for tidx, timeindex in enumerate(brainstructdata[0].time_indexes):#tidx in range(0,1):\n",
    "            for elidx in range(0,len(brainstructdata[0].chan_names)):#range(0,1)\n",
    "           \n",
    "            \n",
    "                tmperpdata =[]\n",
    "                tmpbehdata =[]\n",
    "        \n",
    "                tmpval = matchederpdatastruct[s]\n",
    "                #print (np.shape(tmpval))\n",
    "                tmperpdata.append(tmpval[:,elidx,tidx])\n",
    "                tmpbehdata.append(matchedbehdatastruct[s])\n",
    "                #now prepare for regression..\n",
    "                reg_behdata = pd.concat(tmpbehdata) \n",
    "                reg_erpdata = numpy.concatenate(tmperpdata, axis=0)\n",
    "                reg_behdata['erpval'] = reg_erpdata\n",
    "        \n",
    "        \n",
    "                behlist.append(reg_behdata)\n",
    "                elecidlist.append(elidx)\n",
    "                timeidlist.append(tidx)\n",
    "    \n",
    "        fullist = [x for x in zip(behlist, elecidlist,timeidlist)]\n",
    "        #With multiprocessing (can take a lot of time!)\n",
    "        if __name__ == \"__main__\":\n",
    "            #pool = Pool(len(fullist))\n",
    "            pool = Pool(multiprocessing.cpu_count()-4) \n",
    "            multi_result = pool.map(multi_run_hddmreg,fullist)\n",
    "        \n",
    "        for m in range(0,len(multi_result)):\n",
    "            tempdf = multi_result[m]\n",
    "            elidx = tempdf['elidx'].values[0]\n",
    "            tidx = tempdf['tidx'].values[0]\n",
    "        \n",
    "            v_erpAlertdiff[elidx,tidx] = tempdf['erpAlertdiff'].values[0]\n",
    "            v_erpDrowsydiff[elidx,tidx] = tempdf['erpDrowsydiff'].values[0]\n",
    "        \n",
    "        #save the data now..\n",
    "        prop_overlap_Alert = v_erpAlertdiff\n",
    "        prop_overlap_Drowsy = v_erpDrowsydiff\n",
    "    \n",
    "        nave = 1 # The number of subjects that created this..\n",
    "    \n",
    "        comment = subject + \"_Alert\"\n",
    "        # Create the Evoked object\n",
    "        evoked_Alert = mne.EvokedArray(prop_overlap_Alert, sample_epochs.info, \n",
    "                                       tmin = min(brainstructdata[0].time_indexes),comment=comment, nave=nave)\n",
    "    \n",
    "        evoked_Alert.save(awake_filename)\n",
    "            \n",
    "        comment = subject + \"_Drowsy\"\n",
    "        evoked_Drowsy = mne.EvokedArray(prop_overlap_Drowsy, sample_epochs.info, \n",
    "                                        tmin = min(brainstructdata[0].time_indexes),comment=comment, nave=nave)\n",
    "        evoked_Drowsy.save(drowsy_filename)\n",
    "        \n",
    "    else:\n",
    "        print('\\n*******Skipping subject: ' + str(subject) + '*******')\n",
    "        \n",
    "    # code you want to evaluate\n",
    "    elapsed = timeit.default_timer() - start_time\n",
    "    print('\\nconsumed time :'+ str(datetime.timedelta(seconds=elapsed)))"
   ]
  },
  {
   "cell_type": "code",
   "execution_count": null,
   "metadata": {},
   "outputs": [],
   "source": []
  },
  {
   "cell_type": "code",
   "execution_count": null,
   "metadata": {},
   "outputs": [],
   "source": [
    "print('Script ended at: ' +  time.strftime('%X %x %Z'))"
   ]
  },
  {
   "cell_type": "code",
   "execution_count": null,
   "metadata": {},
   "outputs": [],
   "source": []
  },
  {
   "cell_type": "code",
   "execution_count": null,
   "metadata": {},
   "outputs": [],
   "source": [
    "epochs_fnames = list()\n",
    "for subjidx, subject in enumerate(subjects):  # Loop across each subject\n",
    "    #print subject\n",
    "    fnamepath = outputfolder + 'patterns/' + subject + '_' + 'awake_patterns_driftrateregression_ave.fif'\n",
    "    if os.path.isfile(fnamepath):\n",
    "        epochs_fnames.append(fnamepath)\n",
    "    else:\n",
    "        print \"Skipping file\"\n",
    "    \n",
    "evokeds_alert = [read_evokeds(f, verbose='error')[0] for f in epochs_fnames]\n",
    "mean_evoked_alert = combine_evoked(evokeds_alert, weights=\"equal\")"
   ]
  },
  {
   "cell_type": "code",
   "execution_count": null,
   "metadata": {},
   "outputs": [],
   "source": [
    "brainstructdata[0].time_indexes"
   ]
  },
  {
   "cell_type": "code",
   "execution_count": null,
   "metadata": {},
   "outputs": [],
   "source": [
    "mean_evoked_alert.data = mean_evoked_alert.data/(10**6)\n",
    "mean_evoked_alert.times = brainstructdata[0].time_indexes"
   ]
  },
  {
   "cell_type": "code",
   "execution_count": null,
   "metadata": {},
   "outputs": [],
   "source": [
    "times = [-0.175, -0.125, -0.075, -0.025, 0.025, \n",
    "         0.075, 0.125, 0.175, 0.225, 0.275]\n",
    "#stat annotation\n",
    "time_format = ['-0.20 : -0.15s', '-0.15 : -0.10s', '-0.10 : -0.05s', '-0.05 : 0.00s','0.00 : 0.05s',\\\n",
    "               '0.05 : 0.10s', '0.10 : 0.15s', '0.15 : 0.20s', '0.20 : 0.25s', '0.25 : 0.30s']\n",
    "\n",
    "figw, figh = 20, 4\n",
    "fig, ax = plt.subplots(nrows=1, ncols=len(times)+1, figsize=[figw, 4])\n",
    "\n",
    "cmin =0\n",
    "cmax = 100\n",
    "\n",
    "for idx in range(len(times)):\n",
    "    kwargs = dict(times=times[idx], time_format = time_format[idx],cmap = 'plasma',time_unit='ms', show=False,\n",
    "              contours=6, sensors=False, vmin = cmin, vmax = cmax)\n",
    "    if idx < len(times)-1:\n",
    "        mean_evoked_alert.plot_topomap(axes = ax[idx],colorbar=False,**kwargs)\n",
    "    else:\n",
    "        mean_evoked_alert.plot_topomap(axes = ax[idx],colorbar=True,**kwargs)\n",
    "\n",
    "fig.suptitle('Alert: Mean Drift rate regression',fontsize = 16, fontweight = 'heavy')\n",
    "plt.show()"
   ]
  },
  {
   "cell_type": "code",
   "execution_count": null,
   "metadata": {},
   "outputs": [],
   "source": [
    "times = [0.175, 0.225, 0.275, 0.325, 0.375, \n",
    "         0.425, 0.475, 0.525, 0.575, 0.625]\n",
    "#stat annotation\n",
    "time_format = ['0.15 : 0.20s', '0.20 : 0.25s', '0.25 : 0.30s', '0.30 : 0.35s','0.35 : 0.40s',\\\n",
    "               '0.40 : 0.45s', '0.45 : 0.50s', '0.50 : 0.55s', '0.55 : 0.60s', '0.60 : 0.65s']\n",
    "\n",
    "figw, figh = 20, 4\n",
    "fig, ax = plt.subplots(nrows=1, ncols=len(times)+1, figsize=[figw, 4])\n",
    "\n",
    "cmin =0\n",
    "cmax = 100\n",
    "\n",
    "for idx in range(len(times)):\n",
    "    kwargs = dict(times=times[idx], time_format = time_format[idx],cmap = 'plasma',time_unit='ms', show=False,\n",
    "              contours=6, sensors=False, vmin = cmin, vmax = cmax)\n",
    "    if idx < len(times)-1:\n",
    "        mean_evoked_alert.plot_topomap(axes = ax[idx],colorbar=False,**kwargs)\n",
    "    else:\n",
    "        mean_evoked_alert.plot_topomap(axes = ax[idx],colorbar=True,**kwargs)\n",
    "\n",
    "fig.suptitle('Alert: Mean Drift rate regression',fontsize = 16, fontweight = 'heavy')\n",
    "plt.show()"
   ]
  },
  {
   "cell_type": "code",
   "execution_count": null,
   "metadata": {},
   "outputs": [],
   "source": []
  },
  {
   "cell_type": "code",
   "execution_count": null,
   "metadata": {},
   "outputs": [],
   "source": [
    "epochs_fnames = list()\n",
    "for subjidx, subject in enumerate(subjects):  # Loop across each subject\n",
    "    fnamepath = outputfolder + 'patterns/' + subject + '_' + 'drowsy_patterns_driftrateregression_ave.fif'\n",
    "    if os.path.isfile(fnamepath):\n",
    "        epochs_fnames.append(fnamepath)\n",
    "    else:\n",
    "        print \"Skipping file\"\n",
    "    \n",
    "evokeds_drowsy = [read_evokeds(f, verbose='error')[0] for f in epochs_fnames]\n",
    "mean_evoked_drowsy = combine_evoked(evokeds_drowsy, weights=\"equal\")"
   ]
  },
  {
   "cell_type": "code",
   "execution_count": null,
   "metadata": {},
   "outputs": [],
   "source": [
    "mean_evoked_drowsy.data = mean_evoked_drowsy.data/(10**6)\n",
    "mean_evoked_drowsy.times = brainstructdata[0].time_indexes"
   ]
  },
  {
   "cell_type": "code",
   "execution_count": null,
   "metadata": {},
   "outputs": [],
   "source": [
    "times = [-0.175, -0.125, -0.075, -0.025, 0.025, \n",
    "         0.075, 0.125, 0.175, 0.225, 0.275]\n",
    "#stat annotation\n",
    "time_format = ['-0.20 : -0.15s', '-0.15 : -0.10s', '-0.10 : -0.05s', '-0.05 : 0.00s','0.00 : 0.05s',\\\n",
    "               '0.05 : 0.10s', '0.10 : 0.15s', '0.15 : 0.20s', '0.20 : 0.25s', '0.25 : 0.30s']\n",
    "\n",
    "figw, figh = 20, 4\n",
    "fig, ax = plt.subplots(nrows=1, ncols=len(times)+1, figsize=[figw, 4])\n",
    "\n",
    "cmin =0\n",
    "cmax = 100\n",
    "\n",
    "for idx in range(len(times)):\n",
    "    kwargs = dict(times=times[idx], time_format = time_format[idx],cmap = 'plasma',time_unit='ms', show=False,\n",
    "              contours=6, sensors=False, vmin = cmin, vmax = cmax)\n",
    "    if idx < len(times)-1:\n",
    "        mean_evoked_drowsy.plot_topomap(axes = ax[idx],colorbar=False,**kwargs)\n",
    "    else:\n",
    "        mean_evoked_drowsy.plot_topomap(axes = ax[idx],colorbar=True,**kwargs)\n",
    "\n",
    "fig.suptitle('Drowsy: Mean Drift rate regression',fontsize = 16, fontweight = 'heavy')\n",
    "plt.show()"
   ]
  },
  {
   "cell_type": "code",
   "execution_count": null,
   "metadata": {},
   "outputs": [],
   "source": [
    "times = [0.175, 0.225, 0.275, 0.325, 0.375, \n",
    "         0.425, 0.475, 0.525, 0.575, 0.625]\n",
    "#stat annotation\n",
    "time_format = ['0.15 : 0.20s', '0.20 : 0.25s', '0.25 : 0.30s', '0.30 : 0.35s','0.35 : 0.40s',\\\n",
    "               '0.40 : 0.45s', '0.45 : 0.50s', '0.50 : 0.55s', '0.55 : 0.60s', '0.60 : 0.65s']\n",
    "\n",
    "fig, ax = plt.subplots(nrows=1, ncols=len(times)+1, figsize=[20., 4])\n",
    "\n",
    "cmin =0\n",
    "cmax = 100\n",
    "\n",
    "for idx in range(len(times)):\n",
    "    kwargs = dict(times=times[idx], time_format = time_format[idx],cmap = 'plasma',time_unit='ms', show=False,\n",
    "              contours=6, sensors=False, vmin = cmin, vmax = cmax)\n",
    "    if idx < len(times)-1:\n",
    "        mean_evoked_drowsy.plot_topomap(axes = ax[idx],colorbar=False,**kwargs)\n",
    "    else:\n",
    "        mean_evoked_drowsy.plot_topomap(axes = ax[idx],colorbar=True,**kwargs)\n",
    "\n",
    "fig.suptitle('Drowsy Drift rate regression',fontsize = 16, fontweight = 'heavy')\n",
    "plt.show()"
   ]
  },
  {
   "cell_type": "code",
   "execution_count": null,
   "metadata": {},
   "outputs": [],
   "source": []
  },
  {
   "cell_type": "code",
   "execution_count": null,
   "metadata": {},
   "outputs": [],
   "source": []
  },
  {
   "cell_type": "code",
   "execution_count": null,
   "metadata": {},
   "outputs": [],
   "source": []
  },
  {
   "cell_type": "code",
   "execution_count": null,
   "metadata": {},
   "outputs": [],
   "source": []
  }
 ],
 "metadata": {
  "kernelspec": {
   "display_name": "Python 2",
   "language": "python",
   "name": "python2"
  },
  "language_info": {
   "codemirror_mode": {
    "name": "ipython",
    "version": 2
   },
   "file_extension": ".py",
   "mimetype": "text/x-python",
   "name": "python",
   "nbconvert_exporter": "python",
   "pygments_lexer": "ipython2",
   "version": "2.7.5"
  }
 },
 "nbformat": 4,
 "nbformat_minor": 2
}
